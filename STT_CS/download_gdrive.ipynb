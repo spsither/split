{
 "cells": [
  {
   "cell_type": "code",
   "execution_count": 1,
   "metadata": {},
   "outputs": [],
   "source": [
    "import pandas as pd\n",
    "from pathlib import Path\n",
    "import os\n",
    "import gdown\n",
    "\n",
    "def read_spreadsheet():\n",
    "    SHEET_ID = \"1-WuaaWKIHJfGQhDXVSwG-v2qGqxQYVqqk7lFeHyxEzk\"\n",
    "    url = f\"https://docs.google.com/spreadsheets/d/{SHEET_ID}/gviz/tq?tqx=out:csv\"\n",
    "    df = pd.read_csv(url)\n",
    "    return df"
   ]
  },
  {
   "cell_type": "code",
   "execution_count": 2,
   "metadata": {},
   "outputs": [],
   "source": [
    "spreadsheet = read_spreadsheet()"
   ]
  },
  {
   "cell_type": "code",
   "execution_count": 3,
   "metadata": {},
   "outputs": [
    {
     "data": {
      "text/html": [
       "<div>\n",
       "<style scoped>\n",
       "    .dataframe tbody tr th:only-of-type {\n",
       "        vertical-align: middle;\n",
       "    }\n",
       "\n",
       "    .dataframe tbody tr th {\n",
       "        vertical-align: top;\n",
       "    }\n",
       "\n",
       "    .dataframe thead th {\n",
       "        text-align: right;\n",
       "    }\n",
       "</style>\n",
       "<table border=\"1\" class=\"dataframe\">\n",
       "  <thead>\n",
       "    <tr style=\"text-align: right;\">\n",
       "      <th></th>\n",
       "      <th>Unnamed: 0</th>\n",
       "      <th>Unnamed: 1</th>\n",
       "      <th>འཛིན་གྲྭ 1 During Testing phase this willl pay by working hour (200rs/hr) x</th>\n",
       "      <th>Original Duration</th>\n",
       "      <th>Audio File (Original)</th>\n",
       "      <th>Audio link text</th>\n",
       "      <th>འཛིན་གྲྭ</th>\n",
       "      <th>(Team Leader) Audio in QC checked folder</th>\n",
       "      <th>Accounting Month</th>\n",
       "      <th>Team</th>\n",
       "      <th>Added in Prodegy</th>\n",
       "      <th>Corrected File Name (name without mistake)</th>\n",
       "      <th>Sr. no.</th>\n",
       "      <th>Unnamed: 13</th>\n",
       "      <th>Unnamed: 14</th>\n",
       "      <th>Unnamed: 15</th>\n",
       "    </tr>\n",
       "  </thead>\n",
       "  <tbody>\n",
       "    <tr>\n",
       "      <th>0</th>\n",
       "      <td>NaN</td>\n",
       "      <td>NaN</td>\n",
       "      <td>1687</td>\n",
       "      <td>555:53:26</td>\n",
       "      <td>1519</td>\n",
       "      <td>NaN</td>\n",
       "      <td>NaN</td>\n",
       "      <td>1738</td>\n",
       "      <td>NaN</td>\n",
       "      <td>NaN</td>\n",
       "      <td>NaN</td>\n",
       "      <td>NaN</td>\n",
       "      <td>NaN</td>\n",
       "      <td>NaN</td>\n",
       "      <td>NaN</td>\n",
       "      <td>NaN</td>\n",
       "    </tr>\n",
       "    <tr>\n",
       "      <th>1</th>\n",
       "      <td>25-Apr-2023</td>\n",
       "      <td>Pema</td>\n",
       "      <td>STT_CS-D-2013-M-D-B06-4-R-03</td>\n",
       "      <td>00:01:35</td>\n",
       "      <td>STT_CS-D-2013-M-D-B06-4-R-03</td>\n",
       "      <td>NaN</td>\n",
       "      <td>འཛིན་གྲྭ 4</td>\n",
       "      <td>ek</td>\n",
       "      <td>March 26 - April 25</td>\n",
       "      <td>A. Phurbu</td>\n",
       "      <td>True</td>\n",
       "      <td>NaN</td>\n",
       "      <td>43.0</td>\n",
       "      <td>NaN</td>\n",
       "      <td>NaN</td>\n",
       "      <td>NaN</td>\n",
       "    </tr>\n",
       "    <tr>\n",
       "      <th>2</th>\n",
       "      <td>27-Apr-2023</td>\n",
       "      <td>Pema</td>\n",
       "      <td>STT_CS-D-2018-M-D-B02-0-R-01</td>\n",
       "      <td>00:04:21</td>\n",
       "      <td>STT_CS-D-2018-M-D-B02-0-R-01</td>\n",
       "      <td>NaN</td>\n",
       "      <td>སྔོན་འགྲོ</td>\n",
       "      <td>ek</td>\n",
       "      <td>April 26 - May 25</td>\n",
       "      <td>A. Phurbu</td>\n",
       "      <td>True</td>\n",
       "      <td>NaN</td>\n",
       "      <td>44.0</td>\n",
       "      <td>NaN</td>\n",
       "      <td>NaN</td>\n",
       "      <td>NaN</td>\n",
       "    </tr>\n",
       "    <tr>\n",
       "      <th>3</th>\n",
       "      <td>27-Apr-2023</td>\n",
       "      <td>Pema</td>\n",
       "      <td>STT_CS-D-2017-P-D-B02-0-Y-01</td>\n",
       "      <td>00:02:27</td>\n",
       "      <td>STT_CS-D-2017-P-D-B02-0-Y-01</td>\n",
       "      <td>NaN</td>\n",
       "      <td>སྔོན་འགྲོ</td>\n",
       "      <td>pt</td>\n",
       "      <td>April 26 - May 25</td>\n",
       "      <td>B. TenChoeku</td>\n",
       "      <td>True</td>\n",
       "      <td>NaN</td>\n",
       "      <td>45.0</td>\n",
       "      <td>NaN</td>\n",
       "      <td>NaN</td>\n",
       "      <td>NaN</td>\n",
       "    </tr>\n",
       "    <tr>\n",
       "      <th>4</th>\n",
       "      <td>27-Apr-2023</td>\n",
       "      <td>Pema</td>\n",
       "      <td>STT_CS-D-2017-P-D-B02-0-Y-02</td>\n",
       "      <td>00:03:38</td>\n",
       "      <td>STT_CS-D-2017-P-D-B02-0-Y-02</td>\n",
       "      <td>NaN</td>\n",
       "      <td>སྔོན་འགྲོ</td>\n",
       "      <td>pt</td>\n",
       "      <td>April 26 - May 25</td>\n",
       "      <td>B. TenChoeku</td>\n",
       "      <td>True</td>\n",
       "      <td>NaN</td>\n",
       "      <td>46.0</td>\n",
       "      <td>NaN</td>\n",
       "      <td>NaN</td>\n",
       "      <td>NaN</td>\n",
       "    </tr>\n",
       "  </tbody>\n",
       "</table>\n",
       "</div>"
      ],
      "text/plain": [
       "    Unnamed: 0 Unnamed: 1  \\\n",
       "0          NaN        NaN   \n",
       "1  25-Apr-2023       Pema   \n",
       "2  27-Apr-2023       Pema   \n",
       "3  27-Apr-2023       Pema   \n",
       "4  27-Apr-2023       Pema   \n",
       "\n",
       "  འཛིན་གྲྭ 1 During Testing phase this willl pay by working hour (200rs/hr) x  \\\n",
       "0                                               1687                            \n",
       "1                       STT_CS-D-2013-M-D-B06-4-R-03                            \n",
       "2                       STT_CS-D-2018-M-D-B02-0-R-01                            \n",
       "3                       STT_CS-D-2017-P-D-B02-0-Y-01                            \n",
       "4                       STT_CS-D-2017-P-D-B02-0-Y-02                            \n",
       "\n",
       "  Original Duration         Audio File (Original) Audio link text   འཛིན་གྲྭ   \\\n",
       "0         555:53:26                          1519             NaN         NaN   \n",
       "1          00:01:35  STT_CS-D-2013-M-D-B06-4-R-03             NaN  འཛིན་གྲྭ 4   \n",
       "2          00:04:21  STT_CS-D-2018-M-D-B02-0-R-01             NaN   སྔོན་འགྲོ   \n",
       "3          00:02:27  STT_CS-D-2017-P-D-B02-0-Y-01             NaN   སྔོན་འགྲོ   \n",
       "4          00:03:38  STT_CS-D-2017-P-D-B02-0-Y-02             NaN   སྔོན་འགྲོ   \n",
       "\n",
       "  (Team Leader) Audio in QC checked folder     Accounting Month   \\\n",
       "0                                      1738                  NaN   \n",
       "1                                        ek  March 26 - April 25   \n",
       "2                                        ek    April 26 - May 25   \n",
       "3                                        pt    April 26 - May 25   \n",
       "4                                        pt    April 26 - May 25   \n",
       "\n",
       "          Team  Added in Prodegy  Corrected File Name (name without mistake)  \\\n",
       "0           NaN               NaN                                        NaN   \n",
       "1     A. Phurbu              True                                        NaN   \n",
       "2     A. Phurbu              True                                        NaN   \n",
       "3  B. TenChoeku              True                                        NaN   \n",
       "4  B. TenChoeku              True                                        NaN   \n",
       "\n",
       "   Sr. no.   Unnamed: 13  Unnamed: 14  Unnamed: 15  \n",
       "0       NaN          NaN          NaN          NaN  \n",
       "1      43.0          NaN          NaN          NaN  \n",
       "2      44.0          NaN          NaN          NaN  \n",
       "3      45.0          NaN          NaN          NaN  \n",
       "4      46.0          NaN          NaN          NaN  "
      ]
     },
     "execution_count": 3,
     "metadata": {},
     "output_type": "execute_result"
    }
   ],
   "source": [
    "spreadsheet.head()"
   ]
  },
  {
   "cell_type": "code",
   "execution_count": 4,
   "metadata": {},
   "outputs": [
    {
     "data": {
      "text/plain": [
       "Index(['Unnamed: 0', 'Unnamed: 1',\n",
       "       'འཛིན་གྲྭ 1 During Testing phase this willl pay by working hour (200rs/hr) x',\n",
       "       'Original Duration', 'Audio File (Original)', 'Audio link text',\n",
       "       'འཛིན་གྲྭ ', '(Team Leader) Audio in QC checked folder ',\n",
       "       'Accounting Month ', 'Team ', 'Added in Prodegy ',\n",
       "       'Corrected File Name (name without mistake)', 'Sr. no. ', 'Unnamed: 13',\n",
       "       'Unnamed: 14', 'Unnamed: 15'],\n",
       "      dtype='object')"
      ]
     },
     "execution_count": 4,
     "metadata": {},
     "output_type": "execute_result"
    }
   ],
   "source": [
    "spreadsheet.columns"
   ]
  },
  {
   "cell_type": "code",
   "execution_count": 5,
   "metadata": {},
   "outputs": [
    {
     "data": {
      "text/plain": [
       "0                                                     NaN\n",
       "1                                                     NaN\n",
       "2                                                     NaN\n",
       "3                                                     NaN\n",
       "4                                                     NaN\n",
       "                              ...                        \n",
       "1322    https://drive.google.com/file/d/1UpBDrTWUulG8o...\n",
       "1323    https://drive.google.com/file/d/1pzZ34IKo9L-Cw...\n",
       "1324    https://drive.google.com/file/d/1cSc82CMkX6jdU...\n",
       "1325    https://drive.google.com/file/d/1VFqMt3JZQXjgP...\n",
       "1326    https://drive.google.com/file/d/1PnLxfmMSBM9BG...\n",
       "Name: Audio link text, Length: 1327, dtype: object"
      ]
     },
     "execution_count": 5,
     "metadata": {},
     "output_type": "execute_result"
    }
   ],
   "source": [
    "spreadsheet['Audio link text']"
   ]
  },
  {
   "cell_type": "code",
   "execution_count": 7,
   "metadata": {},
   "outputs": [
    {
     "name": "stdout",
     "output_type": "stream",
     "text": [
      "https://drive.google.com/file/d/1EPc3Z4HqaFhi0j-Jg5gOBP-FV9h9zu-o/view?usp=drive_link\n"
     ]
    },
    {
     "name": "stderr",
     "output_type": "stream",
     "text": [
      "Downloading...\n",
      "From: https://drive.google.com/uc?id=1EPc3Z4HqaFhi0j-Jg5gOBP-FV9h9zu-o\n",
      "To: /media/monlamai/FEEE31DEEE31903F/split/STT_CS/full_audio/STT_CS-L-2017_2017-P_P-D_D-B04_B04-1_1-R_R-01.mp3\n",
      "100%|██████████| 23.6M/23.6M [00:01<00:00, 12.5MB/s]\n"
     ]
    },
    {
     "name": "stdout",
     "output_type": "stream",
     "text": [
      "https://drive.google.com/file/d/1eOuTaol2e5NzOPFkqhE7TMpl_lY1zryN/view?usp=drive_link\n"
     ]
    },
    {
     "name": "stderr",
     "output_type": "stream",
     "text": [
      "Downloading...\n",
      "From: https://drive.google.com/uc?id=1eOuTaol2e5NzOPFkqhE7TMpl_lY1zryN\n",
      "To: /media/monlamai/FEEE31DEEE31903F/split/STT_CS/full_audio/STT_CS-D-2017-M-D-B04-1-R-10.mp3\n",
      "100%|██████████| 9.50M/9.50M [00:01<00:00, 7.64MB/s]\n"
     ]
    },
    {
     "name": "stdout",
     "output_type": "stream",
     "text": [
      "https://drive.google.com/file/d/1Ibapmjcb-QL_LBMG39nYxWaT-sNAvM9A/view?usp=drive_link\n"
     ]
    },
    {
     "name": "stderr",
     "output_type": "stream",
     "text": [
      "Downloading...\n",
      "From: https://drive.google.com/uc?id=1Ibapmjcb-QL_LBMG39nYxWaT-sNAvM9A\n",
      "To: /media/monlamai/FEEE31DEEE31903F/split/STT_CS/full_audio/STT_CS-D-2017-P-D-B01-1-R-05.mp3\n",
      "100%|██████████| 11.0M/11.0M [00:01<00:00, 9.32MB/s]\n"
     ]
    },
    {
     "name": "stdout",
     "output_type": "stream",
     "text": [
      "https://drive.google.com/file/d/1EP94IPivYY704rwK-YWQOQglxVMYiDLj/view?usp=drive_link\n"
     ]
    },
    {
     "name": "stderr",
     "output_type": "stream",
     "text": [
      "Downloading...\n",
      "From: https://drive.google.com/uc?id=1EP94IPivYY704rwK-YWQOQglxVMYiDLj\n",
      "To: /media/monlamai/FEEE31DEEE31903F/split/STT_CS/full_audio/STT_CS-D-2018-M-D-B04-1-R-11.mp3\n",
      "100%|██████████| 6.22M/6.22M [00:00<00:00, 8.20MB/s]\n"
     ]
    },
    {
     "name": "stdout",
     "output_type": "stream",
     "text": [
      "https://drive.google.com/file/d/1NJ2e92nVrBKKkFrKvtrhPn66XVSVpy05/view?usp=drive_link\n"
     ]
    },
    {
     "name": "stderr",
     "output_type": "stream",
     "text": [
      "Downloading...\n",
      "From: https://drive.google.com/uc?id=1NJ2e92nVrBKKkFrKvtrhPn66XVSVpy05\n",
      "To: /media/monlamai/FEEE31DEEE31903F/split/STT_CS/full_audio/STT_CS-D-2015-P-D-B02-2-R-04.mp3\n",
      "100%|██████████| 31.0M/31.0M [00:02<00:00, 11.2MB/s]\n"
     ]
    },
    {
     "name": "stdout",
     "output_type": "stream",
     "text": [
      "https://drive.google.com/file/d/14igWkNQzmgKwfDEhup6ISbFMB-hjhT3_/view?usp=drive_link\n"
     ]
    },
    {
     "name": "stderr",
     "output_type": "stream",
     "text": [
      "Downloading...\n",
      "From: https://drive.google.com/uc?id=14igWkNQzmgKwfDEhup6ISbFMB-hjhT3_\n",
      "To: /media/monlamai/FEEE31DEEE31903F/split/STT_CS/full_audio/STT_CS-L-2016_2015-M_M-D_D-B02_B01-2_2-R_R-01.mp3\n",
      "100%|██████████| 57.5M/57.5M [00:05<00:00, 11.4MB/s]\n"
     ]
    },
    {
     "name": "stdout",
     "output_type": "stream",
     "text": [
      "https://drive.google.com/file/d/1xx8MPjtrHmcavoYKFsEf9wJwQZm42kj-/view?usp=drive_link\n"
     ]
    },
    {
     "name": "stderr",
     "output_type": "stream",
     "text": [
      "Downloading...\n",
      "From: https://drive.google.com/uc?id=1xx8MPjtrHmcavoYKFsEf9wJwQZm42kj-\n",
      "To: /media/monlamai/FEEE31DEEE31903F/split/STT_CS/full_audio/STT_CS-L-2017_2017-M_M-D_D-B01_B01-1_1-R_R-01.mp3\n",
      "100%|██████████| 22.9M/22.9M [00:02<00:00, 10.5MB/s]\n"
     ]
    },
    {
     "name": "stdout",
     "output_type": "stream",
     "text": [
      "https://drive.google.com/file/d/1W3EOOAG67XZjHz4nP6rah6Mucgsjdj9Q/view?usp=drive_link\n"
     ]
    },
    {
     "name": "stderr",
     "output_type": "stream",
     "text": [
      "Downloading...\n",
      "From: https://drive.google.com/uc?id=1W3EOOAG67XZjHz4nP6rah6Mucgsjdj9Q\n",
      "To: /media/monlamai/FEEE31DEEE31903F/split/STT_CS/full_audio/STT_CS-D-2012-M-D-B09-6-R-02.mp3\n",
      "100%|██████████| 16.0M/16.0M [00:01<00:00, 9.75MB/s]\n"
     ]
    },
    {
     "name": "stdout",
     "output_type": "stream",
     "text": [
      "https://drive.google.com/file/d/1H2nZC5jh2CgSnbDnpI2xs_YUwM8wZrL9/view?usp=drive_link\n"
     ]
    },
    {
     "name": "stderr",
     "output_type": "stream",
     "text": [
      "Downloading...\n",
      "From: https://drive.google.com/uc?id=1H2nZC5jh2CgSnbDnpI2xs_YUwM8wZrL9\n",
      "To: /media/monlamai/FEEE31DEEE31903F/split/STT_CS/full_audio/STT_CS-D-2015-M-D-B02-2-R-05.mp3\n",
      "100%|██████████| 10.7M/10.7M [00:01<00:00, 8.90MB/s]\n"
     ]
    },
    {
     "name": "stdout",
     "output_type": "stream",
     "text": [
      "https://drive.google.com/file/d/1L_RYD-MQwcPbZDQVQLJnjtCFgHS6_PzL/view?usp=drive_link\n"
     ]
    },
    {
     "name": "stderr",
     "output_type": "stream",
     "text": [
      "Downloading...\n",
      "From: https://drive.google.com/uc?id=1L_RYD-MQwcPbZDQVQLJnjtCFgHS6_PzL\n",
      "To: /media/monlamai/FEEE31DEEE31903F/split/STT_CS/full_audio/STT_CS-D-2016-M-D-B01-2-R-01.mp3\n",
      "100%|██████████| 10.5M/10.5M [00:01<00:00, 9.05MB/s]\n"
     ]
    },
    {
     "name": "stdout",
     "output_type": "stream",
     "text": [
      "https://drive.google.com/file/d/1PHLcD_7HanPGlxC5iHxUImdO9TYxVNG1/view?usp=drive_link\n"
     ]
    },
    {
     "name": "stderr",
     "output_type": "stream",
     "text": [
      "Downloading...\n",
      "From: https://drive.google.com/uc?id=1PHLcD_7HanPGlxC5iHxUImdO9TYxVNG1\n",
      "To: /media/monlamai/FEEE31DEEE31903F/split/STT_CS/full_audio/STT_CS-D-2016-M-D-B02-2-R-11.mp3\n",
      "100%|██████████| 4.35M/4.35M [00:00<00:00, 6.26MB/s]\n"
     ]
    },
    {
     "name": "stdout",
     "output_type": "stream",
     "text": [
      "https://drive.google.com/file/d/174NMYGnmtv5a7F5T7relvEz5GdY7lZ_g/view?usp=drive_link\n"
     ]
    },
    {
     "name": "stderr",
     "output_type": "stream",
     "text": [
      "Downloading...\n",
      "From: https://drive.google.com/uc?id=174NMYGnmtv5a7F5T7relvEz5GdY7lZ_g\n",
      "To: /media/monlamai/FEEE31DEEE31903F/split/STT_CS/full_audio/STT_CS-D-2016-M-D-B02-2-R-12.mp3\n",
      "100%|██████████| 14.8M/14.8M [00:01<00:00, 9.57MB/s]\n"
     ]
    },
    {
     "name": "stdout",
     "output_type": "stream",
     "text": [
      "https://drive.google.com/file/d/1tiHjr5TSf-wu1MqaG194ZlxUXDaFoYpC/view?usp=drive_link\n"
     ]
    },
    {
     "name": "stderr",
     "output_type": "stream",
     "text": [
      "Downloading...\n",
      "From: https://drive.google.com/uc?id=1tiHjr5TSf-wu1MqaG194ZlxUXDaFoYpC\n",
      "To: /media/monlamai/FEEE31DEEE31903F/split/STT_CS/full_audio/STT_CS-D-2016-M-D-B02-2-R-13.mp3\n",
      "100%|██████████| 15.0M/15.0M [00:01<00:00, 10.2MB/s]\n"
     ]
    },
    {
     "name": "stdout",
     "output_type": "stream",
     "text": [
      "https://drive.google.com/file/d/1OUcIy_WMgfMUp0S6mWYQ-Ey2uiMUFZ1Z/view?usp=drive_link\n"
     ]
    },
    {
     "name": "stderr",
     "output_type": "stream",
     "text": [
      "Downloading...\n",
      "From: https://drive.google.com/uc?id=1OUcIy_WMgfMUp0S6mWYQ-Ey2uiMUFZ1Z\n",
      "To: /media/monlamai/FEEE31DEEE31903F/split/STT_CS/full_audio/STT_CS-D-2016-P-D-B01-1-R-01.mp3\n",
      "100%|██████████| 8.81M/8.81M [00:01<00:00, 8.80MB/s]\n"
     ]
    },
    {
     "name": "stdout",
     "output_type": "stream",
     "text": [
      "https://drive.google.com/file/d/1P5FHhtjNTPet1HoJEbzq-NFMIKOSgLP8/view?usp=drive_link\n"
     ]
    },
    {
     "name": "stderr",
     "output_type": "stream",
     "text": [
      "Downloading...\n",
      "From: https://drive.google.com/uc?id=1P5FHhtjNTPet1HoJEbzq-NFMIKOSgLP8\n",
      "To: /media/monlamai/FEEE31DEEE31903F/split/STT_CS/full_audio/STT_CS-D-2016-P-D-B02-2-R-09.mp3\n",
      "100%|██████████| 7.12M/7.12M [00:00<00:00, 8.35MB/s]\n"
     ]
    }
   ],
   "source": [
    "def download_audio(gd_url):\n",
    "    print(gd_url)\n",
    "    # gdown.download(gd_url, output_file, quiet=False)\n",
    "    file_id = gd_url.split(\"/\")[-2] if \"drive.google.com\" in gd_url else gd_url\n",
    "    # Download the file\n",
    "    gdown.download(f\"https://drive.google.com/uc?id={file_id}\", output=\"full_audio/\", quiet=False)\n",
    "\n",
    "        \n",
    "# https://drive.google.com/file/d/15IyTrnoUM39L5MjfBRq1EcCEUpt-ecwH/view?usp=share_link\n",
    "if __name__ == \"__main__\":\n",
    "    spreadsheet = read_spreadsheet()\n",
    "    # print(spreadsheet)\n",
    "    \n",
    "    for index, row in spreadsheet.iterrows():\n",
    "        gd_url = row['Audio link text']\n",
    "        id = row['Sr. no. ']\n",
    "        # print(id)\n",
    "        # print(isinstance(gd_url, str), isinstance(id, str))\n",
    "        # if not isinstance(gd_url, str) or not isinstance(id, str):\n",
    "        #     continue\n",
    "        if id >= 433 and id <= 447:\n",
    "            # print(id, gd_url)\n",
    "            download_audio(gd_url)\n"
   ]
  },
  {
   "cell_type": "code",
   "execution_count": 8,
   "metadata": {},
   "outputs": [],
   "source": [
    "source_directories = [dir_name for dir_name in os.listdir(\"after_split\") if dir_name.startswith(\"STT_CS\") and os.path.isdir(os.path.join(\"after_split\", dir_name))]"
   ]
  },
  {
   "cell_type": "code",
   "execution_count": 9,
   "metadata": {},
   "outputs": [
    {
     "data": {
      "text/plain": [
       "['STT_CS-D-2012-M-D-B09-6-R-02',\n",
       " 'STT_CS-D-2015-M-D-B02-2-R-05',\n",
       " 'STT_CS-D-2015-P-D-B02-2-R-04',\n",
       " 'STT_CS-D-2016-M-D-B01-2-R-01',\n",
       " 'STT_CS-D-2016-M-D-B02-2-R-11',\n",
       " 'STT_CS-D-2016-M-D-B02-2-R-12',\n",
       " 'STT_CS-D-2016-M-D-B02-2-R-13',\n",
       " 'STT_CS-D-2016-P-D-B01-1-R-01',\n",
       " 'STT_CS-D-2016-P-D-B02-2-R-09',\n",
       " 'STT_CS-D-2017-M-D-B04-1-R-10',\n",
       " 'STT_CS-D-2017-P-D-B01-1-R-05',\n",
       " 'STT_CS-D-2018-M-D-B04-1-R-11',\n",
       " 'STT_CS-L-2016_2015-M_M-D_D-B02_B01-2_2-R_R-01',\n",
       " 'STT_CS-L-2017_2017-M_M-D_D-B01_B01-1_1-R_R-01',\n",
       " 'STT_CS-L-2017_2017-P_P-D_D-B04_B04-1_1-R_R-01']"
      ]
     },
     "execution_count": 9,
     "metadata": {},
     "output_type": "execute_result"
    }
   ],
   "source": [
    "source_directories"
   ]
  },
  {
   "cell_type": "code",
   "execution_count": null,
   "metadata": {},
   "outputs": [],
   "source": []
  }
 ],
 "metadata": {
  "kernelspec": {
   "display_name": ".env",
   "language": "python",
   "name": "python3"
  },
  "language_info": {
   "codemirror_mode": {
    "name": "ipython",
    "version": 3
   },
   "file_extension": ".py",
   "mimetype": "text/x-python",
   "name": "python",
   "nbconvert_exporter": "python",
   "pygments_lexer": "ipython3",
   "version": "3.10.12"
  },
  "orig_nbformat": 4
 },
 "nbformat": 4,
 "nbformat_minor": 2
}
