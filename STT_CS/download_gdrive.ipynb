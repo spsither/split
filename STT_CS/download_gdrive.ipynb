{
 "cells": [
  {
   "cell_type": "code",
   "execution_count": 18,
   "metadata": {},
   "outputs": [],
   "source": [
    "import pandas as pd\n",
    "from pathlib import Path\n",
    "import os\n",
    "import gdown\n",
    "\n",
    "def read_spreadsheet():\n",
    "    SHEET_ID = \"1-WuaaWKIHJfGQhDXVSwG-v2qGqxQYVqqk7lFeHyxEzk\"\n",
    "    url = f\"https://docs.google.com/spreadsheets/d/{SHEET_ID}/gviz/tq?tqx=out:csv\"\n",
    "    df = pd.read_csv(url)\n",
    "    return df"
   ]
  },
  {
   "cell_type": "code",
   "execution_count": 19,
   "metadata": {},
   "outputs": [],
   "source": [
    "spreadsheet = read_spreadsheet()"
   ]
  },
  {
   "cell_type": "code",
   "execution_count": 20,
   "metadata": {},
   "outputs": [
    {
     "data": {
      "text/html": [
       "<div>\n",
       "<style scoped>\n",
       "    .dataframe tbody tr th:only-of-type {\n",
       "        vertical-align: middle;\n",
       "    }\n",
       "\n",
       "    .dataframe tbody tr th {\n",
       "        vertical-align: top;\n",
       "    }\n",
       "\n",
       "    .dataframe thead th {\n",
       "        text-align: right;\n",
       "    }\n",
       "</style>\n",
       "<table border=\"1\" class=\"dataframe\">\n",
       "  <thead>\n",
       "    <tr style=\"text-align: right;\">\n",
       "      <th></th>\n",
       "      <th>Unnamed: 0</th>\n",
       "      <th>Unnamed: 1</th>\n",
       "      <th>འཛིན་གྲྭ 1 During Testing phase this willl pay by working hour (200rs/hr) x</th>\n",
       "      <th>Original Duration</th>\n",
       "      <th>Audio File (Original)</th>\n",
       "      <th>Audio link text</th>\n",
       "      <th>འཛིན་གྲྭ</th>\n",
       "      <th>(Team Leader) Audio in QC checked folder</th>\n",
       "      <th>Accounting Month</th>\n",
       "      <th>Team</th>\n",
       "      <th>Added in Prodegy</th>\n",
       "      <th>Corrected File Name (name without mistake)</th>\n",
       "      <th>Sr. no.</th>\n",
       "      <th>Unnamed: 13</th>\n",
       "      <th>Unnamed: 14</th>\n",
       "      <th>Unnamed: 15</th>\n",
       "    </tr>\n",
       "  </thead>\n",
       "  <tbody>\n",
       "    <tr>\n",
       "      <th>0</th>\n",
       "      <td>NaN</td>\n",
       "      <td>NaN</td>\n",
       "      <td>1763</td>\n",
       "      <td>581:35:57</td>\n",
       "      <td>1520</td>\n",
       "      <td>NaN</td>\n",
       "      <td>NaN</td>\n",
       "      <td>1825</td>\n",
       "      <td>NaN</td>\n",
       "      <td>NaN</td>\n",
       "      <td>NaN</td>\n",
       "      <td>NaN</td>\n",
       "      <td>NaN</td>\n",
       "      <td>NaN</td>\n",
       "      <td>NaN</td>\n",
       "      <td>NaN</td>\n",
       "    </tr>\n",
       "    <tr>\n",
       "      <th>1</th>\n",
       "      <td>25-Apr-2023</td>\n",
       "      <td>Pema</td>\n",
       "      <td>STT_CS-D-2013-M-D-B06-4-R-03</td>\n",
       "      <td>00:01:35</td>\n",
       "      <td>STT_CS-D-2013-M-D-B06-4-R-03</td>\n",
       "      <td>NaN</td>\n",
       "      <td>འཛིན་གྲྭ 4</td>\n",
       "      <td>ek</td>\n",
       "      <td>March 26 - April 25</td>\n",
       "      <td>A. Phurbu</td>\n",
       "      <td>True</td>\n",
       "      <td>NaN</td>\n",
       "      <td>43.0</td>\n",
       "      <td>NaN</td>\n",
       "      <td>NaN</td>\n",
       "      <td>NaN</td>\n",
       "    </tr>\n",
       "    <tr>\n",
       "      <th>2</th>\n",
       "      <td>27-Apr-2023</td>\n",
       "      <td>Pema</td>\n",
       "      <td>STT_CS-D-2018-M-D-B02-0-R-01</td>\n",
       "      <td>00:04:21</td>\n",
       "      <td>STT_CS-D-2018-M-D-B02-0-R-01</td>\n",
       "      <td>NaN</td>\n",
       "      <td>སྔོན་འགྲོ</td>\n",
       "      <td>ek</td>\n",
       "      <td>April 26 - May 25</td>\n",
       "      <td>A. Phurbu</td>\n",
       "      <td>True</td>\n",
       "      <td>NaN</td>\n",
       "      <td>44.0</td>\n",
       "      <td>NaN</td>\n",
       "      <td>NaN</td>\n",
       "      <td>NaN</td>\n",
       "    </tr>\n",
       "    <tr>\n",
       "      <th>3</th>\n",
       "      <td>27-Apr-2023</td>\n",
       "      <td>Pema</td>\n",
       "      <td>STT_CS-D-2017-P-D-B02-0-Y-01</td>\n",
       "      <td>00:02:27</td>\n",
       "      <td>STT_CS-D-2017-P-D-B02-0-Y-01</td>\n",
       "      <td>NaN</td>\n",
       "      <td>སྔོན་འགྲོ</td>\n",
       "      <td>pt</td>\n",
       "      <td>April 26 - May 25</td>\n",
       "      <td>B. TenChoeku</td>\n",
       "      <td>True</td>\n",
       "      <td>NaN</td>\n",
       "      <td>45.0</td>\n",
       "      <td>NaN</td>\n",
       "      <td>NaN</td>\n",
       "      <td>NaN</td>\n",
       "    </tr>\n",
       "    <tr>\n",
       "      <th>4</th>\n",
       "      <td>27-Apr-2023</td>\n",
       "      <td>Pema</td>\n",
       "      <td>STT_CS-D-2017-P-D-B02-0-Y-02</td>\n",
       "      <td>00:03:38</td>\n",
       "      <td>STT_CS-D-2017-P-D-B02-0-Y-02</td>\n",
       "      <td>NaN</td>\n",
       "      <td>སྔོན་འགྲོ</td>\n",
       "      <td>pt</td>\n",
       "      <td>April 26 - May 25</td>\n",
       "      <td>B. TenChoeku</td>\n",
       "      <td>True</td>\n",
       "      <td>NaN</td>\n",
       "      <td>46.0</td>\n",
       "      <td>NaN</td>\n",
       "      <td>NaN</td>\n",
       "      <td>NaN</td>\n",
       "    </tr>\n",
       "  </tbody>\n",
       "</table>\n",
       "</div>"
      ],
      "text/plain": [
       "    Unnamed: 0 Unnamed: 1  \\\n",
       "0          NaN        NaN   \n",
       "1  25-Apr-2023       Pema   \n",
       "2  27-Apr-2023       Pema   \n",
       "3  27-Apr-2023       Pema   \n",
       "4  27-Apr-2023       Pema   \n",
       "\n",
       "  འཛིན་གྲྭ 1 During Testing phase this willl pay by working hour (200rs/hr) x  \\\n",
       "0                                               1763                            \n",
       "1                       STT_CS-D-2013-M-D-B06-4-R-03                            \n",
       "2                       STT_CS-D-2018-M-D-B02-0-R-01                            \n",
       "3                       STT_CS-D-2017-P-D-B02-0-Y-01                            \n",
       "4                       STT_CS-D-2017-P-D-B02-0-Y-02                            \n",
       "\n",
       "  Original Duration         Audio File (Original) Audio link text   འཛིན་གྲྭ   \\\n",
       "0         581:35:57                          1520             NaN         NaN   \n",
       "1          00:01:35  STT_CS-D-2013-M-D-B06-4-R-03             NaN  འཛིན་གྲྭ 4   \n",
       "2          00:04:21  STT_CS-D-2018-M-D-B02-0-R-01             NaN   སྔོན་འགྲོ   \n",
       "3          00:02:27  STT_CS-D-2017-P-D-B02-0-Y-01             NaN   སྔོན་འགྲོ   \n",
       "4          00:03:38  STT_CS-D-2017-P-D-B02-0-Y-02             NaN   སྔོན་འགྲོ   \n",
       "\n",
       "  (Team Leader) Audio in QC checked folder     Accounting Month   \\\n",
       "0                                      1825                  NaN   \n",
       "1                                        ek  March 26 - April 25   \n",
       "2                                        ek    April 26 - May 25   \n",
       "3                                        pt    April 26 - May 25   \n",
       "4                                        pt    April 26 - May 25   \n",
       "\n",
       "          Team  Added in Prodegy  Corrected File Name (name without mistake)  \\\n",
       "0           NaN               NaN                                        NaN   \n",
       "1     A. Phurbu              True                                        NaN   \n",
       "2     A. Phurbu              True                                        NaN   \n",
       "3  B. TenChoeku              True                                        NaN   \n",
       "4  B. TenChoeku              True                                        NaN   \n",
       "\n",
       "   Sr. no.   Unnamed: 13  Unnamed: 14  Unnamed: 15  \n",
       "0       NaN          NaN          NaN          NaN  \n",
       "1      43.0          NaN          NaN          NaN  \n",
       "2      44.0          NaN          NaN          NaN  \n",
       "3      45.0          NaN          NaN          NaN  \n",
       "4      46.0          NaN          NaN          NaN  "
      ]
     },
     "execution_count": 20,
     "metadata": {},
     "output_type": "execute_result"
    }
   ],
   "source": [
    "spreadsheet.head()"
   ]
  },
  {
   "cell_type": "code",
   "execution_count": 16,
   "metadata": {},
   "outputs": [
    {
     "data": {
      "text/plain": [
       "Index(['Unnamed: 0', 'Unnamed: 1',\n",
       "       'འཛིན་གྲྭ 1 During Testing phase this willl pay by working hour (200rs/hr) x',\n",
       "       'Original Duration', 'Audio File (Original)', 'Audio link text',\n",
       "       'འཛིན་གྲྭ ', '(Team Leader) Audio in QC checked folder ',\n",
       "       'Accounting Month ', 'Team ', 'Added in Prodegy ',\n",
       "       'Corrected File Name (name without mistake)', 'Sr. no. ', 'Unnamed: 13',\n",
       "       'Unnamed: 14', 'Unnamed: 15'],\n",
       "      dtype='object')"
      ]
     },
     "execution_count": 16,
     "metadata": {},
     "output_type": "execute_result"
    }
   ],
   "source": [
    "spreadsheet.columns"
   ]
  },
  {
   "cell_type": "code",
   "execution_count": 22,
   "metadata": {},
   "outputs": [
    {
     "data": {
      "text/plain": [
       "0       NaN\n",
       "1       NaN\n",
       "2       NaN\n",
       "3       NaN\n",
       "4       NaN\n",
       "       ... \n",
       "1407    NaN\n",
       "1408    NaN\n",
       "1409    NaN\n",
       "1410    NaN\n",
       "1411    NaN\n",
       "Name: Audio link text, Length: 1412, dtype: object"
      ]
     },
     "execution_count": 22,
     "metadata": {},
     "output_type": "execute_result"
    }
   ],
   "source": [
    "spreadsheet['Audio link text']"
   ]
  },
  {
   "cell_type": "code",
   "execution_count": 25,
   "metadata": {},
   "outputs": [
    {
     "name": "stdout",
     "output_type": "stream",
     "text": [
      "https://drive.google.com/file/d/1zCIBwThrLfDcRReh-lU4HCrLHXtmGGw5/view?usp=share_link\n"
     ]
    },
    {
     "name": "stderr",
     "output_type": "stream",
     "text": [
      "Downloading...\n",
      "From: https://drive.google.com/uc?id=1zCIBwThrLfDcRReh-lU4HCrLHXtmGGw5\n",
      "To: /media/monlamai/SSD/GitHub/split/STT_CS/full_audio/STT_CS-D-2017-P-D-B01-1-R-03.mp3\n",
      "100%|██████████| 16.3M/16.3M [00:01<00:00, 10.5MB/s]\n"
     ]
    },
    {
     "name": "stdout",
     "output_type": "stream",
     "text": [
      "https://drive.google.com/file/d/1v6HcsMiE37dqbnMNTdk9kINfgFdv6O5C/view?usp=drive_link\n"
     ]
    },
    {
     "name": "stderr",
     "output_type": "stream",
     "text": [
      "Downloading...\n",
      "From: https://drive.google.com/uc?id=1v6HcsMiE37dqbnMNTdk9kINfgFdv6O5C\n",
      "To: /media/monlamai/SSD/GitHub/split/STT_CS/full_audio/STT_CS-L-2016_2016-M_M-D_D-B02_B02-2_2-R-02.mp3\n",
      "100%|██████████| 63.3M/63.3M [00:05<00:00, 11.7MB/s]\n"
     ]
    },
    {
     "name": "stdout",
     "output_type": "stream",
     "text": [
      "https://drive.google.com/file/d/1AGb9veSKtUe-57W65u6bCudWMgxWZsLW/view?usp=share_link\n"
     ]
    },
    {
     "name": "stderr",
     "output_type": "stream",
     "text": [
      "Downloading...\n",
      "From: https://drive.google.com/uc?id=1AGb9veSKtUe-57W65u6bCudWMgxWZsLW\n",
      "To: /media/monlamai/SSD/GitHub/split/STT_CS/full_audio/STT_CS-D-2012-M-D-B01-0-R-05.mp3\n",
      "100%|██████████| 6.51M/6.51M [00:00<00:00, 8.74MB/s]\n"
     ]
    },
    {
     "name": "stdout",
     "output_type": "stream",
     "text": [
      "https://drive.google.com/file/d/1Hh0dKLRPgs7t0fU1eJJDPfzxpZsevlsJ/view?usp=share_link\n"
     ]
    },
    {
     "name": "stderr",
     "output_type": "stream",
     "text": [
      "Downloading...\n",
      "From: https://drive.google.com/uc?id=1Hh0dKLRPgs7t0fU1eJJDPfzxpZsevlsJ\n",
      "To: /media/monlamai/SSD/GitHub/split/STT_CS/full_audio/STT_CS-D-2015-P-D-B02-2-R-02.mp3\n",
      "100%|██████████| 24.1M/24.1M [00:02<00:00, 8.54MB/s]\n"
     ]
    },
    {
     "name": "stdout",
     "output_type": "stream",
     "text": [
      "https://drive.google.com/file/d/1Q6UrICVKzNfSklYOTDe3FVeGb8rR3tbj/view?usp=drive_link\n"
     ]
    },
    {
     "name": "stderr",
     "output_type": "stream",
     "text": [
      "Downloading...\n",
      "From: https://drive.google.com/uc?id=1Q6UrICVKzNfSklYOTDe3FVeGb8rR3tbj\n",
      "To: /media/monlamai/SSD/GitHub/split/STT_CS/full_audio/STT_CS-D-2016-M-D-B02-2-R-05.mp3\n",
      "100%|██████████| 13.0M/13.0M [00:01<00:00, 9.62MB/s]\n"
     ]
    },
    {
     "name": "stdout",
     "output_type": "stream",
     "text": [
      "https://drive.google.com/file/d/1cqhmDucLwOrIAr7d64llbZJpVaeUcIon/view?usp=share_link\n"
     ]
    },
    {
     "name": "stderr",
     "output_type": "stream",
     "text": [
      "Downloading...\n",
      "From: https://drive.google.com/uc?id=1cqhmDucLwOrIAr7d64llbZJpVaeUcIon\n",
      "To: /media/monlamai/SSD/GitHub/split/STT_CS/full_audio/STT_CS-D-2016-P-D-B01-2-R-02.mp3\n",
      "100%|██████████| 11.4M/11.4M [00:01<00:00, 9.39MB/s]\n"
     ]
    },
    {
     "name": "stdout",
     "output_type": "stream",
     "text": [
      "https://drive.google.com/file/d/117sLRGBZVormm4jiO3I9Ej_vwfEccpGr/view?usp=drive_link\n"
     ]
    },
    {
     "name": "stderr",
     "output_type": "stream",
     "text": [
      "Downloading...\n",
      "From: https://drive.google.com/uc?id=117sLRGBZVormm4jiO3I9Ej_vwfEccpGr\n",
      "To: /media/monlamai/SSD/GitHub/split/STT_CS/full_audio/STT_CS-X-2016-P-D-B02-2-R-01.mp3\n",
      "100%|██████████| 56.0M/56.0M [00:04<00:00, 11.9MB/s]\n"
     ]
    },
    {
     "name": "stdout",
     "output_type": "stream",
     "text": [
      "https://drive.google.com/file/d/18wZlGJ6LewJFsfMasbfD2St0WgsVFTa_/view?usp=share_link\n"
     ]
    },
    {
     "name": "stderr",
     "output_type": "stream",
     "text": [
      "Downloading...\n",
      "From: https://drive.google.com/uc?id=18wZlGJ6LewJFsfMasbfD2St0WgsVFTa_\n",
      "To: /media/monlamai/SSD/GitHub/split/STT_CS/full_audio/STT_CS-D-2014-M-D-B02-3-T-01.mp3\n",
      "100%|██████████| 18.5M/18.5M [00:01<00:00, 10.6MB/s]\n"
     ]
    },
    {
     "name": "stdout",
     "output_type": "stream",
     "text": [
      "https://drive.google.com/file/d/1fwNWh9kJB9nAQPB5GewNhUeXNSfl8Xzz/view?usp=share_link\n"
     ]
    },
    {
     "name": "stderr",
     "output_type": "stream",
     "text": [
      "Downloading...\n",
      "https://drive.google.com/file/d/1iQCWPalCaCSzDkcyNY6mOQ1XtDbKnGVM/view?usp=drive_link\n"
      "https://drive.google.com/file/d/1l1e_bWoyX4PGLJh3TTf2yLY-6Pr5GxEJ/view?usp=share_link\n"
     ]
    },
    {
     "name": "stderr",
     "output_type": "stream",
     "text": [
      "Downloading...\n",
      "From: https://drive.google.com/uc?id=1l1e_bWoyX4PGLJh3TTf2yLY-6Pr5GxEJ\n",
      "To: /media/monlamai/SSD/GitHub/split/STT_CS/full_audio/STT_CS-D-2014-M-D-B01-3-T-01.mp3\n",
      "100%|██████████| 9.30M/9.30M [00:00<00:00, 9.39MB/s]\n"
     ]
    },
    {
     "name": "stdout",
     "output_type": "stream",
     "text": [
      "https://drive.google.com/file/d/1h2vkfVSZZ-Wo0vm9D8Z6JusrbFpOjtFO/view?usp=share_link\n"
     ]
    },
    {
     "name": "stderr",
     "output_type": "stream",
     "text": [
      "Downloading...\n",
      "From: https://drive.google.com/uc?id=1h2vkfVSZZ-Wo0vm9D8Z6JusrbFpOjtFO\n",
      "To: /media/monlamai/SSD/GitHub/split/STT_CS/full_audio/STT_CS-D-2014-M-D-B05-3-T-02.mp3\n",
      "100%|██████████| 30.4M/30.4M [00:02<00:00, 11.2MB/s]\n"
     ]
    },
    {
     "name": "stdout",
     "output_type": "stream",
     "text": [
      "https://drive.google.com/file/d/1NRq3v5T8mCjQ7bqFhpbpc4SBhXtdDVKG/view?usp=share_link\n"
     ]
    },
    {
     "name": "stderr",
     "output_type": "stream",
     "text": [
      "Downloading...\n",
      "From: https://drive.google.com/uc?id=1NRq3v5T8mCjQ7bqFhpbpc4SBhXtdDVKG\n",
      "To: /media/monlamai/SSD/GitHub/split/STT_CS/full_audio/STT_CS-D-2014-M-D-B04-2-T-01.mp3\n",
      "100%|██████████| 8.63M/8.63M [00:01<00:00, 7.60MB/s]\n"
     ]
    },
    {
     "name": "stdout",
     "output_type": "stream",
     "text": [
      "https://drive.google.com/file/d/1PzZw4xKUUFpuKi7Xd7aHLlEqzocbtPpq/view?usp=share_link\n"
     ]
    },
    {
     "name": "stderr",
     "output_type": "stream",
     "text": [
      "Downloading...\n",
      "From: https://drive.google.com/uc?id=1PzZw4xKUUFpuKi7Xd7aHLlEqzocbtPpq\n",
      "To: /media/monlamai/SSD/GitHub/split/STT_CS/full_audio/STT_CS-D-2014-M-D-B04-2-T-02.mp3\n",
      "100%|██████████| 13.8M/13.8M [00:01<00:00, 9.87MB/s]\n"
     ]
    },
    {
     "name": "stdout",
     "output_type": "stream",
     "text": [
      "https://drive.google.com/file/d/1PLkE5IgHGZKni0pfM0c0qcfsUx31WDlN/view?usp=share_link\n"
     ]
    },
    {
     "name": "stderr",
     "output_type": "stream",
     "text": [
      "Downloading...\n",
      "From: https://drive.google.com/uc?id=1PLkE5IgHGZKni0pfM0c0qcfsUx31WDlN\n",
      "To: /media/monlamai/SSD/GitHub/split/STT_CS/full_audio/STT_CS-D-2014-M-D-B04-2-T-03.mp3\n",
      "100%|██████████| 14.3M/14.3M [00:01<00:00, 10.3MB/s]\n"
     ]
    },
    {
     "name": "stdout",
     "output_type": "stream",
     "text": [
      "https://drive.google.com/file/d/1R0qzNvI89R6i_YBoEQHnPHl9qqo7XcmA/view?usp=share_link\n"
     ]
    },
    {
     "name": "stderr",
     "output_type": "stream",
     "text": [
      "Downloading...\n",
      "From: https://drive.google.com/uc?id=1R0qzNvI89R6i_YBoEQHnPHl9qqo7XcmA\n",
      "To: /media/monlamai/SSD/GitHub/split/STT_CS/full_audio/STT_CS-D-2018-P-D-B01-0-T-01a.mp3\n",
      "100%|██████████| 16.7M/16.7M [00:01<00:00, 10.7MB/s]\n"
     ]
    },
    {
     "name": "stdout",
     "output_type": "stream",
     "text": [
      "https://drive.google.com/file/d/1dPRm7aWyiAna1FkYeCJlkNVGjFRcVqt-/view?usp=share_link\n"
     ]
    },
    {
     "name": "stderr",
     "output_type": "stream",
     "text": [
      "Downloading...\n",
      "From: https://drive.google.com/uc?id=1dPRm7aWyiAna1FkYeCJlkNVGjFRcVqt-\n",
      "To: /media/monlamai/SSD/GitHub/split/STT_CS/full_audio/STT_CS-D-2018-P-D-B01-0-T-01b.mp3\n",
      "100%|██████████| 10.6M/10.6M [00:01<00:00, 8.39MB/s]\n"
     ]
    },
    {
     "name": "stdout",
     "output_type": "stream",
     "text": [
      "https://drive.google.com/file/d/1YoSQdXEvwrW6JUKCEOtM3ItjnaelwCOq/view?usp=drive_link\n"
     ]
    },
    {
     "name": "stderr",
     "output_type": "stream",
     "text": [
      "Downloading...\n",
      "From: https://drive.google.com/uc?id=1YoSQdXEvwrW6JUKCEOtM3ItjnaelwCOq\n",
      "To: /media/monlamai/SSD/GitHub/split/STT_CS/full_audio/STT_CS-D-2011-P-D-B03-6-R-01.mp3\n",
      "100%|██████████| 23.8M/23.8M [00:02<00:00, 10.9MB/s]\n"
     ]
    },
    {
     "name": "stdout",
     "output_type": "stream",
     "text": [
      "https://drive.google.com/file/d/1Vy6PqHd_pFyFhoC6M-SV2skeVhjiYM2M/view?usp=drive_link\n"
     ]
     "output_type": "stream",
      "Downloading...\n",
      "From: https://drive.google.com/uc?id=1Vy6PqHd_pFyFhoC6M-SV2skeVhjiYM2M\n",
      "To: /media/monlamai/SSD/GitHub/split/STT_CS/full_audio/STT_CS-D-2012-M-D-B03-6-R-01.mp3\n",
      "100%|██████████| 19.4M/19.4M [00:01<00:00, 12.1MB/s]\n"
     ]
    },
    {
     "name": "stdout",
     "output_type": "stream",
     "text": [
      "https://drive.google.com/file/d/1R6Vwu9nq0quhA83-CPFmahlonJ96D9NI/view?usp=drive_link\n"
     ]
    },
    {
     "name": "stderr",
     "output_type": "stream",
     "text": [
      "Downloading...\n",
      "From: https://drive.google.com/uc?id=1R6Vwu9nq0quhA83-CPFmahlonJ96D9NI\n",
      "To: /media/monlamai/SSD/GitHub/split/STT_CS/full_audio/STT_CS-D-2015-M-D-B02-2-R-03.mp3\n",
      "100%|██████████| 11.5M/11.5M [00:01<00:00, 9.69MB/s]\n"
     ]
    },
    {
     "name": "stdout",
     "output_type": "stream",
     "text": [
      "https://drive.google.com/file/d/1O1lfMK1ljzR7ym-1bnhqOa21Eh4REyjH/view?usp=drive_link\n"
     ]
    },
    {
     "name": "stderr",
     "output_type": "stream",
     "text": [
      "Downloading...\n",
      "From: https://drive.google.com/uc?id=1O1lfMK1ljzR7ym-1bnhqOa21Eh4REyjH\n",
      "To: /media/monlamai/SSD/GitHub/split/STT_CS/full_audio/STT_CS-D-2016-M-D-B02-2-R-06.mp3\n",
      "100%|██████████| 23.0M/23.0M [00:02<00:00, 10.7MB/s]\n"
     ]
    }
   ],
   "source": [
    "def download_audio(gd_url):\n",
    "    print(gd_url)\n",
    "    # gdown.download(gd_url, output_file, quiet=False)\n",
    "    file_id = gd_url.split(\"/\")[-2] if \"drive.google.com\" in gd_url else gd_url\n",
    "    # Download the file\n",
    "    gdown.download(f\"https://drive.google.com/uc?id={file_id}\", output=\"full_audio/\", quiet=False)\n",
    "\n",
    "        \n",
    "# https://drive.google.com/file/d/15IyTrnoUM39L5MjfBRq1EcCEUpt-ecwH/view?usp=share_link\n",
    "if __name__ == \"__main__\":\n",
    "    spreadsheet = read_spreadsheet()\n",
    "    # print(spreadsheet)\n",
    "    \n",
    "    for index, row in spreadsheet.iterrows():\n",
    "        gd_url = row['Audio link text']\n",
    "        id = row['Sr. no. ']\n",
    "        # print(id)\n",
    "        # print(isinstance(gd_url, str), isinstance(id, str))\n",
    "        # if not isinstance(gd_url, str) or not isinstance(id, str):\n",
    "        #     continue\n",
    "        if id >= 398 and id <= 417:\n",
    "            # print(id, gd_url)\n",
    "            download_audio(gd_url)\n"
   ]
  },
  {
   "cell_type": "code",
   "execution_count": 26,
   "metadata": {},
   "outputs": [],
   "source": [
    "source_directories = [dir_name for dir_name in os.listdir(\"after_split\") if dir_name.startswith(\"STT_CS\") and os.path.isdir(os.path.join(\"after_split\", dir_name))]"
   ]
  },
  {
   "cell_type": "code",
   "execution_count": 11,
   "metadata": {},
   "outputs": [
    {
     "data": {
      "text/plain": [
       "[]"
      ]
     },
     "execution_count": 11,
     "metadata": {},
     "output_type": "execute_result"
    }
   ],
   "source": [
    "source_directories"
   ]
  },
  {
   "cell_type": "code",
   "execution_count": null,
   "metadata": {},
   "outputs": [],
   "source": []
  }
 ],
 "metadata": {
  "kernelspec": {
   "display_name": ".env",
   "language": "python",
   "name": "python3"
  },
  "language_info": {
   "codemirror_mode": {
    "name": "ipython",
    "version": 3
   },
   "file_extension": ".py",
   "mimetype": "text/x-python",
   "name": "python",
   "nbconvert_exporter": "python",
   "pygments_lexer": "ipython3",
   "version": "3.10.12"
  },
  "orig_nbformat": 4
 },
 "nbformat": 4,
 "nbformat_minor": 2
}
