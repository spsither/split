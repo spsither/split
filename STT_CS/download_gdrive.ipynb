{
 "cells": [
  {
   "cell_type": "code",
   "execution_count": 1,
   "metadata": {},
   "outputs": [],
   "source": [
    "import pandas as pd\n",
    "from pathlib import Path\n",
    "import os\n",
    "import gdown\n",
    "\n",
    "def read_spreadsheet():\n",
    "    SHEET_ID = \"1-WuaaWKIHJfGQhDXVSwG-v2qGqxQYVqqk7lFeHyxEzk\"\n",
    "    url = f\"https://docs.google.com/spreadsheets/d/{SHEET_ID}/gviz/tq?tqx=out:csv\"\n",
    "    df = pd.read_csv(url)\n",
    "    return df"
   ]
  },
  {
   "cell_type": "code",
   "execution_count": 2,
   "metadata": {},
   "outputs": [],
   "source": [
    "spreadsheet = read_spreadsheet()"
   ]
  },
  {
   "cell_type": "code",
   "execution_count": 3,
   "metadata": {},
   "outputs": [
    {
     "data": {
      "text/html": [
       "<div>\n",
       "<style scoped>\n",
       "    .dataframe tbody tr th:only-of-type {\n",
       "        vertical-align: middle;\n",
       "    }\n",
       "\n",
       "    .dataframe tbody tr th {\n",
       "        vertical-align: top;\n",
       "    }\n",
       "\n",
       "    .dataframe thead th {\n",
       "        text-align: right;\n",
       "    }\n",
       "</style>\n",
       "<table border=\"1\" class=\"dataframe\">\n",
       "  <thead>\n",
       "    <tr style=\"text-align: right;\">\n",
       "      <th></th>\n",
       "      <th>Unnamed: 0</th>\n",
       "      <th>Unnamed: 1</th>\n",
       "      <th>འཛིན་གྲྭ 1 During Testing phase this willl pay by working hour (200rs/hr) x</th>\n",
       "      <th>Original Duration</th>\n",
       "      <th>Audio File (Original)</th>\n",
       "      <th>Audio link text</th>\n",
       "      <th>འཛིན་གྲྭ</th>\n",
       "      <th>(Team Leader) Audio in QC checked folder</th>\n",
       "      <th>Accounting Month</th>\n",
       "      <th>Team</th>\n",
       "      <th>Added in Prodegy</th>\n",
       "      <th>Corrected File Name (name without mistake)</th>\n",
       "      <th>Sr. no.</th>\n",
       "      <th>Unnamed: 13</th>\n",
       "      <th>Unnamed: 14</th>\n",
       "      <th>Unnamed: 15</th>\n",
       "    </tr>\n",
       "  </thead>\n",
       "  <tbody>\n",
       "    <tr>\n",
       "      <th>0</th>\n",
       "      <td>NaN</td>\n",
       "      <td>NaN</td>\n",
       "      <td>1740</td>\n",
       "      <td>569:57:47</td>\n",
       "      <td>1521</td>\n",
       "      <td>NaN</td>\n",
       "      <td>NaN</td>\n",
       "      <td>1788</td>\n",
       "      <td>NaN</td>\n",
       "      <td>NaN</td>\n",
       "      <td>NaN</td>\n",
       "      <td>NaN</td>\n",
       "      <td>NaN</td>\n",
       "      <td>NaN</td>\n",
       "      <td>NaN</td>\n",
       "      <td>NaN</td>\n",
       "    </tr>\n",
       "    <tr>\n",
       "      <th>1</th>\n",
       "      <td>25-Apr-2023</td>\n",
       "      <td>Pema</td>\n",
       "      <td>STT_CS-D-2013-M-D-B06-4-R-03</td>\n",
       "      <td>00:01:35</td>\n",
       "      <td>STT_CS-D-2013-M-D-B06-4-R-03</td>\n",
       "      <td>NaN</td>\n",
       "      <td>འཛིན་གྲྭ 4</td>\n",
       "      <td>ek</td>\n",
       "      <td>March 26 - April 25</td>\n",
       "      <td>A. Phurbu</td>\n",
       "      <td>True</td>\n",
       "      <td>NaN</td>\n",
       "      <td>43.0</td>\n",
       "      <td>NaN</td>\n",
       "      <td>NaN</td>\n",
       "      <td>NaN</td>\n",
       "    </tr>\n",
       "    <tr>\n",
       "      <th>2</th>\n",
       "      <td>27-Apr-2023</td>\n",
       "      <td>Pema</td>\n",
       "      <td>STT_CS-D-2018-M-D-B02-0-R-01</td>\n",
       "      <td>00:04:21</td>\n",
       "      <td>STT_CS-D-2018-M-D-B02-0-R-01</td>\n",
       "      <td>NaN</td>\n",
       "      <td>སྔོན་འགྲོ</td>\n",
       "      <td>ek</td>\n",
       "      <td>April 26 - May 25</td>\n",
       "      <td>A. Phurbu</td>\n",
       "      <td>True</td>\n",
       "      <td>NaN</td>\n",
       "      <td>44.0</td>\n",
       "      <td>NaN</td>\n",
       "      <td>NaN</td>\n",
       "      <td>NaN</td>\n",
       "    </tr>\n",
       "    <tr>\n",
       "      <th>3</th>\n",
       "      <td>27-Apr-2023</td>\n",
       "      <td>Pema</td>\n",
       "      <td>STT_CS-D-2017-P-D-B02-0-Y-01</td>\n",
       "      <td>00:02:27</td>\n",
       "      <td>STT_CS-D-2017-P-D-B02-0-Y-01</td>\n",
       "      <td>NaN</td>\n",
       "      <td>སྔོན་འགྲོ</td>\n",
       "      <td>pt</td>\n",
       "      <td>April 26 - May 25</td>\n",
       "      <td>B. TenChoeku</td>\n",
       "      <td>True</td>\n",
       "      <td>NaN</td>\n",
       "      <td>45.0</td>\n",
       "      <td>NaN</td>\n",
       "      <td>NaN</td>\n",
       "      <td>NaN</td>\n",
       "    </tr>\n",
       "    <tr>\n",
       "      <th>4</th>\n",
       "      <td>27-Apr-2023</td>\n",
       "      <td>Pema</td>\n",
       "      <td>STT_CS-D-2017-P-D-B02-0-Y-02</td>\n",
       "      <td>00:03:38</td>\n",
       "      <td>STT_CS-D-2017-P-D-B02-0-Y-02</td>\n",
       "      <td>NaN</td>\n",
       "      <td>སྔོན་འགྲོ</td>\n",
       "      <td>pt</td>\n",
       "      <td>April 26 - May 25</td>\n",
       "      <td>B. TenChoeku</td>\n",
       "      <td>True</td>\n",
       "      <td>NaN</td>\n",
       "      <td>46.0</td>\n",
       "      <td>NaN</td>\n",
       "      <td>NaN</td>\n",
       "      <td>NaN</td>\n",
       "    </tr>\n",
       "  </tbody>\n",
       "</table>\n",
       "</div>"
      ],
      "text/plain": [
       "    Unnamed: 0 Unnamed: 1  \\\n",
       "0          NaN        NaN   \n",
       "1  25-Apr-2023       Pema   \n",
       "2  27-Apr-2023       Pema   \n",
       "3  27-Apr-2023       Pema   \n",
       "4  27-Apr-2023       Pema   \n",
       "\n",
       "  འཛིན་གྲྭ 1 During Testing phase this willl pay by working hour (200rs/hr) x  \\\n",
       "0                                               1740                            \n",
       "1                       STT_CS-D-2013-M-D-B06-4-R-03                            \n",
       "2                       STT_CS-D-2018-M-D-B02-0-R-01                            \n",
       "3                       STT_CS-D-2017-P-D-B02-0-Y-01                            \n",
       "4                       STT_CS-D-2017-P-D-B02-0-Y-02                            \n",
       "\n",
       "  Original Duration         Audio File (Original) Audio link text   འཛིན་གྲྭ   \\\n",
       "0         569:57:47                          1521             NaN         NaN   \n",
       "1          00:01:35  STT_CS-D-2013-M-D-B06-4-R-03             NaN  འཛིན་གྲྭ 4   \n",
       "2          00:04:21  STT_CS-D-2018-M-D-B02-0-R-01             NaN   སྔོན་འགྲོ   \n",
       "3          00:02:27  STT_CS-D-2017-P-D-B02-0-Y-01             NaN   སྔོན་འགྲོ   \n",
       "4          00:03:38  STT_CS-D-2017-P-D-B02-0-Y-02             NaN   སྔོན་འགྲོ   \n",
       "\n",
       "  (Team Leader) Audio in QC checked folder     Accounting Month   \\\n",
       "0                                      1788                  NaN   \n",
       "1                                        ek  March 26 - April 25   \n",
       "2                                        ek    April 26 - May 25   \n",
       "3                                        pt    April 26 - May 25   \n",
       "4                                        pt    April 26 - May 25   \n",
       "\n",
       "          Team  Added in Prodegy  Corrected File Name (name without mistake)  \\\n",
       "0           NaN               NaN                                        NaN   \n",
       "1     A. Phurbu              True                                        NaN   \n",
       "2     A. Phurbu              True                                        NaN   \n",
       "3  B. TenChoeku              True                                        NaN   \n",
       "4  B. TenChoeku              True                                        NaN   \n",
       "\n",
       "   Sr. no.   Unnamed: 13  Unnamed: 14  Unnamed: 15  \n",
       "0       NaN          NaN          NaN          NaN  \n",
       "1      43.0          NaN          NaN          NaN  \n",
       "2      44.0          NaN          NaN          NaN  \n",
       "3      45.0          NaN          NaN          NaN  \n",
       "4      46.0          NaN          NaN          NaN  "
      ]
     },
     "execution_count": 3,
     "metadata": {},
     "output_type": "execute_result"
    }
   ],
   "source": [
    "spreadsheet.head()"
   ]
  },
  {
   "cell_type": "code",
   "execution_count": 4,
   "metadata": {},
   "outputs": [
    {
     "data": {
      "text/plain": [
       "Index(['Unnamed: 0', 'Unnamed: 1',\n",
       "       'འཛིན་གྲྭ 1 During Testing phase this willl pay by working hour (200rs/hr) x',\n",
       "       'Original Duration', 'Audio File (Original)', 'Audio link text',\n",
       "       'འཛིན་གྲྭ ', '(Team Leader) Audio in QC checked folder ',\n",
       "       'Accounting Month ', 'Team ', 'Added in Prodegy ',\n",
       "       'Corrected File Name (name without mistake)', 'Sr. no. ', 'Unnamed: 13',\n",
       "       'Unnamed: 14', 'Unnamed: 15'],\n",
       "      dtype='object')"
      ]
     },
     "execution_count": 4,
     "metadata": {},
     "output_type": "execute_result"
    }
   ],
   "source": [
    "spreadsheet.columns"
   ]
  },
  {
   "cell_type": "code",
   "execution_count": 5,
   "metadata": {},
   "outputs": [
    {
     "data": {
      "text/plain": [
       "0       NaN\n",
       "1       NaN\n",
       "2       NaN\n",
       "3       NaN\n",
       "4       NaN\n",
       "       ... \n",
       "1382    NaN\n",
       "1383    NaN\n",
       "1384    NaN\n",
       "1385    NaN\n",
       "1386    NaN\n",
       "Name: Audio link text, Length: 1387, dtype: object"
      ]
     },
     "execution_count": 5,
     "metadata": {},
     "output_type": "execute_result"
    }
   ],
   "source": [
    "spreadsheet['Audio link text']"
   ]
  },
  {
   "cell_type": "code",
   "execution_count": 6,
   "metadata": {},
   "outputs": [
    {
     "name": "stdout",
     "output_type": "stream",
     "text": [
      "https://drive.google.com/file/d/1jYp7EO_10JNldyXH2Bwl2PT2Ok5eG5Ra/view?usp=drive_link\n"
     ]
    },
    {
     "name": "stderr",
     "output_type": "stream",
     "text": [
      "Downloading...\n",
      "From: https://drive.google.com/uc?id=1jYp7EO_10JNldyXH2Bwl2PT2Ok5eG5Ra\n",
      "To: /media/spsither/HD/GitHub/split/STT_CS/full_audio/STT_CS-D-2017-P-D-B04-1-R-01.mp3\n",
      "100%|██████████| 3.13M/3.13M [00:00<00:00, 10.4MB/s]\n"
     ]
    },
    {
     "name": "stdout",
     "output_type": "stream",
     "text": [
      "https://drive.google.com/file/d/1LaxMXEDv_j-C_2a7abAqd8RCqXgqNjVG/view?usp=drive_link\n"
     ]
    },
    {
     "name": "stderr",
     "output_type": "stream",
     "text": [
      "Downloading...\n",
      "From: https://drive.google.com/uc?id=1LaxMXEDv_j-C_2a7abAqd8RCqXgqNjVG\n",
      "To: /media/spsither/HD/GitHub/split/STT_CS/full_audio/STT_CS-D-2016-M-D-B05-2-R-03.mp3\n",
      "100%|██████████| 5.01M/5.01M [00:00<00:00, 8.12MB/s]\n"
     ]
    },
    {
     "name": "stdout",
     "output_type": "stream",
     "text": [
      "https://drive.google.com/file/d/1rDmgURfwvUIvTDMDrNN6KBsUcruTPfgZ/view?usp=drive_link\n"
     ]
    },
    {
     "name": "stderr",
     "output_type": "stream",
     "text": [
      "Downloading...\n",
      "From: https://drive.google.com/uc?id=1rDmgURfwvUIvTDMDrNN6KBsUcruTPfgZ\n",
      "To: /media/spsither/HD/GitHub/split/STT_CS/full_audio/STT_CS-L-2016_2016-M_M-D_D-B02_B02-2_2-R_R-03.mp3\n",
      "100%|██████████| 9.27M/9.27M [00:00<00:00, 9.98MB/s]\n"
     ]
    },
    {
     "name": "stdout",
     "output_type": "stream",
     "text": [
      "https://drive.google.com/file/d/1mC8gwkioiwscplY-TFrsCLL1Kqbd8-SA/view?usp=drive_link\n"
     ]
    },
    {
     "name": "stderr",
     "output_type": "stream",
     "text": [
      "Downloading...\n",
      "From: https://drive.google.com/uc?id=1mC8gwkioiwscplY-TFrsCLL1Kqbd8-SA\n",
      "To: /media/spsither/HD/GitHub/split/STT_CS/full_audio/STT_CS-L-2016_2016-P_P-D_D-B02_B02-2_2-R_R-01.mp3\n",
      "100%|██████████| 37.1M/37.1M [00:02<00:00, 13.3MB/s]\n"
     ]
    },
    {
     "name": "stdout",
     "output_type": "stream",
     "text": [
      "https://drive.google.com/file/d/1eBhVunbloIMxpJWwbtPpSOMMxg7iUnUb/view?usp=drive_link\n"
     ]
    },
    {
     "name": "stderr",
     "output_type": "stream",
     "text": [
      "Downloading...\n",
      "From: https://drive.google.com/uc?id=1eBhVunbloIMxpJWwbtPpSOMMxg7iUnUb\n",
      "To: /media/spsither/HD/GitHub/split/STT_CS/full_audio/STT_CS-L-2017_2017-P_P-D_D-B01_B01-1_1-R_R-01.mp3\n",
      "100%|██████████| 14.7M/14.7M [00:01<00:00, 10.6MB/s]\n"
     ]
    },
    {
     "name": "stdout",
     "output_type": "stream",
     "text": [
      "https://drive.google.com/file/d/1sw0I4dOplRAePQ-NKGHwvPKFcs9e5HSu/view?usp=drive_link\n"
     ]
    },
    {
     "name": "stderr",
     "output_type": "stream",
     "text": [
      "Downloading...\n",
      "From: https://drive.google.com/uc?id=1sw0I4dOplRAePQ-NKGHwvPKFcs9e5HSu\n",
      "To: /media/spsither/HD/GitHub/split/STT_CS/full_audio/STT_CS-L-2017_2017-P_P-D_D-B01_B01-1_1-R_R-02.mp3\n",
      "100%|██████████| 29.9M/29.9M [00:02<00:00, 12.1MB/s]\n"
     ]
    },
    {
     "name": "stdout",
     "output_type": "stream",
     "text": [
      "https://drive.google.com/file/d/1RZLltMV6o1OSmnV6M0hIV2rsRGj-hX3s/view?usp=drive_link\n"
     ]
    },
    {
     "name": "stderr",
     "output_type": "stream",
     "text": [
      "Downloading...\n",
      "From: https://drive.google.com/uc?id=1RZLltMV6o1OSmnV6M0hIV2rsRGj-hX3s\n",
      "To: /media/spsither/HD/GitHub/split/STT_CS/full_audio/STT_CS-D-2010-M-D-B08-6-R-01a.mp3\n",
      "100%|██████████| 12.7M/12.7M [00:01<00:00, 8.50MB/s]\n"
     ]
    },
    {
     "name": "stdout",
     "output_type": "stream",
     "text": [
      "https://drive.google.com/file/d/118pugChjePg4Ls50oK6cSwSL22z2qqUu/view?usp=drive_link\n"
     ]
    },
    {
     "name": "stderr",
     "output_type": "stream",
     "text": [
      "Downloading...\n",
      "From: https://drive.google.com/uc?id=118pugChjePg4Ls50oK6cSwSL22z2qqUu\n",
      "To: /media/spsither/HD/GitHub/split/STT_CS/full_audio/STT_CS-D-2010-M-D-B08-6-R-01b.mp3\n",
      "100%|██████████| 361k/361k [00:00<00:00, 919kB/s]\n"
     ]
    },
    {
     "name": "stdout",
     "output_type": "stream",
     "text": [
      "https://drive.google.com/file/d/18aJMqewABc2ZL9renrKSl2nfwRAUMKNZ/view?usp=drive_link\n"
     ]
    },
    {
     "name": "stderr",
     "output_type": "stream",
     "text": [
      "Downloading...\n",
      "From: https://drive.google.com/uc?id=18aJMqewABc2ZL9renrKSl2nfwRAUMKNZ\n",
      "To: /media/spsither/HD/GitHub/split/STT_CS/full_audio/STT_CS-D-2010-M-D-B08-6-R-02.mp3\n",
      "100%|██████████| 10.5M/10.5M [00:01<00:00, 7.67MB/s]\n"
     ]
    },
    {
     "name": "stdout",
     "output_type": "stream",
     "text": [
      "https://drive.google.com/file/d/1iQCWPalCaCSzDkcyNY6mOQ1XtDbKnGVM/view?usp=drive_link\n"
     ]
    },
    {
     "name": "stderr",
     "output_type": "stream",
     "text": [
      "Downloading...\n",
      "From: https://drive.google.com/uc?id=1iQCWPalCaCSzDkcyNY6mOQ1XtDbKnGVM\n",
      "To: /media/spsither/HD/GitHub/split/STT_CS/full_audio/STT_CS-D-2013-M-D-B04-4-R-02.mp3\n",
      "100%|██████████| 12.5M/12.5M [00:01<00:00, 9.05MB/s]\n"
     ]
    },
    {
     "name": "stdout",
     "output_type": "stream",
     "text": [
      "https://drive.google.com/file/d/1m2RWx8tBffPqLRI2UVoJzji86FxJuWRo/view?usp=drive_link\n"
     ]
    },
    {
     "name": "stderr",
     "output_type": "stream",
     "text": [
      "Downloading...\n",
      "From: https://drive.google.com/uc?id=1m2RWx8tBffPqLRI2UVoJzji86FxJuWRo\n",
      "To: /media/spsither/HD/GitHub/split/STT_CS/full_audio/STT_CS-D-2014-M-D-B04-4-R-02.mp3\n",
      "100%|██████████| 9.66M/9.66M [00:01<00:00, 8.81MB/s]\n"
     ]
    },
    {
     "name": "stdout",
     "output_type": "stream",
     "text": [
      "https://drive.google.com/file/d/1BEgc50U3V_U4S6Y3Ut2B3OiKjYzrKEpA/view?usp=drive_link\n"
     ]
    },
    {
     "name": "stderr",
     "output_type": "stream",
     "text": [
      "Downloading...\n",
      "From: https://drive.google.com/uc?id=1BEgc50U3V_U4S6Y3Ut2B3OiKjYzrKEpA\n",
      "To: /media/spsither/HD/GitHub/split/STT_CS/full_audio/STT_CS-D-2015-P-D-B02-2-R-05.mp3\n",
      "100%|██████████| 12.4M/12.4M [00:01<00:00, 10.8MB/s]\n"
     ]
    },
    {
     "name": "stdout",
     "output_type": "stream",
     "text": [
      "https://drive.google.com/file/d/1YzVHNLkGpU_miMozaPLs4UX3HVfvlGgd/view?usp=drive_link\n"
     ]
    },
    {
     "name": "stderr",
     "output_type": "stream",
     "text": [
      "Downloading...\n",
      "From: https://drive.google.com/uc?id=1YzVHNLkGpU_miMozaPLs4UX3HVfvlGgd\n",
      "To: /media/spsither/HD/GitHub/split/STT_CS/full_audio/STT_CS-D-2016-M-D-B02-2-R-14.mp3\n",
      "100%|██████████| 5.13M/5.13M [00:01<00:00, 2.70MB/s]\n"
     ]
    },
    {
     "name": "stdout",
     "output_type": "stream",
     "text": [
      "https://drive.google.com/file/d/1YrqD-RrOG7wE5kOQAzJCzugDfR7q8QBI/view?usp=drive_link\n"
     ]
    },
    {
     "name": "stderr",
     "output_type": "stream",
     "text": [
      "Downloading...\n",
      "From: https://drive.google.com/uc?id=1YrqD-RrOG7wE5kOQAzJCzugDfR7q8QBI\n",
      "To: /media/spsither/HD/GitHub/split/STT_CS/full_audio/STT_CS-D-2017-P-D-B01-1-R-06.mp3\n",
      "100%|██████████| 1.73M/1.73M [00:00<00:00, 3.48MB/s]\n"
     ]
    },
    {
     "name": "stdout",
     "output_type": "stream",
     "text": [
      "https://drive.google.com/file/d/10ZTVycKs0Q2SLvwYw1ZWDcXTH8-PBp_4/view?usp=drive_link\n"
     ]
    },
    {
     "name": "stderr",
     "output_type": "stream",
     "text": [
      "Downloading...\n",
      "From: https://drive.google.com/uc?id=10ZTVycKs0Q2SLvwYw1ZWDcXTH8-PBp_4\n",
      "To: /media/spsither/HD/GitHub/split/STT_CS/full_audio/STT_CS-L-2017_2017-P_P-D_D-B01_B01-1_1-R_R-03.mp3\n",
      "100%|██████████| 66.7M/66.7M [00:04<00:00, 14.0MB/s]\n"
     ]
    },
    {
     "name": "stdout",
     "output_type": "stream",
     "text": [
      "https://drive.google.com/file/d/150TG-pSUqQXOKYV0lFitZwclUGgBW4VV/view?usp=drive_link\n"
     ]
    },
    {
     "name": "stderr",
     "output_type": "stream",
     "text": [
      "Downloading...\n",
      "From: https://drive.google.com/uc?id=150TG-pSUqQXOKYV0lFitZwclUGgBW4VV\n",
      "To: /media/spsither/HD/GitHub/split/STT_CS/full_audio/STT_CS-L-2017_2017-P_P-D_D-B04_B04-1_1-R_R-02.mp3\n",
      "100%|██████████| 29.1M/29.1M [00:02<00:00, 12.0MB/s]\n"
     ]
    },
    {
     "name": "stdout",
     "output_type": "stream",
     "text": [
      "https://drive.google.com/file/d/1qATOT8iZ4A3oh5L7rwh23S_OfZl7cXT0/view?usp=drive_link\n"
     ]
    },
    {
     "name": "stderr",
     "output_type": "stream",
     "text": [
      "Downloading...\n",
      "From: https://drive.google.com/uc?id=1qATOT8iZ4A3oh5L7rwh23S_OfZl7cXT0\n",
      "To: /media/spsither/HD/GitHub/split/STT_CS/full_audio/STT_CS-L-2011_2012-M_M-D_D-B07_B08-6_6-R_R-01.mp3\n",
      "100%|██████████| 42.1M/42.1M [00:03<00:00, 13.4MB/s]\n"
     ]
    },
    {
     "name": "stdout",
     "output_type": "stream",
     "text": [
      "https://drive.google.com/file/d/1c8P8bDZ_tSsDStVJTNFVzUTuFjn4sMjC/view?usp=drive_link\n"
     ]
    },
    {
     "name": "stderr",
     "output_type": "stream",
     "text": [
      "Downloading...\n",
      "From: https://drive.google.com/uc?id=1c8P8bDZ_tSsDStVJTNFVzUTuFjn4sMjC\n",
      "To: /media/spsither/HD/GitHub/split/STT_CS/full_audio/STT_CS-L-2011_2012-P_P-D_D-B03_B01-6_6-R_R-01.mp3\n",
      "100%|██████████| 42.4M/42.4M [00:03<00:00, 13.5MB/s]\n"
     ]
    }
   ],
   "source": [
    "def download_audio(gd_url):\n",
    "    print(gd_url)\n",
    "    # gdown.download(gd_url, output_file, quiet=False)\n",
    "    file_id = gd_url.split(\"/\")[-2] if \"drive.google.com\" in gd_url else gd_url\n",
    "    # Download the file\n",
    "    gdown.download(f\"https://drive.google.com/uc?id={file_id}\", output=\"full_audio/\", quiet=False)\n",
    "\n",
    "        \n",
    "# https://drive.google.com/file/d/15IyTrnoUM39L5MjfBRq1EcCEUpt-ecwH/view?usp=share_link\n",
    "if __name__ == \"__main__\":\n",
    "    spreadsheet = read_spreadsheet()\n",
    "    # print(spreadsheet)\n",
    "    \n",
    "    for index, row in spreadsheet.iterrows():\n",
    "        gd_url = row['Audio link text']\n",
    "        id = row['Sr. no. ']\n",
    "        # print(id)\n",
    "        # print(isinstance(gd_url, str), isinstance(id, str))\n",
    "        # if not isinstance(gd_url, str) or not isinstance(id, str):\n",
    "        #     continue\n",
    "        if id >= 448 and id <= 465:\n",
    "            # print(id, gd_url)\n",
    "            download_audio(gd_url)\n"
   ]
  },
  {
   "cell_type": "code",
   "execution_count": 10,
   "metadata": {},
   "outputs": [],
   "source": [
    "source_directories = [dir_name for dir_name in os.listdir(\"after_split\") if dir_name.startswith(\"STT_CS\") and os.path.isdir(os.path.join(\"after_split\", dir_name))]"
   ]
  },
  {
   "cell_type": "code",
   "execution_count": 11,
   "metadata": {},
   "outputs": [
    {
     "data": {
      "text/plain": [
       "[]"
      ]
     },
     "execution_count": 11,
     "metadata": {},
     "output_type": "execute_result"
    }
   ],
   "source": [
    "source_directories"
   ]
  },
  {
   "cell_type": "code",
   "execution_count": null,
   "metadata": {},
   "outputs": [],
   "source": []
  }
 ],
 "metadata": {
  "kernelspec": {
   "display_name": ".env",
   "language": "python",
   "name": "python3"
  },
  "language_info": {
   "codemirror_mode": {
    "name": "ipython",
    "version": 3
   },
   "file_extension": ".py",
   "mimetype": "text/x-python",
   "name": "python",
   "nbconvert_exporter": "python",
   "pygments_lexer": "ipython3",
   "version": "3.10.12"
  },
  "orig_nbformat": 4
 },
 "nbformat": 4,
 "nbformat_minor": 2
}
