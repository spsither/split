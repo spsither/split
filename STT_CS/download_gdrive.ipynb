{
 "cells": [
  {
   "cell_type": "code",
   "execution_count": null,
   "metadata": {},
   "outputs": [],
   "source": [
    "import pandas as pd\n",
    "from pathlib import Path\n",
    "import os\n",
    "import gdown\n",
    "\n",
    "def read_spreadsheet():\n",
    "    SHEET_ID = \"1-WuaaWKIHJfGQhDXVSwG-v2qGqxQYVqqk7lFeHyxEzk\"\n",
    "    url = f\"https://docs.google.com/spreadsheets/d/{SHEET_ID}/gviz/tq?tqx=out:csv\"\n",
    "    df = pd.read_csv(url)\n",
    "    return df"
   ]
  },
  {
   "cell_type": "code",
   "execution_count": null,
   "metadata": {},
   "outputs": [],
   "source": [
    "spreadsheet = read_spreadsheet()"
   ]
  },
  {
   "cell_type": "code",
   "execution_count": null,
   "metadata": {},
   "outputs": [],
   "source": [
    "spreadsheet.head()"
   ]
  },
  {
   "cell_type": "code",
   "execution_count": null,
   "metadata": {},
   "outputs": [],
   "source": [
    "spreadsheet.columns"
   ]
  },
  {
   "cell_type": "code",
   "execution_count": null,
   "metadata": {},
   "outputs": [],
   "source": [
    "spreadsheet['Audio link text']"
   ]
  },
  {
   "cell_type": "code",
   "execution_count": null,
   "metadata": {},
   "outputs": [],
   "source": [
    "def download_audio(gd_url):\n",
    "    print(gd_url)\n",
    "    # gdown.download(gd_url, output_file, quiet=False)\n",
    "    file_id = gd_url.split(\"/\")[-2] if \"drive.google.com\" in gd_url else gd_url\n",
    "    # Download the file\n",
    "    gdown.download(f\"https://drive.google.com/uc?id={file_id}\", output=\"full_audio/\", quiet=False)\n",
    "\n",
    "        \n",
    "# https://drive.google.com/file/d/15IyTrnoUM39L5MjfBRq1EcCEUpt-ecwH/view?usp=share_link\n",
    "if __name__ == \"__main__\":\n",
    "    spreadsheet = read_spreadsheet()\n",
    "    # print(spreadsheet)\n",
    "    \n",
    "    for index, row in spreadsheet.iterrows():\n",
    "        gd_url = row['Audio link text']\n",
    "        id = row['Sr. no. ']\n",
    "        # print(id)\n",
    "        # print(isinstance(gd_url, str), isinstance(id, str))\n",
    "        # if not isinstance(gd_url, str) or not isinstance(id, str):\n",
    "        #     continue\n",
    "        if id >= 520 and id <= 540:\n",
    "            print(id, gd_url)\n",
    "            download_audio(gd_url)\n"
   ]
  },
  {
   "cell_type": "code",
   "execution_count": null,
   "metadata": {},
   "outputs": [],
   "source": []
  }
 ],
 "metadata": {
  "kernelspec": {
   "display_name": ".env",
   "language": "python",
   "name": "python3"
  },
  "language_info": {
   "codemirror_mode": {
    "name": "ipython",
    "version": 3
   },
   "file_extension": ".py",
   "mimetype": "text/x-python",
   "name": "python",
   "nbconvert_exporter": "python",
   "pygments_lexer": "ipython3",
   "version": "3.10.12"
  },
  "orig_nbformat": 4
 },
 "nbformat": 4,
 "nbformat_minor": 2
}
