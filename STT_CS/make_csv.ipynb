{
 "cells": [
  {
   "cell_type": "code",
   "execution_count": null,
   "metadata": {},
   "outputs": [],
   "source": [
    "# !aws s3 cp segments_cs_gb s3://monlam.ai.stt/stt_pecha_tools/ --recursive"
   ]
  },
  {
   "cell_type": "code",
   "execution_count": 1,
   "metadata": {},
   "outputs": [],
   "source": [
    "group = \"gf\"\n",
    "target_directory = f\"segments_cs_{group}\""
   ]
  },
  {
   "cell_type": "code",
   "execution_count": 2,
   "metadata": {},
   "outputs": [
    {
     "data": {
      "text/plain": [
       "5.214"
      ]
     },
     "execution_count": 2,
     "metadata": {},
     "output_type": "execute_result"
    }
   ],
   "source": [
    "import os\n",
    "def getTimeSpan(filename):\n",
    "    filename = os.path.splitext(os.path.basename(filename))[0]\n",
    "    try:\n",
    "        if \"_to_\" in filename:\n",
    "            start, end = filename.split(\"_to_\")\n",
    "            start = start.split(\"_\")[-1]\n",
    "            end = end.split(\"_\")[0]\n",
    "            end = float(end)\n",
    "            start = float(start)\n",
    "            return (end - start)/1000\n",
    "        else:\n",
    "            start, end = filename.split(\"-\")\n",
    "            start = start.split(\"_\")[-1]\n",
    "            end = end.split(\"_\")[0]\n",
    "            end = float(end)\n",
    "            start = float(start)\n",
    "            return (end - start)\n",
    "    except Exception as err:\n",
    "        print(f\"filename is:'{filename}'. Could not parse to get time span.\")\n",
    "        return 0\n",
    "    \n",
    "getTimeSpan(\"STT_AB00094_0057_290646_to_295860.mp3\")\n",
    "getTimeSpan(\"STT_AB00094_0057_290646_to_295860\")"
   ]
  },
  {
   "cell_type": "code",
   "execution_count": 4,
   "metadata": {},
   "outputs": [],
   "source": [
    "import os\n",
    "rows = []\n",
    "from transformers import pipeline\n",
    "generator = pipeline(model=\"openpecha/wav2vec2_run8\")\n",
    "\n",
    "for root, _, files in os.walk(target_directory):\n",
    "        for file in files:\n",
    "            source_file_path = os.path.join(root, file)\n",
    "            # print(f\"{file} https://d38pmlk0v88drf.cloudfront.net/stt_pecha_tools/{file}\")\n",
    "            opt = generator(f\"/media/monlamai/SSD/GitHub/split/STT_CS/segments_cs_{group}/{file}\")\n",
    "            inf = opt['text']\n",
    "            rows.append([file, f\"https://d38pmlk0v88drf.cloudfront.net/stt_pecha_tools/{file}\", inf , getTimeSpan(file)])"
   ]
  },
  {
   "cell_type": "code",
   "execution_count": 5,
   "metadata": {},
   "outputs": [
    {
     "data": {
      "text/plain": [
       "['STT_CS-D-2014-P-D-B05-3-T-01_0072_617025_to_619336.wav',\n",
       " 'https://d38pmlk0v88drf.cloudfront.net/stt_pecha_tools/STT_CS-D-2014-P-D-B05-3-T-01_0072_617025_to_619336.wav',\n",
       " 'ཨེ་དེ་ནས་ཁོ་ལ་ཨེ་',\n",
       " 2.311]"
      ]
     },
     "execution_count": 5,
     "metadata": {},
     "output_type": "execute_result"
    }
   ],
   "source": [
    "rows[0]"
   ]
  },
  {
   "cell_type": "code",
   "execution_count": 6,
   "metadata": {},
   "outputs": [],
   "source": [
    "import pandas as pd\n",
    "df = pd.DataFrame(rows, columns =['file_name', 'url', 'inference_transcript', 'audio_duration'])"
   ]
  },
  {
   "cell_type": "code",
   "execution_count": 7,
   "metadata": {},
   "outputs": [
    {
     "data": {
      "text/html": [
       "<div>\n",
       "<style scoped>\n",
       "    .dataframe tbody tr th:only-of-type {\n",
       "        vertical-align: middle;\n",
       "    }\n",
       "\n",
       "    .dataframe tbody tr th {\n",
       "        vertical-align: top;\n",
       "    }\n",
       "\n",
       "    .dataframe thead th {\n",
       "        text-align: right;\n",
       "    }\n",
       "</style>\n",
       "<table border=\"1\" class=\"dataframe\">\n",
       "  <thead>\n",
       "    <tr style=\"text-align: right;\">\n",
       "      <th></th>\n",
       "      <th>file_name</th>\n",
       "      <th>url</th>\n",
       "      <th>inference_transcript</th>\n",
       "      <th>audio_duration</th>\n",
       "    </tr>\n",
       "  </thead>\n",
       "  <tbody>\n",
       "    <tr>\n",
       "      <th>0</th>\n",
       "      <td>STT_CS-D-2014-P-D-B05-3-T-01_0072_617025_to_61...</td>\n",
       "      <td>https://d38pmlk0v88drf.cloudfront.net/stt_pech...</td>\n",
       "      <td>ཨེ་དེ་ནས་ཁོ་ལ་ཨེ་</td>\n",
       "      <td>2.311</td>\n",
       "    </tr>\n",
       "    <tr>\n",
       "      <th>1</th>\n",
       "      <td>STT_CS-X-2016-P-D-B02-2-R-01_0151_1805332_to_1...</td>\n",
       "      <td>https://d38pmlk0v88drf.cloudfront.net/stt_pech...</td>\n",
       "      <td>ན་ཝ།དི་ གུ།ཨ་ཁུ་ྦ་པ་། སྦག་པ།</td>\n",
       "      <td>7.441</td>\n",
       "    </tr>\n",
       "    <tr>\n",
       "      <th>2</th>\n",
       "      <td>STT_CS-D-2017-P-D-B01-1-R-03_0013_74097_to_808...</td>\n",
       "      <td>https://d38pmlk0v88drf.cloudfront.net/stt_pech...</td>\n",
       "      <td>ཤིང་སྡོང་ད་ཁ་སླེབས་རེད་ད་ར། ་སཨ་ནས་དཀོན་མཆོག་ར...</td>\n",
       "      <td>6.756</td>\n",
       "    </tr>\n",
       "    <tr>\n",
       "      <th>3</th>\n",
       "      <td>STT_CS-D-2016-P-D-B01-2-R-02_0034_309496_to_31...</td>\n",
       "      <td>https://d38pmlk0v88drf.cloudfront.net/stt_pech...</td>\n",
       "      <td>ཁོ་ད་སྒོར་གྱི་སྡེབ་གི་ཡོད་རེད་ད་རའ། ཨ་ད་བུ་མོ་...</td>\n",
       "      <td>7.867</td>\n",
       "    </tr>\n",
       "    <tr>\n",
       "      <th>4</th>\n",
       "      <td>STT_CS-X-2016-P-D-B02-2-R-01_0146_1767141_to_1...</td>\n",
       "      <td>https://d38pmlk0v88drf.cloudfront.net/stt_pech...</td>\n",
       "      <td>གསར་བ་འདི་ནེད་འགྲོ་གེ། ད་དག་ལྟ་དགོ་།</td>\n",
       "      <td>3.942</td>\n",
       "    </tr>\n",
       "  </tbody>\n",
       "</table>\n",
       "</div>"
      ],
      "text/plain": [
       "                                           file_name  \\\n",
       "0  STT_CS-D-2014-P-D-B05-3-T-01_0072_617025_to_61...   \n",
       "1  STT_CS-X-2016-P-D-B02-2-R-01_0151_1805332_to_1...   \n",
       "2  STT_CS-D-2017-P-D-B01-1-R-03_0013_74097_to_808...   \n",
       "3  STT_CS-D-2016-P-D-B01-2-R-02_0034_309496_to_31...   \n",
       "4  STT_CS-X-2016-P-D-B02-2-R-01_0146_1767141_to_1...   \n",
       "\n",
       "                                                 url  \\\n",
       "0  https://d38pmlk0v88drf.cloudfront.net/stt_pech...   \n",
       "1  https://d38pmlk0v88drf.cloudfront.net/stt_pech...   \n",
       "2  https://d38pmlk0v88drf.cloudfront.net/stt_pech...   \n",
       "3  https://d38pmlk0v88drf.cloudfront.net/stt_pech...   \n",
       "4  https://d38pmlk0v88drf.cloudfront.net/stt_pech...   \n",
       "\n",
       "                                inference_transcript  audio_duration  \n",
       "0                                  ཨེ་དེ་ནས་ཁོ་ལ་ཨེ་           2.311  \n",
       "1                       ན་ཝ།དི་ གུ།ཨ་ཁུ་ྦ་པ་། སྦག་པ།           7.441  \n",
       "2  ཤིང་སྡོང་ད་ཁ་སླེབས་རེད་ད་ར། ་སཨ་ནས་དཀོན་མཆོག་ར...           6.756  \n",
       "3  ཁོ་ད་སྒོར་གྱི་སྡེབ་གི་ཡོད་རེད་ད་རའ། ཨ་ད་བུ་མོ་...           7.867  \n",
       "4               གསར་བ་འདི་ནེད་འགྲོ་གེ། ད་དག་ལྟ་དགོ་།           3.942  "
      ]
     },
     "execution_count": 7,
     "metadata": {},
     "output_type": "execute_result"
    }
   ],
   "source": [
    "df.head()"
   ]
  },
  {
   "cell_type": "code",
   "execution_count": 19,
   "metadata": {},
   "outputs": [],
   "source": [
    "df.to_csv(f\"segments_cs_{group}_inf.csv\", index=False)"
   ]
  },
  {
   "cell_type": "code",
   "execution_count": 26,
   "metadata": {},
   "outputs": [
    {
     "data": {
      "text/plain": [
       "{'inference_transcript': {0: 'ར་ལབ་རེད་ད། ཨ་ལེ་བྷེ་བྷ་ལབ་རེད་ད། ཨ་ནས་བུ་དེ་ཡོད་བ།',\n",
       "  1: 'ཏི་ཙི་བཅུ་ལ་ཐུག་སོང་ལབ་རེད་ད། ཨ་ནས་ཤེན་ྨན་དེ་ཡོད་སེམ་གང་ལས་ཤག་བྱས་རེད་ད་རེད་། ལག་པ།',\n",
       "  2: 'ད་ཁོ་ཀ་ཅི་སམ་བློ་ཁོ་རེད་རཱད།',\n",
       "  3: 'ཞུག་དགོ་ལབ་རེད་ད་རད། ཨེ་ནས་དེ་རྗེས་བུ་ཉི་མ་ཞོགས་པ་ཡང་།འབུ་གཅིག་གིས་ར། ྲག་རེད་དར། བུ་གཅིག་དང་བུ་ཆུང།',\n",
       "  4: 'ག།བཅོག་ཅཡི།',\n",
       "  5: 'ཨེ་ནས་བུ་དེ་ཆུ་འདྲ་པོ་བཏུག། མི་ལ་ལག་པ་བཙོ་ཚང་ནས་ཁོ་ཡག་པོ་དཔེ་ཆགས་རེད་འདུག ཨ་ནས་བུ་གཅིག་ག་ལ་རྔན་པབུ་མོ་གཅིག་ཁོ་།',\n",
       "  6: 'ྤྲད་བྱས་རད་ད་ར། ཨ་ནས་ཉི་མ་གཅིག་ཨེ་འདྲ་བྱས་བྱས། ཞུངདྲོ་མ་ར་ཟོང་རེ་ད།དཀ་པོ་སྒང་ལ་ཡོད་་མེ།',\n",
       "  7: 'ཆུ་ཚོད་ག་ཚོད་རེད་ཤག་རད་རེད་ད་ཡོད་བ། ཆོ་ཚོད།',\n",
       "  8: 'ཨ་ནས་ར། དི།ད་ཁོ་ཉལ་ག་འགྲོ་རེད་ད། ཡུད་གཉིས་ཞིག་ཡོད་རེད་ད། ཉལ་ག་འགྲོ་རེད་ད་ར།',\n",
       "  9: 'ཐོ་མ་ཡོད་། ང་་།'},\n",
       " 'url': {0: 'https://d38pmlk0v88drf.cloudfront.net/stt_pecha_tools/STT_CS-D-2016-P-D-B01-1-R-01_0015_109104_to_115418.wav',\n",
       "  1: 'https://d38pmlk0v88drf.cloudfront.net/stt_pecha_tools/STT_CS-D-2016-M-D-B02-2-R-13_0052_384352_to_390288.wav',\n",
       "  2: 'https://d38pmlk0v88drf.cloudfront.net/stt_pecha_tools/STT_CS-D-2015-M-D-B02-2-R-05_0076_504854_to_507568.wav',\n",
       "  3: 'https://d38pmlk0v88drf.cloudfront.net/stt_pecha_tools/STT_CS-D-2015-P-D-B02-2-R-04_0006_37709_to_46962.wav',\n",
       "  4: 'https://d38pmlk0v88drf.cloudfront.net/stt_pecha_tools/STT_CS-L-2017_2017-P_P-D_D-B04_B04-1_1-R_R-01_0077_552534_to_554974.wav',\n",
       "  5: 'https://d38pmlk0v88drf.cloudfront.net/stt_pecha_tools/STT_CS-D-2016-P-D-B01-1-R-01_0062_470784_to_479820.wav',\n",
       "  6: 'https://d38pmlk0v88drf.cloudfront.net/stt_pecha_tools/STT_CS-D-2015-P-D-B02-2-R-04_0145_1072397_to_1082116.wav',\n",
       "  7: 'https://d38pmlk0v88drf.cloudfront.net/stt_pecha_tools/STT_CS-D-2016-P-D-B01-1-R-01_0017_118779_to_121868.wav',\n",
       "  8: 'https://d38pmlk0v88drf.cloudfront.net/stt_pecha_tools/STT_CS-D-2016-M-D-B02-2-R-13_0130_934257_to_939121.wav',\n",
       "  9: 'https://d38pmlk0v88drf.cloudfront.net/stt_pecha_tools/STT_CS-L-2017_2017-M_M-D_D-B01_B01-1_1-R_R-01_0104_860315_to_863370.wav'}}"
      ]
     },
     "execution_count": 26,
     "metadata": {},
     "output_type": "execute_result"
    }
   ],
   "source": [
    "df[['inference_transcript','url']].iloc[0:10].to_dict()"
   ]
  },
  {
   "cell_type": "code",
   "execution_count": null,
   "metadata": {},
   "outputs": [],
   "source": []
  }
 ],
 "metadata": {
  "kernelspec": {
   "display_name": ".env",
   "language": "python",
   "name": "python3"
  },
  "language_info": {
   "codemirror_mode": {
    "name": "ipython",
    "version": 3
   },
   "file_extension": ".py",
   "mimetype": "text/x-python",
   "name": "python",
   "nbconvert_exporter": "python",
   "pygments_lexer": "ipython3",
   "version": "3.10.12"
  },
  "orig_nbformat": 4
 },
 "nbformat": 4,
 "nbformat_minor": 2
}
