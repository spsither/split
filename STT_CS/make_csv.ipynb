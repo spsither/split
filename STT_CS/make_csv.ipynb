{
 "cells": [
  {
   "cell_type": "code",
   "execution_count": 1,
   "metadata": {},
   "outputs": [],
   "source": [
    "group = \"gf\"\n",
    "target_directory = f\"segments_cs_{group}\"\n",
    "# target_directory = f\"/media/monlamai/SSD/CS/segments\""
   ]
  },
  {
   "cell_type": "code",
   "execution_count": 2,
   "metadata": {},
   "outputs": [
    {
     "data": {
      "text/plain": [
       "5.214"
      ]
     },
     "execution_count": 2,
     "metadata": {},
     "output_type": "execute_result"
    }
   ],
   "source": [
    "import os\n",
    "def getTimeSpan(filename):\n",
    "    filename = os.path.splitext(os.path.basename(filename))[0]\n",
    "    try:\n",
    "        if \"_to_\" in filename:\n",
    "            start, end = filename.split(\"_to_\")\n",
    "            start = start.split(\"_\")[-1]\n",
    "            end = end.split(\"_\")[0]\n",
    "            end = float(end)\n",
    "            start = float(start)\n",
    "            return (end - start)/1000\n",
    "        else:\n",
    "            start, end = filename.split(\"-\")\n",
    "            start = start.split(\"_\")[-1]\n",
    "            end = end.split(\"_\")[0]\n",
    "            end = float(end)\n",
    "            start = float(start)\n",
    "            return (end - start)\n",
    "    except Exception as err:\n",
    "        print(f\"filename is:'{filename}'. Could not parse to get time span.\")\n",
    "        return 0\n",
    "    \n",
    "getTimeSpan(\"STT_AB00094_0057_290646_to_295860.mp3\")\n",
    "getTimeSpan(\"STT_AB00094_0057_290646_to_295860\")"
   ]
  },
  {
   "cell_type": "code",
   "execution_count": 3,
   "metadata": {},
   "outputs": [
    {
     "name": "stderr",
     "output_type": "stream",
     "text": [
      "/media/monlamai/SSD/GitHub/split/.env/lib/python3.10/site-packages/tqdm/auto.py:21: TqdmWarning: IProgress not found. Please update jupyter and ipywidgets. See https://ipywidgets.readthedocs.io/en/stable/user_install.html\n",
      "  from .autonotebook import tqdm as notebook_tqdm\n"
     ]
    },
    {
     "name": "stdout",
     "output_type": "stream",
     "text": [
      "་ནས་ཨེ་ནས་དུས་མེས་མང་པོ་བཏགས་གཅིག\n",
      "་སློབ་གྲྭ་ཁག་རེད། སྤྱི་ཚོགས་སྤྱི་ཡོངས་ལ་དུས་བཏག་གི་འདུག སཕྱི་ཚོགས་ཞབས་གཅིག་ཞུས་ངི་མང་དག་ཅིག་ཕེབས་བསྡད་བཞག ཨེ་ནས་བུད་མེད་ལྟ་བུ་ཆག་བཞག་པ་ཡིན་པ་ཡིན་ན།\n",
      "བོད་མེད་བཅུ་གཅིག་བྱས་བྱས་ད་ལེ་སྐུ་ཚབ་ཡོད་ཡོད་དོས་སྐབས་ལ་ཕལ་ཆེར་བརྒྱ་ཆེ་གཉིསས་སན་ལྔ་སེ་\n"
     ]
    }
   ],
   "source": [
    "import os\n",
    "rows = []\n",
    "from transformers import pipeline\n",
    "generator = pipeline(model=\"openpecha/wav2vec2_run8\")\n",
    "\n",
    "for root, _, files in os.walk(target_directory):\n",
    "        for file in files:\n",
    "            source_file_path = os.path.join(root, file)\n",
    "            opt = generator(f\"/media/monlamai/SSD/GitHub/split/STT_CS/segments_cs_{group}/{file}\")\n",
    "            # opt = generator(f\"/media/monlamai/SSD/CS/segments/{file}\")\n",
    "            inf = opt['text']\n",
    "            print(inf)\n",
    "            rows.append([file, f\"https://d38pmlk0v88drf.cloudfront.net/stt_pecha_tools/{file}\", inf , getTimeSpan(file)])"
   ]
  },
  {
   "cell_type": "code",
   "execution_count": null,
   "metadata": {},
   "outputs": [],
   "source": [
    "rows[0]"
   ]
  },
  {
   "cell_type": "code",
   "execution_count": null,
   "metadata": {},
   "outputs": [],
   "source": [
    "import pandas as pd\n",
    "df = pd.DataFrame(rows, columns =['file_name', 'url', 'inference_transcript', 'audio_duration'])"
   ]
  },
  {
   "cell_type": "code",
   "execution_count": null,
   "metadata": {},
   "outputs": [],
   "source": [
    "df.head()"
   ]
  },
  {
   "cell_type": "code",
   "execution_count": null,
   "metadata": {},
   "outputs": [],
   "source": [
    "df.to_csv(f\"segments_cs_{group}_inf.csv\", index=False)"
   ]
  },
  {
   "cell_type": "code",
   "execution_count": null,
   "metadata": {},
   "outputs": [],
   "source": [
    "df[['inference_transcript','url']].iloc[0:10].to_dict()"
   ]
  },
  {
   "cell_type": "code",
   "execution_count": null,
   "metadata": {},
   "outputs": [],
   "source": [
    "group = \"gf\"\n",
    "group_id = 6\n",
    "last_db_id = 261687"
   ]
  },
  {
   "cell_type": "code",
   "execution_count": null,
   "metadata": {},
   "outputs": [],
   "source": [
    "df['group_id'] = group_id\n",
    "df['state'] = 'imported'\n",
    "df['id'] = df.index + last_db_id + 1"
   ]
  },
  {
   "cell_type": "code",
   "execution_count": null,
   "metadata": {},
   "outputs": [],
   "source": [
    "df.head()"
   ]
  },
  {
   "cell_type": "code",
   "execution_count": null,
   "metadata": {},
   "outputs": [],
   "source": [
    "df.to_csv(f\"segments_cs_{group}.csv\", index=False)"
   ]
  },
  {
   "cell_type": "code",
   "execution_count": 9,
   "metadata": {},
   "outputs": [
    {
     "name": "stdout",
     "output_type": "stream",
     "text": [
      "ས་ཡ་gcig དང་འབུམ་གཅིག་\n"
     ]
    }
   ],
   "source": [
    "from num2tib.core import convert\n",
    "from num2tib.core import convert2text\n",
    "\n",
    "print(convert(\"1100000\", False))\n",
    "#གཅིག་ གཉིས་ གསུམ་ "
   ]
  },
  {
   "cell_type": "code",
   "execution_count": null,
   "metadata": {},
   "outputs": [],
   "source": []
  }
 ],
 "metadata": {
  "kernelspec": {
   "display_name": ".env",
   "language": "python",
   "name": "python3"
  },
  "language_info": {
   "codemirror_mode": {
    "name": "ipython",
    "version": 3
   },
   "file_extension": ".py",
   "mimetype": "text/x-python",
   "name": "python",
   "nbconvert_exporter": "python",
   "pygments_lexer": "ipython3",
   "version": "3.10.12"
  },
  "orig_nbformat": 4
 },
 "nbformat": 4,
 "nbformat_minor": 2
}
