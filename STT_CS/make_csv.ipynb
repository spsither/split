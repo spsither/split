{
 "cells": [
  {
   "cell_type": "code",
   "execution_count": null,
   "metadata": {},
   "outputs": [],
   "source": [
    "# !aws s3 cp segments_cs_gb s3://monlam.ai.stt/stt_pecha_tools/ --recursive"
   ]
  },
  {
   "cell_type": "code",
   "execution_count": 2,
   "metadata": {},
   "outputs": [],
   "source": [
    "group = \"gb\"\n",
    "target_directory = f\"segments_cs_{group}\""
   ]
  },
  {
   "cell_type": "code",
   "execution_count": 3,
   "metadata": {},
   "outputs": [
    {
     "data": {
      "text/plain": [
       "5.214"
      ]
     },
     "execution_count": 3,
     "metadata": {},
     "output_type": "execute_result"
    }
   ],
   "source": [
    "import os\n",
    "def getTimeSpan(filename):\n",
    "    filename = os.path.splitext(os.path.basename(filename))[0]\n",
    "    try:\n",
    "        if \"_to_\" in filename:\n",
    "            start, end = filename.split(\"_to_\")\n",
    "            start = start.split(\"_\")[-1]\n",
    "            end = end.split(\"_\")[0]\n",
    "            end = float(end)\n",
    "            start = float(start)\n",
    "            return (end - start)/1000\n",
    "        else:\n",
    "            start, end = filename.split(\"-\")\n",
    "            start = start.split(\"_\")[-1]\n",
    "            end = end.split(\"_\")[0]\n",
    "            end = float(end)\n",
    "            start = float(start)\n",
    "            return (end - start)\n",
    "    except Exception as err:\n",
    "        print(f\"filename is:'{filename}'. Could not parse to get time span.\")\n",
    "        return 0\n",
    "    \n",
    "getTimeSpan(\"STT_AB00094_0057_290646_to_295860.mp3\")\n",
    "getTimeSpan(\"STT_AB00094_0057_290646_to_295860\")"
   ]
  },
  {
   "cell_type": "code",
   "execution_count": 6,
   "metadata": {},
   "outputs": [],
   "source": [
    "import os\n",
    "rows = []\n",
    "from transformers import pipeline\n",
    "generator = pipeline(model=\"openpecha/wav2vec2_run8\")\n",
    "\n",
    "for root, _, files in os.walk(target_directory):\n",
    "        for file in files:\n",
    "            source_file_path = os.path.join(root, file)\n",
    "            # print(f\"{file} https://d38pmlk0v88drf.cloudfront.net/stt_pecha_tools/{file}\")\n",
    "            opt = generator(f\"/media/spsither/HD/GitHub/split/STT_CS/segments_cs_gb/{file}\")\n",
    "            inf = opt['text']\n",
    "            rows.append([file, f\"https://d38pmlk0v88drf.cloudfront.net/stt_pecha_tools/{file}\", inf , getTimeSpan(file)])"
   ]
  },
  {
   "cell_type": "code",
   "execution_count": 7,
   "metadata": {},
   "outputs": [
    {
     "data": {
      "text/plain": [
       "['STT_CS-D-2016-P-D-B01-1-R-01_0015_109104_to_115418.wav',\n",
       " 'https://d38pmlk0v88drf.cloudfront.net/stt_pecha_tools/STT_CS-D-2016-P-D-B01-1-R-01_0015_109104_to_115418.wav',\n",
       " 'ར་ལབ་རེད་ད། ཨ་ལེ་བྷེ་བྷ་ལབ་རེད་ད། ཨ་ནས་བུ་དེ་ཡོད་བ།',\n",
       " 6.314]"
      ]
     },
     "execution_count": 7,
     "metadata": {},
     "output_type": "execute_result"
    }
   ],
   "source": [
    "rows[0]"
   ]
  },
  {
   "cell_type": "code",
   "execution_count": 8,
   "metadata": {},
   "outputs": [],
   "source": [
    "import pandas as pd\n",
    "df = pd.DataFrame(rows, columns =['file_name', 'url', 'inference', 'audio_duration'])"
   ]
  },
  {
   "cell_type": "code",
   "execution_count": 10,
   "metadata": {},
   "outputs": [
    {
     "data": {
      "text/html": [
       "<div>\n",
       "<style scoped>\n",
       "    .dataframe tbody tr th:only-of-type {\n",
       "        vertical-align: middle;\n",
       "    }\n",
       "\n",
       "    .dataframe tbody tr th {\n",
       "        vertical-align: top;\n",
       "    }\n",
       "\n",
       "    .dataframe thead th {\n",
       "        text-align: right;\n",
       "    }\n",
       "</style>\n",
       "<table border=\"1\" class=\"dataframe\">\n",
       "  <thead>\n",
       "    <tr style=\"text-align: right;\">\n",
       "      <th></th>\n",
       "      <th>file_name</th>\n",
       "      <th>url</th>\n",
       "      <th>inference</th>\n",
       "      <th>audio_duration</th>\n",
       "    </tr>\n",
       "  </thead>\n",
       "  <tbody>\n",
       "    <tr>\n",
       "      <th>0</th>\n",
       "      <td>STT_CS-D-2016-P-D-B01-1-R-01_0015_109104_to_11...</td>\n",
       "      <td>https://d38pmlk0v88drf.cloudfront.net/stt_pech...</td>\n",
       "      <td>ར་ལབ་རེད་ད། ཨ་ལེ་བྷེ་བྷ་ལབ་རེད་ད། ཨ་ནས་བུ་དེ་ཡ...</td>\n",
       "      <td>6.314</td>\n",
       "    </tr>\n",
       "    <tr>\n",
       "      <th>1</th>\n",
       "      <td>STT_CS-D-2016-M-D-B02-2-R-13_0052_384352_to_39...</td>\n",
       "      <td>https://d38pmlk0v88drf.cloudfront.net/stt_pech...</td>\n",
       "      <td>ཏི་ཙི་བཅུ་ལ་ཐུག་སོང་ལབ་རེད་ད། ཨ་ནས་ཤེན་ྨན་དེ་ཡ...</td>\n",
       "      <td>5.936</td>\n",
       "    </tr>\n",
       "    <tr>\n",
       "      <th>2</th>\n",
       "      <td>STT_CS-D-2015-M-D-B02-2-R-05_0076_504854_to_50...</td>\n",
       "      <td>https://d38pmlk0v88drf.cloudfront.net/stt_pech...</td>\n",
       "      <td>ད་ཁོ་ཀ་ཅི་སམ་བློ་ཁོ་རེད་རཱད།</td>\n",
       "      <td>2.714</td>\n",
       "    </tr>\n",
       "    <tr>\n",
       "      <th>3</th>\n",
       "      <td>STT_CS-D-2015-P-D-B02-2-R-04_0006_37709_to_469...</td>\n",
       "      <td>https://d38pmlk0v88drf.cloudfront.net/stt_pech...</td>\n",
       "      <td>ཞུག་དགོ་ལབ་རེད་ད་རད། ཨེ་ནས་དེ་རྗེས་བུ་ཉི་མ་ཞོག...</td>\n",
       "      <td>9.253</td>\n",
       "    </tr>\n",
       "    <tr>\n",
       "      <th>4</th>\n",
       "      <td>STT_CS-L-2017_2017-P_P-D_D-B04_B04-1_1-R_R-01_...</td>\n",
       "      <td>https://d38pmlk0v88drf.cloudfront.net/stt_pech...</td>\n",
       "      <td>ག།བཅོག་ཅཡི།</td>\n",
       "      <td>2.440</td>\n",
       "    </tr>\n",
       "  </tbody>\n",
       "</table>\n",
       "</div>"
      ],
      "text/plain": [
       "                                           file_name  \\\n",
       "0  STT_CS-D-2016-P-D-B01-1-R-01_0015_109104_to_11...   \n",
       "1  STT_CS-D-2016-M-D-B02-2-R-13_0052_384352_to_39...   \n",
       "2  STT_CS-D-2015-M-D-B02-2-R-05_0076_504854_to_50...   \n",
       "3  STT_CS-D-2015-P-D-B02-2-R-04_0006_37709_to_469...   \n",
       "4  STT_CS-L-2017_2017-P_P-D_D-B04_B04-1_1-R_R-01_...   \n",
       "\n",
       "                                                 url  \\\n",
       "0  https://d38pmlk0v88drf.cloudfront.net/stt_pech...   \n",
       "1  https://d38pmlk0v88drf.cloudfront.net/stt_pech...   \n",
       "2  https://d38pmlk0v88drf.cloudfront.net/stt_pech...   \n",
       "3  https://d38pmlk0v88drf.cloudfront.net/stt_pech...   \n",
       "4  https://d38pmlk0v88drf.cloudfront.net/stt_pech...   \n",
       "\n",
       "                                           inference  audio_duration  \n",
       "0  ར་ལབ་རེད་ད། ཨ་ལེ་བྷེ་བྷ་ལབ་རེད་ད། ཨ་ནས་བུ་དེ་ཡ...           6.314  \n",
       "1  ཏི་ཙི་བཅུ་ལ་ཐུག་སོང་ལབ་རེད་ད། ཨ་ནས་ཤེན་ྨན་དེ་ཡ...           5.936  \n",
       "2                       ད་ཁོ་ཀ་ཅི་སམ་བློ་ཁོ་རེད་རཱད།           2.714  \n",
       "3  ཞུག་དགོ་ལབ་རེད་ད་རད། ཨེ་ནས་དེ་རྗེས་བུ་ཉི་མ་ཞོག...           9.253  \n",
       "4                                        ག།བཅོག་ཅཡི།           2.440  "
      ]
     },
     "execution_count": 10,
     "metadata": {},
     "output_type": "execute_result"
    }
   ],
   "source": [
    "df.head()"
   ]
  },
  {
   "cell_type": "code",
   "execution_count": 32,
   "metadata": {},
   "outputs": [],
   "source": [
    "df.to_csv(f\"segments_cs_{group}_inf.csv\", index=False)"
   ]
  },
  {
   "cell_type": "code",
   "execution_count": 24,
   "metadata": {},
   "outputs": [],
   "source": []
  },
  {
   "cell_type": "code",
   "execution_count": 25,
   "metadata": {},
   "outputs": [
    {
     "data": {
      "text/plain": [
       "{'text': 'ཚོན་ཁང་ཀ་ཅི་ལྕགས་བསྡད་ཡོད་རེད། གཅིག་རཱ། ཨེ་ནས་འགྲོ་རེད་ད། རཱ། ཨ་ནས།'}"
      ]
     },
     "execution_count": 25,
     "metadata": {},
     "output_type": "execute_result"
    }
   ],
   "source": [
    "opt"
   ]
  },
  {
   "cell_type": "code",
   "execution_count": null,
   "metadata": {},
   "outputs": [],
   "source": []
  }
 ],
 "metadata": {
  "kernelspec": {
   "display_name": ".env",
   "language": "python",
   "name": "python3"
  },
  "language_info": {
   "codemirror_mode": {
    "name": "ipython",
    "version": 3
   },
   "file_extension": ".py",
   "mimetype": "text/x-python",
   "name": "python",
   "nbconvert_exporter": "python",
   "pygments_lexer": "ipython3",
   "version": "3.10.12"
  },
  "orig_nbformat": 4
 },
 "nbformat": 4,
 "nbformat_minor": 2
}
