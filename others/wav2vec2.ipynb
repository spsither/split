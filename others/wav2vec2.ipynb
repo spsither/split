{
 "cells": [
  {
   "cell_type": "code",
   "execution_count": 2,
   "metadata": {},
   "outputs": [
    {
     "name": "stderr",
     "output_type": "stream",
     "text": [
      "/media/monlamai/FEEE31DEEE31903F/split/.env/lib/python3.10/site-packages/tqdm/auto.py:21: TqdmWarning: IProgress not found. Please update jupyter and ipywidgets. See https://ipywidgets.readthedocs.io/en/stable/user_install.html\n",
      "  from .autonotebook import tqdm as notebook_tqdm\n"
     ]
    }
   ],
   "source": [
    "from transformers import pipeline"
   ]
  },
  {
   "cell_type": "code",
   "execution_count": 15,
   "metadata": {},
   "outputs": [
    {
     "name": "stderr",
     "output_type": "stream",
     "text": [
      "Whisper did not predict an ending timestamp, which can happen if audio is cut off in the middle of a word. Also make sure WhisperTimeStampLogitsProcessor was used during generation.\n"
     ]
    }
   ],
   "source": [
    "# Not using whisper, as it cannot provide timestamps.\n",
    "generator = pipeline(model=\"spsither/whisper-small-r2-80k-3ep\", return_timestamps=\"word\")\n",
    "opt = generator(\"https://s3.ap-south-1.amazonaws.com/monlam.ai.stt/wav/STT_AB00001_0037_190274_to_197108.wav\")"
   ]
  },
  {
   "cell_type": "code",
   "execution_count": 16,
   "metadata": {},
   "outputs": [
    {
     "data": {
      "text/plain": [
       "{'text': ' bu che dgung lo bcu grangs shig gi skabs nyin zhig nye khris kyi bla ma na mnyam zhig gi bla brang du rtsed mo rtse bar phebs ',\n",
       " 'chunks': [{'text': ' bu', 'timestamp': (0.0, 0.24)},\n",
       "  {'text': ' che', 'timestamp': (0.24, 0.46)},\n",
       "  {'text': ' dgung', 'timestamp': (0.46, 0.74)},\n",
       "  {'text': ' lo', 'timestamp': (0.74, 0.84)},\n",
       "  {'text': ' bcu', 'timestamp': (0.84, 1.02)},\n",
       "  {'text': ' grangs', 'timestamp': (1.02, 1.26)},\n",
       "  {'text': ' shig', 'timestamp': (1.26, 1.46)},\n",
       "  {'text': ' gi', 'timestamp': (1.46, 1.58)},\n",
       "  {'text': ' skabs', 'timestamp': (1.58, 1.8)},\n",
       "  {'text': ' nyin', 'timestamp': (1.8, 2.5)},\n",
       "  {'text': ' zhig', 'timestamp': (2.5, 2.8)},\n",
       "  {'text': ' nye', 'timestamp': (2.8, 3.48)},\n",
       "  {'text': ' khris', 'timestamp': (3.48, 3.7)},\n",
       "  {'text': ' kyi', 'timestamp': (3.7, 3.84)},\n",
       "  {'text': ' bla', 'timestamp': (3.84, 4.0)},\n",
       "  {'text': ' ma', 'timestamp': (4.0, 4.16)},\n",
       "  {'text': ' na', 'timestamp': (4.16, 4.42)},\n",
       "  {'text': ' mnyam', 'timestamp': (4.42, 4.6)},\n",
       "  {'text': ' zhig', 'timestamp': (4.6, 4.84)},\n",
       "  {'text': ' gi', 'timestamp': (4.84, 5.02)},\n",
       "  {'text': ' bla', 'timestamp': (5.02, 5.18)},\n",
       "  {'text': ' brang', 'timestamp': (5.18, 5.4)},\n",
       "  {'text': ' du', 'timestamp': (5.4, 5.58)},\n",
       "  {'text': ' rtsed', 'timestamp': (5.58, 6.1)},\n",
       "  {'text': ' mo', 'timestamp': (6.1, 6.2)},\n",
       "  {'text': ' rtse', 'timestamp': (6.2, 6.36)},\n",
       "  {'text': ' bar', 'timestamp': (6.36, 6.56)},\n",
       "  {'text': ' phebs', 'timestamp': (6.56, 6.8)},\n",
       "  {'text': ' ', 'timestamp': (6.8, 8.32)}]}"
      ]
     },
     "execution_count": 16,
     "metadata": {},
     "output_type": "execute_result"
    }
   ],
   "source": [
    "opt"
   ]
  },
  {
   "cell_type": "code",
   "execution_count": 17,
   "metadata": {},
   "outputs": [],
   "source": [
    "import pyewts\n",
    "converter = pyewts.pyewts()\n"
   ]
  },
  {
   "cell_type": "code",
   "execution_count": 22,
   "metadata": {},
   "outputs": [
    {
     "name": "stdout",
     "output_type": "stream",
     "text": [
      " bu che dgung lo bcu grangs shig gi skabs nyin zhig nye khris kyi bla ma na mnyam zhig gi bla brang du rtsed mo rtse bar phebs \n",
      "བུ་ཆེ་དགུང་ལོ་བཅུ་གྲངས་ཤིག་གི་སྐབས་ཉིན་ཞིག་ཉེ་ཁྲིས་ཀྱི་བླ་མ་ན་མཉམ་ཞིག་གི་བླ་བྲང་དུ་རྩེད་མོ་རྩེ་བར་ཕེབས་\n"
     ]
    }
   ],
   "source": [
    "print(opt['text'])\n",
    "print(converter.toUnicode(opt['text']))"
   ]
  },
  {
   "cell_type": "code",
   "execution_count": 25,
   "metadata": {},
   "outputs": [
    {
     "name": "stdout",
     "output_type": "stream",
     "text": [
      "བུ (0.0, 0.24)\n",
      "ཆེ (0.24, 0.46)\n",
      "དགུང (0.46, 0.74)\n",
      "ལོ (0.74, 0.84)\n",
      "བཅུ (0.84, 1.02)\n",
      "གྲངས (1.02, 1.26)\n",
      "ཤིག (1.26, 1.46)\n",
      "གི (1.46, 1.58)\n",
      "སྐབས (1.58, 1.8)\n",
      "ཉིན (1.8, 2.5)\n",
      "ཞིག (2.5, 2.8)\n",
      "ཉེ (2.8, 3.48)\n",
      "ཁྲིས (3.48, 3.7)\n",
      "ཀྱི (3.7, 3.84)\n",
      "བླ (3.84, 4.0)\n",
      "མ (4.0, 4.16)\n",
      "ན (4.16, 4.42)\n",
      "མཉམ (4.42, 4.6)\n",
      "ཞིག (4.6, 4.84)\n",
      "གི (4.84, 5.02)\n",
      "བླ (5.02, 5.18)\n",
      "བྲང (5.18, 5.4)\n",
      "དུ (5.4, 5.58)\n",
      "རྩེད (5.58, 6.1)\n",
      "མོ (6.1, 6.2)\n",
      "རྩེ (6.2, 6.36)\n",
      "བར (6.36, 6.56)\n",
      "ཕེབས (6.56, 6.8)\n"
     ]
    }
   ],
   "source": [
    "# converter.toUnicode(\n",
    "\n",
    "for row in opt['chunks']:\n",
    "    if(row['text'] == ' '):\n",
    "        continue\n",
    "    print(converter.toUnicode(row['text']), row['timestamp'])"
   ]
  },
  {
   "cell_type": "code",
   "execution_count": 41,
   "metadata": {},
   "outputs": [],
   "source": [
    "def getTimeSpan(filename: str):\n",
    "    if \"_to_\" in filename:\n",
    "        start, end = filename.split(\"_to_\")\n",
    "        start = start.split(\"_\")[-1]\n",
    "        end = end.split(\"_\")[0]\n",
    "        end = float(end)\n",
    "        start = float(start)\n",
    "        return start, end, (end - start)/1000\n",
    "    else:\n",
    "        start, end = filename.split(\"-\")\n",
    "        start = start.split(\"_\")[-1]\n",
    "        end = end.split(\"_\")[0]\n",
    "        end = float(end)\n",
    "        start = float(start)\n",
    "        return start, end, (end - start)"
   ]
  },
  {
   "cell_type": "code",
   "execution_count": 46,
   "metadata": {},
   "outputs": [],
   "source": [
    "def getTimeSpan(filename):\n",
    "    try:\n",
    "        if \"_to_\" in filename:\n",
    "            start, end = filename.split(\"_to_\")\n",
    "            start = start.split(\"_\")[-1]\n",
    "            end = end.split(\"_\")[0]\n",
    "            end = float(end)\n",
    "            start = float(start)\n",
    "            return (end - start)/1000\n",
    "        else:\n",
    "            start, end = filename.split(\"-\")\n",
    "            start = start.split(\"_\")[-1]\n",
    "            end = end.split(\"_\")[0]\n",
    "            end = float(end)\n",
    "            start = float(start)\n",
    "            return (end - start)\n",
    "    except Exception as err:\n",
    "        print(f\"filename is:'{filename}'. Could not parse to get time span.\")\n",
    "        return 0"
   ]
  },
  {
   "cell_type": "code",
   "execution_count": 49,
   "metadata": {},
   "outputs": [
    {
     "name": "stdout",
     "output_type": "stream",
     "text": [
      "0.001\n"
     ]
    }
   ],
   "source": [
    "print(getTimeSpan(\"test_0.0_to_1.0\"))\n"
   ]
  },
  {
   "cell_type": "code",
   "execution_count": 44,
   "metadata": {},
   "outputs": [
    {
     "name": "stdout",
     "output_type": "stream",
     "text": [
      "(2129.45, 2132.25, 2.800000000000182)\n",
      "(40757.0, 45840.0, 5.083)\n"
     ]
    }
   ],
   "source": [
    "print(getTimeSpan(\"STT_TT00085_2129.450-2132.250\"))\n",
    "print(getTimeSpan(\"STT_CS-D-2016-M-D-B04-1-R-01a_0006_40757_to_45840\"))"
   ]
  },
  {
   "cell_type": "code",
   "execution_count": 47,
   "metadata": {},
   "outputs": [
    {
     "name": "stdout",
     "output_type": "stream",
     "text": [
      "filename is:''. Could not parse to get time span.\n",
      "0\n"
     ]
    }
   ],
   "source": [
    "print(getTimeSpan(\"\"))"
   ]
  },
  {
   "cell_type": "code",
   "execution_count": null,
   "metadata": {},
   "outputs": [],
   "source": []
  }
 ],
 "metadata": {
  "kernelspec": {
   "display_name": ".env",
   "language": "python",
   "name": "python3"
  },
  "language_info": {
   "codemirror_mode": {
    "name": "ipython",
    "version": 3
   },
   "file_extension": ".py",
   "mimetype": "text/x-python",
   "name": "python",
   "nbconvert_exporter": "python",
   "pygments_lexer": "ipython3",
   "version": "3.10.12"
  },
  "orig_nbformat": 4
 },
 "nbformat": 4,
 "nbformat_minor": 2
}
