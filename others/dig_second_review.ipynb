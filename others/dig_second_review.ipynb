{
 "cells": [
  {
   "cell_type": "code",
   "execution_count": 1,
   "metadata": {},
   "outputs": [],
   "source": [
    "import pandas as pd"
   ]
  },
  {
   "cell_type": "code",
   "execution_count": 9,
   "metadata": {},
   "outputs": [],
   "source": [
    "second_review_jsonl = '~/stt_second_review.jsonl'\n",
    "df = pd.read_json(second_review_jsonl, lines=True)"
   ]
  },
  {
   "cell_type": "code",
   "execution_count": 10,
   "metadata": {},
   "outputs": [],
   "source": [
    "df['dept'] = df['path'].apply(lambda x: x.split('/')[3])"
   ]
  },
  {
   "cell_type": "code",
   "execution_count": 11,
   "metadata": {},
   "outputs": [],
   "source": [
    "df['group'] = df['path'].apply(lambda x: x.split('/')[4])"
   ]
  },
  {
   "cell_type": "code",
   "execution_count": 23,
   "metadata": {},
   "outputs": [
    {
     "data": {
      "text/plain": [
       "14062"
      ]
     },
     "execution_count": 23,
     "metadata": {},
     "output_type": "execute_result"
    }
   ],
   "source": [
    "df[(df['dept'] == 'STT_TT') & (df['group'] == 'segments_gd')].shape[0]"
   ]
  },
  {
   "cell_type": "code",
   "execution_count": 6,
   "metadata": {},
   "outputs": [],
   "source": [
    "df = df[df['group'] == 'segments_gd']"
   ]
  },
  {
   "cell_type": "code",
   "execution_count": 7,
   "metadata": {},
   "outputs": [
    {
     "data": {
      "text/html": [
       "<div>\n",
       "<style scoped>\n",
       "    .dataframe tbody tr th:only-of-type {\n",
       "        vertical-align: middle;\n",
       "    }\n",
       "\n",
       "    .dataframe tbody tr th {\n",
       "        vertical-align: top;\n",
       "    }\n",
       "\n",
       "    .dataframe thead th {\n",
       "        text-align: right;\n",
       "    }\n",
       "</style>\n",
       "<table border=\"1\" class=\"dataframe\">\n",
       "  <thead>\n",
       "    <tr style=\"text-align: right;\">\n",
       "      <th></th>\n",
       "      <th>audio</th>\n",
       "      <th>text</th>\n",
       "      <th>path</th>\n",
       "      <th>transcript</th>\n",
       "      <th>html</th>\n",
       "      <th>_input_hash</th>\n",
       "      <th>_task_hash</th>\n",
       "      <th>_view_id</th>\n",
       "      <th>audio_spans</th>\n",
       "      <th>answer</th>\n",
       "      <th>...</th>\n",
       "      <th>meta</th>\n",
       "      <th>_is_binary</th>\n",
       "      <th>field_rows</th>\n",
       "      <th>field_label</th>\n",
       "      <th>field_id</th>\n",
       "      <th>field_autofocus</th>\n",
       "      <th>id</th>\n",
       "      <th>url</th>\n",
       "      <th>dept</th>\n",
       "      <th>group</th>\n",
       "    </tr>\n",
       "  </thead>\n",
       "  <tbody>\n",
       "    <tr>\n",
       "      <th>288</th>\n",
       "      <td>/home/spsither/STT_TT/segments_gd/STT_TT00075_...</td>\n",
       "      <td>STT_TT00075_04410.850-04412.400</td>\n",
       "      <td>/home/spsither/STT_TT/segments_gd/STT_TT00075_...</td>\n",
       "      <td>ཨེ་ནས་ཏིང་ངེ་འཛིན། ཡང་དག་པའི་ཏིང་ངེ་འཛིན།</td>\n",
       "      <td>NaN</td>\n",
       "      <td>-359267442</td>\n",
       "      <td>1210278589</td>\n",
       "      <td>blocks</td>\n",
       "      <td>[]</td>\n",
       "      <td>accept</td>\n",
       "      <td>...</td>\n",
       "      <td>{'file': 'STT_TT00075_04410.850-04412.400.wav'}</td>\n",
       "      <td>0.0</td>\n",
       "      <td>4.0</td>\n",
       "      <td>Transcript</td>\n",
       "      <td>transcript</td>\n",
       "      <td>1.0</td>\n",
       "      <td>NaN</td>\n",
       "      <td>NaN</td>\n",
       "      <td>STT_TT</td>\n",
       "      <td>segments_gd</td>\n",
       "    </tr>\n",
       "    <tr>\n",
       "      <th>2647</th>\n",
       "      <td>/home/spsither/STT_TT/segments_gd/STT_TT00024_...</td>\n",
       "      <td>STT_TT00024_00014.000-00015.200</td>\n",
       "      <td>/home/spsither/STT_TT/segments_gd/STT_TT00024_...</td>\n",
       "      <td>ལོག་པར་རྟོག་པ་ཁོ་ནའོ།</td>\n",
       "      <td>NaN</td>\n",
       "      <td>-1686416842</td>\n",
       "      <td>-33814601</td>\n",
       "      <td>blocks</td>\n",
       "      <td>[]</td>\n",
       "      <td>accept</td>\n",
       "      <td>...</td>\n",
       "      <td>{'file': 'STT_TT00024_00014.000-00015.200.wav'}</td>\n",
       "      <td>0.0</td>\n",
       "      <td>4.0</td>\n",
       "      <td>Transcript</td>\n",
       "      <td>transcript</td>\n",
       "      <td>1.0</td>\n",
       "      <td>NaN</td>\n",
       "      <td>NaN</td>\n",
       "      <td>STT_TT</td>\n",
       "      <td>segments_gd</td>\n",
       "    </tr>\n",
       "    <tr>\n",
       "      <th>2648</th>\n",
       "      <td>/home/spsither/STT_TT/segments_gd/STT_TT00024_...</td>\n",
       "      <td>STT_TT00024_00015.600-00016.550</td>\n",
       "      <td>/home/spsither/STT_TT/segments_gd/STT_TT00024_...</td>\n",
       "      <td>ཚིག་གསལ་ལས།</td>\n",
       "      <td>NaN</td>\n",
       "      <td>444013018</td>\n",
       "      <td>-305568775</td>\n",
       "      <td>blocks</td>\n",
       "      <td>[]</td>\n",
       "      <td>accept</td>\n",
       "      <td>...</td>\n",
       "      <td>{'file': 'STT_TT00024_00015.600-00016.550.wav'}</td>\n",
       "      <td>0.0</td>\n",
       "      <td>4.0</td>\n",
       "      <td>Transcript</td>\n",
       "      <td>transcript</td>\n",
       "      <td>1.0</td>\n",
       "      <td>NaN</td>\n",
       "      <td>NaN</td>\n",
       "      <td>STT_TT</td>\n",
       "      <td>segments_gd</td>\n",
       "    </tr>\n",
       "    <tr>\n",
       "      <th>2649</th>\n",
       "      <td>/home/spsither/STT_TT/segments_gd/STT_TT00024_...</td>\n",
       "      <td>STT_TT00024_00016.750-00018.800</td>\n",
       "      <td>/home/spsither/STT_TT/segments_gd/STT_TT00024_...</td>\n",
       "      <td>དགག་བྱ་ལ་དོན་དམ་གྱི་ཁྱད་པར་སྦྱོར་བ་བཀག་པ་ནི་</td>\n",
       "      <td>NaN</td>\n",
       "      <td>428844068</td>\n",
       "      <td>667002682</td>\n",
       "      <td>blocks</td>\n",
       "      <td>[]</td>\n",
       "      <td>accept</td>\n",
       "      <td>...</td>\n",
       "      <td>{'file': 'STT_TT00024_00016.750-00018.800.wav'}</td>\n",
       "      <td>0.0</td>\n",
       "      <td>4.0</td>\n",
       "      <td>Transcript</td>\n",
       "      <td>transcript</td>\n",
       "      <td>1.0</td>\n",
       "      <td>NaN</td>\n",
       "      <td>NaN</td>\n",
       "      <td>STT_TT</td>\n",
       "      <td>segments_gd</td>\n",
       "    </tr>\n",
       "    <tr>\n",
       "      <th>2650</th>\n",
       "      <td>/home/spsither/STT_TT/segments_gd/STT_TT00024_...</td>\n",
       "      <td>STT_TT00024_00022.050-00022.900</td>\n",
       "      <td>/home/spsither/STT_TT/segments_gd/STT_TT00024_...</td>\n",
       "      <td>འགོག་པའི་ཚིག་འདི་</td>\n",
       "      <td>NaN</td>\n",
       "      <td>-1802693897</td>\n",
       "      <td>362928434</td>\n",
       "      <td>blocks</td>\n",
       "      <td>[]</td>\n",
       "      <td>accept</td>\n",
       "      <td>...</td>\n",
       "      <td>{'file': 'STT_TT00024_00022.050-00022.900.wav'}</td>\n",
       "      <td>0.0</td>\n",
       "      <td>4.0</td>\n",
       "      <td>Transcript</td>\n",
       "      <td>transcript</td>\n",
       "      <td>1.0</td>\n",
       "      <td>NaN</td>\n",
       "      <td>NaN</td>\n",
       "      <td>STT_TT</td>\n",
       "      <td>segments_gd</td>\n",
       "    </tr>\n",
       "  </tbody>\n",
       "</table>\n",
       "<p>5 rows × 23 columns</p>\n",
       "</div>"
      ],
      "text/plain": [
       "                                                  audio  \\\n",
       "288   /home/spsither/STT_TT/segments_gd/STT_TT00075_...   \n",
       "2647  /home/spsither/STT_TT/segments_gd/STT_TT00024_...   \n",
       "2648  /home/spsither/STT_TT/segments_gd/STT_TT00024_...   \n",
       "2649  /home/spsither/STT_TT/segments_gd/STT_TT00024_...   \n",
       "2650  /home/spsither/STT_TT/segments_gd/STT_TT00024_...   \n",
       "\n",
       "                                 text  \\\n",
       "288   STT_TT00075_04410.850-04412.400   \n",
       "2647  STT_TT00024_00014.000-00015.200   \n",
       "2648  STT_TT00024_00015.600-00016.550   \n",
       "2649  STT_TT00024_00016.750-00018.800   \n",
       "2650  STT_TT00024_00022.050-00022.900   \n",
       "\n",
       "                                                   path  \\\n",
       "288   /home/spsither/STT_TT/segments_gd/STT_TT00075_...   \n",
       "2647  /home/spsither/STT_TT/segments_gd/STT_TT00024_...   \n",
       "2648  /home/spsither/STT_TT/segments_gd/STT_TT00024_...   \n",
       "2649  /home/spsither/STT_TT/segments_gd/STT_TT00024_...   \n",
       "2650  /home/spsither/STT_TT/segments_gd/STT_TT00024_...   \n",
       "\n",
       "                                        transcript html  _input_hash  \\\n",
       "288      ཨེ་ནས་ཏིང་ངེ་འཛིན། ཡང་དག་པའི་ཏིང་ངེ་འཛིན།  NaN   -359267442   \n",
       "2647                         ལོག་པར་རྟོག་པ་ཁོ་ནའོ།  NaN  -1686416842   \n",
       "2648                                   ཚིག་གསལ་ལས།  NaN    444013018   \n",
       "2649  དགག་བྱ་ལ་དོན་དམ་གྱི་ཁྱད་པར་སྦྱོར་བ་བཀག་པ་ནི་  NaN    428844068   \n",
       "2650                             འགོག་པའི་ཚིག་འདི་  NaN  -1802693897   \n",
       "\n",
       "      _task_hash _view_id audio_spans  answer  ...  \\\n",
       "288   1210278589   blocks          []  accept  ...   \n",
       "2647   -33814601   blocks          []  accept  ...   \n",
       "2648  -305568775   blocks          []  accept  ...   \n",
       "2649   667002682   blocks          []  accept  ...   \n",
       "2650   362928434   blocks          []  accept  ...   \n",
       "\n",
       "                                                 meta _is_binary field_rows  \\\n",
       "288   {'file': 'STT_TT00075_04410.850-04412.400.wav'}        0.0        4.0   \n",
       "2647  {'file': 'STT_TT00024_00014.000-00015.200.wav'}        0.0        4.0   \n",
       "2648  {'file': 'STT_TT00024_00015.600-00016.550.wav'}        0.0        4.0   \n",
       "2649  {'file': 'STT_TT00024_00016.750-00018.800.wav'}        0.0        4.0   \n",
       "2650  {'file': 'STT_TT00024_00022.050-00022.900.wav'}        0.0        4.0   \n",
       "\n",
       "     field_label    field_id  field_autofocus   id  url    dept        group  \n",
       "288   Transcript  transcript              1.0  NaN  NaN  STT_TT  segments_gd  \n",
       "2647  Transcript  transcript              1.0  NaN  NaN  STT_TT  segments_gd  \n",
       "2648  Transcript  transcript              1.0  NaN  NaN  STT_TT  segments_gd  \n",
       "2649  Transcript  transcript              1.0  NaN  NaN  STT_TT  segments_gd  \n",
       "2650  Transcript  transcript              1.0  NaN  NaN  STT_TT  segments_gd  \n",
       "\n",
       "[5 rows x 23 columns]"
      ]
     },
     "execution_count": 7,
     "metadata": {},
     "output_type": "execute_result"
    }
   ],
   "source": [
    "df.head()"
   ]
  },
  {
   "cell_type": "code",
   "execution_count": 12,
   "metadata": {},
   "outputs": [
    {
     "data": {
      "text/plain": [
       "116428"
      ]
     },
     "execution_count": 12,
     "metadata": {},
     "output_type": "execute_result"
    }
   ],
   "source": [
    "len(df)"
   ]
  },
  {
   "cell_type": "code",
   "execution_count": 25,
   "metadata": {},
   "outputs": [
    {
     "data": {
      "text/plain": [
       "23.699334288362685"
      ]
     },
     "execution_count": 25,
     "metadata": {},
     "output_type": "execute_result"
    }
   ],
   "source": [
    "(14062 / 59335) * 100"
   ]
  },
  {
   "cell_type": "code",
   "execution_count": 29,
   "metadata": {},
   "outputs": [
    {
     "data": {
      "text/plain": [
       "'བུཿ འདི་དང་མཉམ་དུ་གཞས་འདི་ཡ་ཡུད་མཐུན་པོ་ཡོད་རེད་ད་     བོུཿ   ཨ་ལེ་གཞས་ཨེ་  བོུཿ རྩེད་མོ་དང་གཞས་འོ།   མཚམས་མཚམས་ང་ཚོས་རྩེད་མོ་རྩེ་དུས་ ད་ལུས་རྩལ་འདྲ་བོ་རྩེ་དུས་ ང་ཚོས་སྒང་ནས་གཞས་སྤར་གོ་རེད། '"
      ]
     },
     "execution_count": 29,
     "metadata": {},
     "output_type": "execute_result"
    }
   ],
   "source": [
    "df[df['text'] == 'STT_NS0021_0228_1618084_to_1626218'].transcript.values[0]"
   ]
  },
  {
   "cell_type": "code",
   "execution_count": null,
   "metadata": {},
   "outputs": [],
   "source": []
  }
 ],
 "metadata": {
  "kernelspec": {
   "display_name": ".env",
   "language": "python",
   "name": "python3"
  },
  "language_info": {
   "codemirror_mode": {
    "name": "ipython",
    "version": 3
   },
   "file_extension": ".py",
   "mimetype": "text/x-python",
   "name": "python",
   "nbconvert_exporter": "python",
   "pygments_lexer": "ipython3",
   "version": "3.10.12"
  }
 },
 "nbformat": 4,
 "nbformat_minor": 2
}
