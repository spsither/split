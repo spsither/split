{
 "cells": [
  {
   "cell_type": "code",
   "execution_count": 78,
   "metadata": {},
   "outputs": [],
   "source": [
    "group = \"gg\"\n",
    "target_directory = f\"/media/monlamai/SSD/segments_{group}\""
   ]
  },
  {
   "cell_type": "code",
   "execution_count": 79,
   "metadata": {},
   "outputs": [
    {
     "data": {
      "text/plain": [
       "5.214"
      ]
     },
     "execution_count": 79,
     "metadata": {},
     "output_type": "execute_result"
    }
   ],
   "source": [
    "import os\n",
    "def getTimeSpan(filename):\n",
    "    filename = os.path.splitext(os.path.basename(filename))[0]\n",
    "    try:\n",
    "        if \"_to_\" in filename:\n",
    "            start, end = filename.split(\"_to_\")\n",
    "            start = start.split(\"_\")[-1]\n",
    "            end = end.split(\"_\")[0]\n",
    "            end = float(end)\n",
    "            start = float(start)\n",
    "            return (end - start)/1000\n",
    "        else:\n",
    "            start, end = filename.split(\"-\")\n",
    "            start = start.split(\"_\")[-1]\n",
    "            end = end.split(\"_\")[0]\n",
    "            end = float(end)\n",
    "            start = float(start)\n",
    "            return (end - start)\n",
    "    except Exception as err:\n",
    "        print(f\"filename is:'{filename}'. Could not parse to get time span.\")\n",
    "        return 0\n",
    "    \n",
    "getTimeSpan(\"STT_AB00094_0057_290646_to_295860.mp3\")\n",
    "getTimeSpan(\"STT_AB00094_0057_290646_to_295860\")"
   ]
  },
  {
   "cell_type": "code",
   "execution_count": 80,
   "metadata": {},
   "outputs": [],
   "source": [
    "import pandas as pd\n",
    "# Set Header Names\n",
    "all_tasks = \"/home/monlamai/all.csv\"\n",
    "columns = [\n",
    "    'id',\n",
    "    'group_id',\n",
    "    'state',\n",
    "    'inference_transcript',\n",
    "    'transcript',\n",
    "    'reviewed_transcript',\n",
    "    'final_transcript',\n",
    "    'file_name',\n",
    "    'url',\n",
    "    'transcriber_id',\n",
    "    'transcriber',\n",
    "    'reviewer_id',\n",
    "    'reviewer',\n",
    "    'final_reviewer_id',\n",
    "    'final_reviewer',\n",
    "    'created_at',\n",
    "    'submitted_at',\n",
    "    'reviewed_at',\n",
    "    'finalised_reviewed_at',\n",
    "    'duration',\n",
    "    'audio_duration'\n",
    "    ]\n",
    "\n",
    "df = pd.read_csv(all_tasks, header=None, names=columns)\n",
    "exist_files = set(df.file_name)"
   ]
  },
  {
   "cell_type": "code",
   "execution_count": 81,
   "metadata": {},
   "outputs": [],
   "source": [
    "import os\n",
    "rows = []\n",
    "from transformers import pipeline\n",
    "generator = pipeline(model=\"openpecha/wav2vec2_run8\")\n",
    "\n",
    "for root, _, files in os.walk(target_directory):    \n",
    "        for file in files:\n",
    "            if file in exist_files:\n",
    "                continue\n",
    "            source_file_path = os.path.join(root, file)\n",
    "            opt = generator(f\"/media/monlamai/SSD/segments_{group}/{file}\")\n",
    "            inf = opt['text']\n",
    "            print(inf)\n",
    "            rows.append([file, f\"https://d38pmlk0v88drf.cloudfront.net/stt_pecha_tools/{file}\", inf , getTimeSpan(file)])"
   ]
  },
  {
   "cell_type": "code",
   "execution_count": 71,
   "metadata": {},
   "outputs": [
    {
     "data": {
      "text/plain": [
       "['STT_TT00041_05046.850-05048.200.wav',\n",
       " 'https://d38pmlk0v88drf.cloudfront.net/stt_pecha_tools/STT_TT00041_05046.850-05048.200.wav',\n",
       " 'དཔྱད་འཇོག་ཟུང་འབྲེལ་གི་ཐོག་ནས།',\n",
       " 1.3499999999994543]"
      ]
     },
     "execution_count": 71,
     "metadata": {},
     "output_type": "execute_result"
    }
   ],
   "source": [
    "rows[0]"
   ]
  },
  {
   "cell_type": "code",
   "execution_count": 72,
   "metadata": {},
   "outputs": [],
   "source": [
    "import pandas as pd\n",
    "df = pd.DataFrame(rows, columns =['file_name', 'url', 'inference_transcript', 'audio_duration'])"
   ]
  },
  {
   "cell_type": "code",
   "execution_count": 73,
   "metadata": {},
   "outputs": [
    {
     "data": {
      "text/html": [
       "<div>\n",
       "<style scoped>\n",
       "    .dataframe tbody tr th:only-of-type {\n",
       "        vertical-align: middle;\n",
       "    }\n",
       "\n",
       "    .dataframe tbody tr th {\n",
       "        vertical-align: top;\n",
       "    }\n",
       "\n",
       "    .dataframe thead th {\n",
       "        text-align: right;\n",
       "    }\n",
       "</style>\n",
       "<table border=\"1\" class=\"dataframe\">\n",
       "  <thead>\n",
       "    <tr style=\"text-align: right;\">\n",
       "      <th></th>\n",
       "      <th>file_name</th>\n",
       "      <th>url</th>\n",
       "      <th>inference_transcript</th>\n",
       "      <th>audio_duration</th>\n",
       "    </tr>\n",
       "  </thead>\n",
       "  <tbody>\n",
       "    <tr>\n",
       "      <th>0</th>\n",
       "      <td>STT_TT00041_05046.850-05048.200.wav</td>\n",
       "      <td>https://d38pmlk0v88drf.cloudfront.net/stt_pech...</td>\n",
       "      <td>དཔྱད་འཇོག་ཟུང་འབྲེལ་གི་ཐོག་ནས།</td>\n",
       "      <td>1.35</td>\n",
       "    </tr>\n",
       "    <tr>\n",
       "      <th>1</th>\n",
       "      <td>STT_TT00042_03346.450-03348.050.wav</td>\n",
       "      <td>https://d38pmlk0v88drf.cloudfront.net/stt_pech...</td>\n",
       "      <td>སྐྱེ་བ་བཟང་ངན་གཉིས་སུ་ད།</td>\n",
       "      <td>1.60</td>\n",
       "    </tr>\n",
       "    <tr>\n",
       "      <th>2</th>\n",
       "      <td>STT_TT00046_00222.400-00224.400.wav</td>\n",
       "      <td>https://d38pmlk0v88drf.cloudfront.net/stt_pech...</td>\n",
       "      <td>རང་གི་རྒྱུད་དང་ལྷན་གཅིག་ཏུ་གནས་ནས།</td>\n",
       "      <td>2.00</td>\n",
       "    </tr>\n",
       "    <tr>\n",
       "      <th>3</th>\n",
       "      <td>STT_TT00047_01403.300-01403.950.wav</td>\n",
       "      <td>https://d38pmlk0v88drf.cloudfront.net/stt_pech...</td>\n",
       "      <td>དེའི།</td>\n",
       "      <td>0.65</td>\n",
       "    </tr>\n",
       "    <tr>\n",
       "      <th>4</th>\n",
       "      <td>STT_TT00044_04020.150-04021.200.wav</td>\n",
       "      <td>https://d38pmlk0v88drf.cloudfront.net/stt_pech...</td>\n",
       "      <td>ས་དེ་འདྲའི་ཡིན་དུས་ཙ་ནས།</td>\n",
       "      <td>1.05</td>\n",
       "    </tr>\n",
       "  </tbody>\n",
       "</table>\n",
       "</div>"
      ],
      "text/plain": [
       "                             file_name  \\\n",
       "0  STT_TT00041_05046.850-05048.200.wav   \n",
       "1  STT_TT00042_03346.450-03348.050.wav   \n",
       "2  STT_TT00046_00222.400-00224.400.wav   \n",
       "3  STT_TT00047_01403.300-01403.950.wav   \n",
       "4  STT_TT00044_04020.150-04021.200.wav   \n",
       "\n",
       "                                                 url  \\\n",
       "0  https://d38pmlk0v88drf.cloudfront.net/stt_pech...   \n",
       "1  https://d38pmlk0v88drf.cloudfront.net/stt_pech...   \n",
       "2  https://d38pmlk0v88drf.cloudfront.net/stt_pech...   \n",
       "3  https://d38pmlk0v88drf.cloudfront.net/stt_pech...   \n",
       "4  https://d38pmlk0v88drf.cloudfront.net/stt_pech...   \n",
       "\n",
       "                 inference_transcript  audio_duration  \n",
       "0      དཔྱད་འཇོག་ཟུང་འབྲེལ་གི་ཐོག་ནས།            1.35  \n",
       "1            སྐྱེ་བ་བཟང་ངན་གཉིས་སུ་ད།            1.60  \n",
       "2  རང་གི་རྒྱུད་དང་ལྷན་གཅིག་ཏུ་གནས་ནས།            2.00  \n",
       "3                               དེའི།            0.65  \n",
       "4            ས་དེ་འདྲའི་ཡིན་དུས་ཙ་ནས།            1.05  "
      ]
     },
     "execution_count": 73,
     "metadata": {},
     "output_type": "execute_result"
    }
   ],
   "source": [
    "df.head()"
   ]
  },
  {
   "cell_type": "code",
   "execution_count": 74,
   "metadata": {},
   "outputs": [],
   "source": [
    "df.to_csv(f\"segments_tt_{group}_inf.csv\", index=False)"
   ]
  },
  {
   "cell_type": "code",
   "execution_count": 75,
   "metadata": {},
   "outputs": [
    {
     "data": {
      "text/plain": [
       "{'inference_transcript': {0: 'དཔྱད་འཇོག་ཟུང་འབྲེལ་གི་ཐོག་ནས།',\n",
       "  1: 'སྐྱེ་བ་བཟང་ངན་གཉིས་སུ་ད།',\n",
       "  2: 'རང་གི་རྒྱུད་དང་ལྷན་གཅིག་ཏུ་གནས་ནས།',\n",
       "  3: 'དེའི།',\n",
       "  4: 'ས་དེ་འདྲའི་ཡིན་དུས་ཙ་ནས།',\n",
       "  5: 'གང་ཟག་གི་བདག་འཛིན།',\n",
       "  6: 'ད་དེ་ལ་ཡ།',\n",
       "  7: 'རང་དོན་གི་དབང་དུ་བྱས་པ་ཡིན་ན་ཡང་།',\n",
       "  8: 'སྲིད་བཞིའི་འཇིགས་པ་མཐའ་དག་སེལ་བའི་ནུས་པ་ཅན་ཡིན་པ་ཡིན་དུས་ཙ་ནས།',\n",
       "  9: 'ཨོ་དེའི་ནང་ལ་ཡ་'},\n",
       " 'url': {0: 'https://d38pmlk0v88drf.cloudfront.net/stt_pecha_tools/STT_TT00041_05046.850-05048.200.wav',\n",
       "  1: 'https://d38pmlk0v88drf.cloudfront.net/stt_pecha_tools/STT_TT00042_03346.450-03348.050.wav',\n",
       "  2: 'https://d38pmlk0v88drf.cloudfront.net/stt_pecha_tools/STT_TT00046_00222.400-00224.400.wav',\n",
       "  3: 'https://d38pmlk0v88drf.cloudfront.net/stt_pecha_tools/STT_TT00047_01403.300-01403.950.wav',\n",
       "  4: 'https://d38pmlk0v88drf.cloudfront.net/stt_pecha_tools/STT_TT00044_04020.150-04021.200.wav',\n",
       "  5: 'https://d38pmlk0v88drf.cloudfront.net/stt_pecha_tools/STT_TT00042_07874.150-07875.300.wav',\n",
       "  6: 'https://d38pmlk0v88drf.cloudfront.net/stt_pecha_tools/STT_TT00042_00885.800-00886.900.wav',\n",
       "  7: 'https://d38pmlk0v88drf.cloudfront.net/stt_pecha_tools/STT_TT00041_01198.950-01200.300.wav',\n",
       "  8: 'https://d38pmlk0v88drf.cloudfront.net/stt_pecha_tools/STT_TT00044_04349.750-04353.250.wav',\n",
       "  9: 'https://d38pmlk0v88drf.cloudfront.net/stt_pecha_tools/STT_TT00043_00443.300-00444.300.wav'}}"
      ]
     },
     "execution_count": 75,
     "metadata": {},
     "output_type": "execute_result"
    }
   ],
   "source": [
    "df[['inference_transcript','url']].iloc[0:10].to_dict()"
   ]
  },
  {
   "cell_type": "code",
   "execution_count": 76,
   "metadata": {},
   "outputs": [
    {
     "name": "stdout",
     "output_type": "stream",
     "text": [
      "16074\n"
     ]
    }
   ],
   "source": [
    "total = len(df)\n",
    "print(total)"
   ]
  },
  {
   "cell_type": "code",
   "execution_count": 77,
   "metadata": {},
   "outputs": [],
   "source": [
    "batches = total // 1000\n",
    "\n",
    "for i in range(batches):\n",
    "    df[i*1000:(i+1)*1000].to_csv(f\"segments_p{i+1}_tt_{group}_inf.csv\", index=False)\n",
    "\n",
    "df[batches*1000:].to_csv(f\"segments_p{batches+1}_tt_{group}_inf.csv\", index=False)"
   ]
  },
  {
   "cell_type": "code",
   "execution_count": null,
   "metadata": {},
   "outputs": [],
   "source": []
  }
 ],
 "metadata": {
  "kernelspec": {
   "display_name": ".env",
   "language": "python",
   "name": "python3"
  },
  "language_info": {
   "codemirror_mode": {
    "name": "ipython",
    "version": 3
   },
   "file_extension": ".py",
   "mimetype": "text/x-python",
   "name": "python",
   "nbconvert_exporter": "python",
   "pygments_lexer": "ipython3",
   "version": "3.10.12"
  },
  "orig_nbformat": 4
 },
 "nbformat": 4,
 "nbformat_minor": 2
}
