{
 "cells": [
  {
   "cell_type": "code",
   "execution_count": 21,
   "metadata": {},
   "outputs": [],
   "source": [
    "import pandas as pd\n",
    "# jsonl_path = '~/stt_ab_ga_filtered.jsonl'\n",
    "transcript_jsonl = '/home/monlamai/stt_ab_gc.jsonl'\n",
    "review_jsonl = '/home/monlamai/stt_ab_gc_review.jsonl'\n",
    "\n",
    "transcribe_df = pd.read_json(transcript_jsonl, lines=True)\n",
    "review_df = pd.read_json(review_jsonl, lines=True)"
   ]
  },
  {
   "cell_type": "code",
   "execution_count": 22,
   "metadata": {},
   "outputs": [
    {
     "name": "stdout",
     "output_type": "stream",
     "text": [
      "{'audio': '/home/spsither/STT_TT/segments_gh/STT_TT00070_05274.150-05279.200.wav', 'text': 'STT_TT00070_05274.150-05279.200', 'meta': {'file': 'STT_TT00070_05274.150-05279.200.wav'}, 'path': '/home/spsither/STT_TT/segments_gh/STT_TT00070_05274.150-05279.200.wav', '_input_hash': -1489190615, '_task_hash': -658105814, '_is_binary': False, '_view_id': 'blocks', 'audio_spans': [], 'transcript': 'ག་རེ་རེད་ཟེ་ན། རྒྱ་གར་གི བསྐལ་པ་སྔ་མོའི་རྒྱ་གར་མི་དེ་ཚོས། ལོ་རྒྱུས་རྩ་བ་ནས། ཁོས་དོ་སྣང་བྱས་མི་འདུག་ག', 'answer': 'accept', '_timestamp': 1689648971, '_annotator_id': 'stt_tt_gh-GonpoZ', '_session_id': 'stt_tt_gh-GonpoZ'}\n",
      "{'audio': '/home/spsither/STT_TT/segments_gc/STT_TT00022_06992.450-06993.550.wav', 'text': 'STT_TT00022_06992.450-06993.550', 'meta': {'file': 'STT_TT00022_06992.450-06993.550.wav'}, 'path': '/home/spsither/STT_TT/segments_gc/STT_TT00022_06992.450-06993.550.wav', '_input_hash': -106952209, '_task_hash': -673189000, '_is_binary': False, '_view_id': 'blocks', 'audio_spans': [], 'transcript': 'ཕུང་པོ་ལྔ་པོ་དེ་དག་ཀྱང་', 'answer': 'accept', '_timestamp': 1689663565, '_annotator_id': 'stt_tt_gc_review-kaschoedon', '_session_id': 'stt_tt_gc_review-kaschoedon', 'field_rows': 4, 'field_label': 'Transcript', 'field_id': 'transcript', 'field_autofocus': True}\n"
     ]
    }
   ],
   "source": [
    "import pandas as pd\n",
    "import json\n",
    "filtered_jsonl = \"/media/monlamai/SSD/GitHub/split/inference/stt_ab_gc_filtered.jsonl\"\n",
    "\n",
    "review_set = set(review_df['id'])\n",
    "with open(transcript_jsonl) as f, open(filtered_jsonl, 'w+', encoding='utf-8') as op:\n",
    "    for line in f:\n",
    "        di = json.loads(line)\n",
    "        try:\n",
    "            a = di['id']\n",
    "            if a not in review_set:\n",
    "                op.write(line)\n",
    "        except:\n",
    "            print(di )\n",
    "        # if di['id'] not in review_set:\n",
    "        #     op.write(line)"
   ]
  },
  {
   "cell_type": "code",
   "execution_count": null,
   "metadata": {},
   "outputs": [],
   "source": []
  }
 ],
 "metadata": {
  "kernelspec": {
   "display_name": ".env",
   "language": "python",
   "name": "python3"
  },
  "language_info": {
   "codemirror_mode": {
    "name": "ipython",
    "version": 3
   },
   "file_extension": ".py",
   "mimetype": "text/x-python",
   "name": "python",
   "nbconvert_exporter": "python",
   "pygments_lexer": "ipython3",
   "version": "3.10.12"
  },
  "orig_nbformat": 4
 },
 "nbformat": 4,
 "nbformat_minor": 2
}
