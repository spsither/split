{
 "cells": [
  {
   "cell_type": "code",
   "execution_count": 39,
   "metadata": {},
   "outputs": [],
   "source": [
    "def number_to_words(number):\n",
    "    ones = [\"\", \"one\", \"two\", \"three\", \"four\", \"five\", \"six\", \"seven\", \"eight\", \"nine\"]\n",
    "    teens = [\"\", \"eleven\", \"twelve\", \"thirteen\", \"fourteen\", \"fifteen\", \"sixteen\", \"seventeen\", \"eighteen\", \"nineteen\"]\n",
    "    tens = [\"\", \"ten\", \"twenty\", \"thirty\", \"forty\", \"fifty\", \"sixty\", \"seventy\", \"eighty\", \"ninety\"]\n",
    "    thousands = [\"\", \"thousand\", \"million\", \"billion\", \"trillion\"]\n",
    "\n",
    "    def to_words(n):\n",
    "        if n == 0:\n",
    "            return \"zero\"\n",
    "        elif n < 10:\n",
    "            return ones[n]\n",
    "        elif n < 20:\n",
    "            return teens[n - 10]\n",
    "        elif n < 100:\n",
    "            return tens[n // 10] + (\"-\" + ones[n % 10] if n % 10 > 0 else \"\")\n",
    "        else:\n",
    "            return ones[n // 100] + \" hundred\" + (\" and \" + to_words(n % 100) if n % 100 > 0 else \"\")\n",
    "\n",
    "    words = []\n",
    "    if number == 0:\n",
    "        return \"zero\"\n",
    "\n",
    "    if number < 0:\n",
    "        words.append(\"negative\")\n",
    "        number = abs(number)\n",
    "\n",
    "    groups = []\n",
    "    while number > 0:\n",
    "        groups.append(number % 1000)\n",
    "        number //= 1000\n",
    "\n",
    "    for i, group in enumerate(groups):\n",
    "        if group > 0:\n",
    "            words.insert(0, to_words(group) + \" \" + thousands[i])\n",
    "\n",
    "    return \" \".join(words)\n",
    "\n",
    "\n"
   ]
  },
  {
   "cell_type": "code",
   "execution_count": 44,
   "metadata": {},
   "outputs": [
    {
     "name": "stdout",
     "output_type": "stream",
     "text": [
      " thousand  \n"
     ]
    }
   ],
   "source": [
    "# Test the function\n",
    "number = 10_010\n",
    "result = number_to_words(number)\n",
    "print(result)"
   ]
  },
  {
   "cell_type": "code",
   "execution_count": 2,
   "metadata": {},
   "outputs": [
    {
     "name": "stdout",
     "output_type": "stream",
     "text": [
      "Collecting num2words\n",
      "  Using cached num2words-0.5.12-py3-none-any.whl (125 kB)\n",
      "Requirement already satisfied: docopt>=0.6.2 in /media/monlamai/FEEE31DEEE31903F/split/.env/lib/python3.10/site-packages (from num2words) (0.6.2)\n",
      "Installing collected packages: num2words\n",
      "Successfully installed num2words-0.5.12\n"
     ]
    }
   ],
   "source": [
    "!pip install num2words"
   ]
  },
  {
   "cell_type": "code",
   "execution_count": 3,
   "metadata": {},
   "outputs": [],
   "source": [
    "from num2words import num2words"
   ]
  },
  {
   "cell_type": "code",
   "execution_count": 10,
   "metadata": {},
   "outputs": [
    {
     "data": {
      "text/plain": [
       "'one million, two hundred and thirty-four thousand, five hundred and sixty-seven'"
      ]
     },
     "execution_count": 10,
     "metadata": {},
     "output_type": "execute_result"
    }
   ],
   "source": [
    "num2words(1_234_567)"
   ]
  },
  {
   "cell_type": "code",
   "execution_count": 5,
   "metadata": {},
   "outputs": [
    {
     "data": {
      "text/plain": [
       "'forty-second'"
      ]
     },
     "execution_count": 5,
     "metadata": {},
     "output_type": "execute_result"
    }
   ],
   "source": [
    "num2words(42, to='ordinal')"
   ]
  },
  {
   "cell_type": "code",
   "execution_count": 8,
   "metadata": {},
   "outputs": [
    {
     "data": {
      "text/plain": [
       "'quarante-deux'"
      ]
     },
     "execution_count": 8,
     "metadata": {},
     "output_type": "execute_result"
    }
   ],
   "source": [
    "num2words(42, lang='fr')"
   ]
  },
  {
   "cell_type": "code",
   "execution_count": null,
   "metadata": {},
   "outputs": [],
   "source": []
  }
 ],
 "metadata": {
  "kernelspec": {
   "display_name": ".env",
   "language": "python",
   "name": "python3"
  },
  "language_info": {
   "codemirror_mode": {
    "name": "ipython",
    "version": 3
   },
   "file_extension": ".py",
   "mimetype": "text/x-python",
   "name": "python",
   "nbconvert_exporter": "python",
   "pygments_lexer": "ipython3",
   "version": "3.10.12"
  },
  "orig_nbformat": 4
 },
 "nbformat": 4,
 "nbformat_minor": 2
}
