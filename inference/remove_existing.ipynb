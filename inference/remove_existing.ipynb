{
 "cells": [
  {
   "cell_type": "code",
   "execution_count": 55,
   "metadata": {},
   "outputs": [],
   "source": [
    "group = \"gd\"\n",
    "jsonl_path = f\"/media/monlamai/SSD/stt_tt_{group}.jsonl\"\n"
   ]
  },
  {
   "cell_type": "code",
   "execution_count": 56,
   "metadata": {},
   "outputs": [],
   "source": [
    "import pandas as pd\n",
    "import os\n",
    "df = pd.read_json(jsonl_path, lines=True)"
   ]
  },
  {
   "cell_type": "code",
   "execution_count": 57,
   "metadata": {},
   "outputs": [
    {
     "data": {
      "text/plain": [
       "0        STT_TT00024_00009.550-00011.400\n",
       "1        STT_TT00024_00009.550-00011.400\n",
       "2        STT_TT00024_00011.700-00013.700\n",
       "3        STT_TT00024_00014.000-00015.200\n",
       "4        STT_TT00024_00015.600-00016.550\n",
       "                      ...               \n",
       "58314    STT_TT00213_00288.200-00290.750\n",
       "58315    STT_TT00213_00291.550-00292.700\n",
       "58316    STT_TT00215_00358.050-00359.850\n",
       "58317    STT_TT00215_00360.300-00361.250\n",
       "58318    STT_TT00215_00362.300-00364.900\n",
       "Name: text, Length: 58319, dtype: object"
      ]
     },
     "execution_count": 57,
     "metadata": {},
     "output_type": "execute_result"
    }
   ],
   "source": [
    "df.text"
   ]
  },
  {
   "cell_type": "code",
   "execution_count": 58,
   "metadata": {},
   "outputs": [],
   "source": [
    "for t_f in df.text:\n",
    "    if type(t_f) == float:\n",
    "        continue\n",
    "    f = f\"/media/monlamai/SSD/segments_{group}/{t_f}.wav\"\n",
    "    if os.path.exists(f):\n",
    "        print(f)\n",
    "        os.remove(f)"
   ]
  },
  {
   "cell_type": "code",
   "execution_count": null,
   "metadata": {},
   "outputs": [],
   "source": []
  }
 ],
 "metadata": {
  "kernelspec": {
   "display_name": ".env",
   "language": "python",
   "name": "python3"
  },
  "language_info": {
   "codemirror_mode": {
    "name": "ipython",
    "version": 3
   },
   "file_extension": ".py",
   "mimetype": "text/x-python",
   "name": "python",
   "nbconvert_exporter": "python",
   "pygments_lexer": "ipython3",
   "version": "3.10.12"
  },
  "orig_nbformat": 4
 },
 "nbformat": 4,
 "nbformat_minor": 2
}
