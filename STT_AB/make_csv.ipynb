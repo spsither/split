{
 "cells": [
  {
   "cell_type": "code",
   "execution_count": 37,
   "metadata": {},
   "outputs": [],
   "source": [
    "tsv_location = \"/media/monlamai/SSD/HuggingFace/STT_AB/All_transferred_data/\""
   ]
  },
  {
   "cell_type": "code",
   "execution_count": 38,
   "metadata": {},
   "outputs": [],
   "source": [
    "ga = open('STT_AB_files.csv').read().splitlines()"
   ]
  },
  {
   "cell_type": "code",
   "execution_count": 39,
   "metadata": {},
   "outputs": [],
   "source": [
    "url_prefix = \"https://huggingface.co/datasets/openpecha/STT_AB/resolve/main/\"\n",
    "\n",
    "group_ab_ga_id = 1\n",
    "group_ab_gb_id = 2\n",
    "group_ab_gc_id = 7"
   ]
  },
  {
   "cell_type": "code",
   "execution_count": 40,
   "metadata": {},
   "outputs": [],
   "source": [
    "import pandas as pd"
   ]
  },
  {
   "cell_type": "code",
   "execution_count": 41,
   "metadata": {},
   "outputs": [],
   "source": [
    "df_array = []"
   ]
  },
  {
   "cell_type": "code",
   "execution_count": 42,
   "metadata": {},
   "outputs": [],
   "source": [
    "for tsv_file in ga:\n",
    "    df_array += [pd.read_csv(tsv_location + tsv_file, sep='\\t')]\n",
    "df = pd.concat(df_array)"
   ]
  },
  {
   "cell_type": "code",
   "execution_count": 43,
   "metadata": {},
   "outputs": [
    {
     "data": {
      "text/plain": [
       "(21045, 6)"
      ]
     },
     "execution_count": 43,
     "metadata": {},
     "output_type": "execute_result"
    }
   ],
   "source": [
    "df.shape"
   ]
  },
  {
   "cell_type": "code",
   "execution_count": 44,
   "metadata": {},
   "outputs": [
    {
     "data": {
      "text/html": [
       "<div>\n",
       "<style scoped>\n",
       "    .dataframe tbody tr th:only-of-type {\n",
       "        vertical-align: middle;\n",
       "    }\n",
       "\n",
       "    .dataframe tbody tr th {\n",
       "        vertical-align: top;\n",
       "    }\n",
       "\n",
       "    .dataframe thead th {\n",
       "        text-align: right;\n",
       "    }\n",
       "</style>\n",
       "<table border=\"1\" class=\"dataframe\">\n",
       "  <thead>\n",
       "    <tr style=\"text-align: right;\">\n",
       "      <th></th>\n",
       "      <th>path</th>\n",
       "      <th>start</th>\n",
       "      <th>end</th>\n",
       "      <th>length</th>\n",
       "      <th>status</th>\n",
       "      <th>sentence</th>\n",
       "    </tr>\n",
       "  </thead>\n",
       "  <tbody>\n",
       "    <tr>\n",
       "      <th>0</th>\n",
       "      <td>STT_AB00471/STT_AB00471_0001_1936_to_5912.mp3</td>\n",
       "      <td>1.936860</td>\n",
       "      <td>5.912969</td>\n",
       "      <td>3.976109</td>\n",
       "      <td>Not Chopped</td>\n",
       "      <td>སུམ་ཅུའི་དུས་དྲན</td>\n",
       "    </tr>\n",
       "    <tr>\n",
       "      <th>1</th>\n",
       "      <td>STT_AB00471/STT_AB00471_0002_6083_to_7687.mp3</td>\n",
       "      <td>6.083618</td>\n",
       "      <td>7.687713</td>\n",
       "      <td>1.604096</td>\n",
       "      <td>Not Chopped</td>\n",
       "      <td>NaN</td>\n",
       "    </tr>\n",
       "    <tr>\n",
       "      <th>2</th>\n",
       "      <td>STT_AB00471/STT_AB00471_0003_9735_to_11749.mp3</td>\n",
       "      <td>9.735495</td>\n",
       "      <td>11.749147</td>\n",
       "      <td>2.013652</td>\n",
       "      <td>Not Chopped</td>\n",
       "      <td>། ༄༅། །ཕྱི་ལོ་ ༢༠༠༡ ཕྱི་</td>\n",
       "    </tr>\n",
       "    <tr>\n",
       "      <th>3</th>\n",
       "      <td>STT_AB00471/STT_AB00471_0004_12039_to_15998.mp3</td>\n",
       "      <td>12.039249</td>\n",
       "      <td>15.998294</td>\n",
       "      <td>3.959044</td>\n",
       "      <td>Not Chopped</td>\n",
       "      <td>ཟླ་ ༣ ཚེས་ ༡༠ ཉིན་མོ་འདི་ནི</td>\n",
       "    </tr>\n",
       "    <tr>\n",
       "      <th>4</th>\n",
       "      <td>STT_AB00471/STT_AB00471_0005_16919_to_20076.mp3</td>\n",
       "      <td>16.919795</td>\n",
       "      <td>20.076792</td>\n",
       "      <td>3.156997</td>\n",
       "      <td>Not Chopped</td>\n",
       "      <td>་བོད་མི་མང་ལ་ཕྱིའི་བཙན་འཛུལ་ བ</td>\n",
       "    </tr>\n",
       "  </tbody>\n",
       "</table>\n",
       "</div>"
      ],
      "text/plain": [
       "                                              path      start        end  \\\n",
       "0    STT_AB00471/STT_AB00471_0001_1936_to_5912.mp3   1.936860   5.912969   \n",
       "1    STT_AB00471/STT_AB00471_0002_6083_to_7687.mp3   6.083618   7.687713   \n",
       "2   STT_AB00471/STT_AB00471_0003_9735_to_11749.mp3   9.735495  11.749147   \n",
       "3  STT_AB00471/STT_AB00471_0004_12039_to_15998.mp3  12.039249  15.998294   \n",
       "4  STT_AB00471/STT_AB00471_0005_16919_to_20076.mp3  16.919795  20.076792   \n",
       "\n",
       "     length       status                        sentence  \n",
       "0  3.976109  Not Chopped                སུམ་ཅུའི་དུས་དྲན  \n",
       "1  1.604096  Not Chopped                             NaN  \n",
       "2  2.013652  Not Chopped        ། ༄༅། །ཕྱི་ལོ་ ༢༠༠༡ ཕྱི་  \n",
       "3  3.959044  Not Chopped     ཟླ་ ༣ ཚེས་ ༡༠ ཉིན་མོ་འདི་ནི  \n",
       "4  3.156997  Not Chopped  ་བོད་མི་མང་ལ་ཕྱིའི་བཙན་འཛུལ་ བ  "
      ]
     },
     "execution_count": 44,
     "metadata": {},
     "output_type": "execute_result"
    }
   ],
   "source": [
    "df.head()"
   ]
  },
  {
   "cell_type": "code",
   "execution_count": 45,
   "metadata": {},
   "outputs": [],
   "source": [
    "df['url'] = url_prefix + df['path']"
   ]
  },
  {
   "cell_type": "code",
   "execution_count": 46,
   "metadata": {},
   "outputs": [],
   "source": [
    "df['inference_transcript'] = df['sentence']"
   ]
  },
  {
   "cell_type": "code",
   "execution_count": 47,
   "metadata": {},
   "outputs": [],
   "source": [
    "df['audio_duration'] = df['length']"
   ]
  },
  {
   "cell_type": "code",
   "execution_count": 48,
   "metadata": {},
   "outputs": [],
   "source": [
    "df['group_id'] = group_ab_ga_id"
   ]
  },
  {
   "cell_type": "code",
   "execution_count": 49,
   "metadata": {},
   "outputs": [],
   "source": [
    "df['file_name'] = df['path'].apply(lambda x: x.split('/')[-1])"
   ]
  },
  {
   "cell_type": "code",
   "execution_count": 50,
   "metadata": {},
   "outputs": [],
   "source": [
    "df['state'] = 'imported'"
   ]
  },
  {
   "cell_type": "code",
   "execution_count": 51,
   "metadata": {},
   "outputs": [],
   "source": [
    "df.fillna('', inplace=True)"
   ]
  },
  {
   "cell_type": "code",
   "execution_count": 52,
   "metadata": {},
   "outputs": [],
   "source": [
    "def filter_length(st):\n",
    "    return len(st) < 500"
   ]
  },
  {
   "cell_type": "code",
   "execution_count": 53,
   "metadata": {},
   "outputs": [],
   "source": [
    "df = df[df['inference_transcript'].apply(lambda x: len(x) < 500)]"
   ]
  },
  {
   "cell_type": "code",
   "execution_count": 54,
   "metadata": {},
   "outputs": [],
   "source": [
    "last_db_id = 353680\n",
    "\n",
    "id_arr = list(range(last_db_id + 1, df.shape[0] + last_db_id + 1))\n",
    "\n",
    "df['id'] = id_arr"
   ]
  },
  {
   "cell_type": "code",
   "execution_count": 55,
   "metadata": {},
   "outputs": [],
   "source": [
    "df = df[['id', 'group_id', 'file_name', 'url', 'inference_transcript', 'audio_duration', 'state']]"
   ]
  },
  {
   "cell_type": "code",
   "execution_count": 56,
   "metadata": {},
   "outputs": [
    {
     "data": {
      "text/plain": [
       "(21030, 7)"
      ]
     },
     "execution_count": 56,
     "metadata": {},
     "output_type": "execute_result"
    }
   ],
   "source": [
    "df.shape"
   ]
  },
  {
   "cell_type": "code",
   "execution_count": 57,
   "metadata": {},
   "outputs": [],
   "source": [
    "df.to_csv('stt_ab_ga.csv', index=False)"
   ]
  }
 ],
 "metadata": {
  "kernelspec": {
   "display_name": ".env",
   "language": "python",
   "name": "python3"
  },
  "language_info": {
   "codemirror_mode": {
    "name": "ipython",
    "version": 3
   },
   "file_extension": ".py",
   "mimetype": "text/x-python",
   "name": "python",
   "nbconvert_exporter": "python",
   "pygments_lexer": "ipython3",
   "version": "3.10.12"
  }
 },
 "nbformat": 4,
 "nbformat_minor": 2
}
