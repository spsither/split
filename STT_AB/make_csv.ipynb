{
 "cells": [
  {
   "cell_type": "code",
   "execution_count": 267,
   "metadata": {},
   "outputs": [],
   "source": [
    "tsv_location = \"/home/monlamai/Downloads/\""
   ]
  },
  {
   "cell_type": "code",
   "execution_count": 268,
   "metadata": {},
   "outputs": [],
   "source": [
    "ga = [\"STT_AB00315.tsv\", \"STT_AB00316.tsv\", \"STT_AB00317.tsv\", \"STT_AB00318.tsv\", \"STT_AB00319.tsv\", \"STT_AB00320.tsv\", \"STT_AB00321.tsv\", \"STT_AB00322.tsv\", \"STT_AB00323.tsv\", \"STT_AB00324.tsv\", \"STT_AB00325.tsv\", \"STT_AB00326.tsv\", \"STT_AB00327.tsv\", \"STT_AB00328.tsv\", \"STT_AB00329.tsv\", \"STT_AB00330.tsv\", \"STT_AB00331.tsv\", \"STT_AB00332.tsv\", \"STT_AB00333.tsv\", \"STT_AB00334.tsv\", \"STT_AB00335.tsv\", \"STT_AB00336.tsv\", \"STT_AB00337.tsv\", \"STT_AB00338.tsv\", \"STT_AB00339.tsv\", \"STT_AB00340.tsv\", \"STT_AB00341.tsv\", \"STT_AB00342.tsv\", \"STT_AB00343.tsv\", \"STT_AB00344.tsv\", \"STT_AB00345.tsv\", \"STT_AB00346.tsv\", \"STT_AB00347.tsv\", \"STT_AB00348.tsv\", \"STT_AB00349.tsv\", \"STT_AB00350.tsv\", \"STT_AB00351.tsv\", \"STT_AB00352.tsv\", \"STT_AB00353.tsv\", \"STT_AB00354.tsv\", \"STT_AB00355.tsv\", \"STT_AB00356.tsv\", \"STT_AB00357.tsv\", \"STT_AB00358.tsv\", \"STT_AB00359.tsv\", \"STT_AB00360.tsv\", \"STT_AB00361.tsv\", \"STT_AB00362.tsv\", \"STT_AB00363.tsv\", \"STT_AB00364.tsv\"]"
   ]
  },
  {
   "cell_type": "code",
   "execution_count": 269,
   "metadata": {},
   "outputs": [],
   "source": [
    "gb = [\"STT_AB00365.tsv\",\"STT_AB00366.tsv\",\"STT_AB00367.tsv\",\"STT_AB00368.tsv\",\"STT_AB00369.tsv\",\"STT_AB00370.tsv\",\"STT_AB00371.tsv\",\"STT_AB00372.tsv\",\"STT_AB00373.tsv\",\"STT_AB00374.tsv\",\"STT_AB00375.tsv\",\"STT_AB00376.tsv\",\"STT_AB00377.tsv\",\"STT_AB00378.tsv\",\"STT_AB00379.tsv\",\"STT_AB00380.tsv\",\"STT_AB00381.tsv\",\"STT_AB00382.tsv\",\"STT_AB00383.tsv\",\"STT_AB00384.tsv\",\"STT_AB00385.tsv\",\"STT_AB00386.tsv\",\"STT_AB00387.tsv\",\"STT_AB00388.tsv\",\"STT_AB00389.tsv\",\"STT_AB00390.tsv\",\"STT_AB00391.tsv\",\"STT_AB00392.tsv\",\"STT_AB00393.tsv\",\"STT_AB00394.tsv\",\"STT_AB00395.tsv\",\"STT_AB00396.tsv\",\"STT_AB00397.tsv\",\"STT_AB00398.tsv\",\"STT_AB00399.tsv\",\"STT_AB00400.tsv\",\"STT_AB00401.tsv\",\"STT_AB00402.tsv\",\"STT_AB00403.tsv\",\"STT_AB00404.tsv\",\"STT_AB00405.tsv\",\"STT_AB00406.tsv\",\"STT_AB00407.tsv\",\"STT_AB00408.tsv\",\"STT_AB00409.tsv\",\"STT_AB00410.tsv\",\"STT_AB00411.tsv\",\"STT_AB00412.tsv\"]"
   ]
  },
  {
   "cell_type": "code",
   "execution_count": 270,
   "metadata": {},
   "outputs": [],
   "source": [
    "gc = [\"STT_AB00413.tsv\", \"STT_AB00414.tsv\", \"STT_AB00415.tsv\", \"STT_AB00416.tsv\", \"STT_AB00417.tsv\", \"STT_AB00418.tsv\", \"STT_AB00419.tsv\", \"STT_AB00420.tsv\", \"STT_AB00421.tsv\", \"STT_AB00422.tsv\", \"STT_AB00423.tsv\", \"STT_AB00424.tsv\", \"STT_AB00425.tsv\", \"STT_AB00426.tsv\", \"STT_AB00427.tsv\", \"STT_AB00428.tsv\", \"STT_AB00429.tsv\", \"STT_AB00430.tsv\", \"STT_AB00431.tsv\", \"STT_AB00432.tsv\", \"STT_AB00433.tsv\", \"STT_AB00434.tsv\", \"STT_AB00435.tsv\", \"STT_AB00436.tsv\", \"STT_AB00437.tsv\", \"STT_AB00438.tsv\", \"STT_AB00439.tsv\", \"STT_AB00440.tsv\", \"STT_AB00441.tsv\", \"STT_AB00442.tsv\", \"STT_AB00443.tsv\", \"STT_AB00444.tsv\", \"STT_AB00445.tsv\", \"STT_AB00446.tsv\", \"STT_AB00447.tsv\", \"STT_AB00448.tsv\", \"STT_AB00449.tsv\", \"STT_AB00450.tsv\", \"STT_AB00451.tsv\", \"STT_AB00452.tsv\", \"STT_AB00453.tsv\", \"STT_AB00454.tsv\", \"STT_AB00455.tsv\", \"STT_AB00456.tsv\", \"STT_AB00457.tsv\", \"STT_AB00458.tsv\", \"STT_AB00459.tsv\", \"STT_AB00460.tsv\", \"STT_AB00461.tsv\", \"STT_AB00462.tsv\", \"STT_AB00463.tsv\", \"STT_AB00464.tsv\", \"STT_AB00465.tsv\", \"STT_AB00466.tsv\", \"STT_AB00467.tsv\", \"STT_AB00468.tsv\", \"STT_AB00469.tsv\", \"STT_AB00470.tsv\"]"
   ]
  },
  {
   "cell_type": "code",
   "execution_count": 271,
   "metadata": {},
   "outputs": [],
   "source": [
    "url_prefix = \"https://huggingface.co/datasets/openpecha/STT_AB/resolve/main/\"\n",
    "\n",
    "group_ab_ga_id = 1\n",
    "group_ab_gb_id = 2\n",
    "group_ab_gc_id = 7"
   ]
  },
  {
   "cell_type": "code",
   "execution_count": 272,
   "metadata": {},
   "outputs": [],
   "source": [
    "import pandas as pd"
   ]
  },
  {
   "cell_type": "code",
   "execution_count": 273,
   "metadata": {},
   "outputs": [],
   "source": [
    "df_array = []"
   ]
  },
  {
   "cell_type": "code",
   "execution_count": 274,
   "metadata": {},
   "outputs": [],
   "source": [
    "for tsv_file in gc:\n",
    "    df_array += [pd.read_csv(tsv_location + tsv_file, sep='\\t')]\n",
    "df = pd.concat(df_array)"
   ]
  },
  {
   "cell_type": "code",
   "execution_count": 275,
   "metadata": {},
   "outputs": [
    {
     "data": {
      "text/plain": [
       "(10743, 6)"
      ]
     },
     "execution_count": 275,
     "metadata": {},
     "output_type": "execute_result"
    }
   ],
   "source": [
    "df.shape"
   ]
  },
  {
   "cell_type": "code",
   "execution_count": 276,
   "metadata": {},
   "outputs": [
    {
     "data": {
      "text/html": [
       "<div>\n",
       "<style scoped>\n",
       "    .dataframe tbody tr th:only-of-type {\n",
       "        vertical-align: middle;\n",
       "    }\n",
       "\n",
       "    .dataframe tbody tr th {\n",
       "        vertical-align: top;\n",
       "    }\n",
       "\n",
       "    .dataframe thead th {\n",
       "        text-align: right;\n",
       "    }\n",
       "</style>\n",
       "<table border=\"1\" class=\"dataframe\">\n",
       "  <thead>\n",
       "    <tr style=\"text-align: right;\">\n",
       "      <th></th>\n",
       "      <th>path</th>\n",
       "      <th>start</th>\n",
       "      <th>end</th>\n",
       "      <th>length</th>\n",
       "      <th>status</th>\n",
       "      <th>sentence</th>\n",
       "    </tr>\n",
       "  </thead>\n",
       "  <tbody>\n",
       "    <tr>\n",
       "      <th>0</th>\n",
       "      <td>STT_AB00413/STT_AB00413_0001_3626_to_6663.mp3</td>\n",
       "      <td>3.626280</td>\n",
       "      <td>6.663823</td>\n",
       "      <td>3.037543</td>\n",
       "      <td>Not Chopped</td>\n",
       "      <td>NaN</td>\n",
       "    </tr>\n",
       "    <tr>\n",
       "      <th>1</th>\n",
       "      <td>STT_AB00413/STT_AB00413_0002_21373_to_22755.mp3</td>\n",
       "      <td>21.373720</td>\n",
       "      <td>22.755973</td>\n",
       "      <td>1.382253</td>\n",
       "      <td>Not Chopped</td>\n",
       "      <td>NaN</td>\n",
       "    </tr>\n",
       "    <tr>\n",
       "      <th>2</th>\n",
       "      <td>STT_AB00413/STT_AB00413_0003_25964_to_28148.mp3</td>\n",
       "      <td>25.964164</td>\n",
       "      <td>28.148464</td>\n",
       "      <td>2.184300</td>\n",
       "      <td>Not Chopped</td>\n",
       "      <td>02 ཤེས་རབ་ཀློང་དུ་བརྡོལ་བའི་རྒྱལ་སྲ</td>\n",
       "    </tr>\n",
       "    <tr>\n",
       "      <th>3</th>\n",
       "      <td>STT_AB00413/STT_AB00413_0004_30452_to_35127.mp3</td>\n",
       "      <td>30.452218</td>\n",
       "      <td>35.127986</td>\n",
       "      <td>4.675768</td>\n",
       "      <td>Not Chopped</td>\n",
       "      <td>ས།༄༅། །སྲོང་བཙན་སྒམ་པོའི་ཐོག་མའི་མཚན་ལ་ཁྲི་སྲོ...</td>\n",
       "    </tr>\n",
       "    <tr>\n",
       "      <th>4</th>\n",
       "      <td>STT_AB00413/STT_AB00413_0005_35401_to_43575.mp3</td>\n",
       "      <td>35.401024</td>\n",
       "      <td>43.575085</td>\n",
       "      <td>8.174061</td>\n",
       "      <td>Not Chopped</td>\n",
       "      <td>། སྐུ་ན་གཞོན་དུས་ནས་ཆོས་སྲིད་ཀྱི་ཡོན་ཏན་ཀུན་ལ་...</td>\n",
       "    </tr>\n",
       "  </tbody>\n",
       "</table>\n",
       "</div>"
      ],
      "text/plain": [
       "                                              path      start        end  \\\n",
       "0    STT_AB00413/STT_AB00413_0001_3626_to_6663.mp3   3.626280   6.663823   \n",
       "1  STT_AB00413/STT_AB00413_0002_21373_to_22755.mp3  21.373720  22.755973   \n",
       "2  STT_AB00413/STT_AB00413_0003_25964_to_28148.mp3  25.964164  28.148464   \n",
       "3  STT_AB00413/STT_AB00413_0004_30452_to_35127.mp3  30.452218  35.127986   \n",
       "4  STT_AB00413/STT_AB00413_0005_35401_to_43575.mp3  35.401024  43.575085   \n",
       "\n",
       "     length       status                                           sentence  \n",
       "0  3.037543  Not Chopped                                                NaN  \n",
       "1  1.382253  Not Chopped                                                NaN  \n",
       "2  2.184300  Not Chopped                02 ཤེས་རབ་ཀློང་དུ་བརྡོལ་བའི་རྒྱལ་སྲ  \n",
       "3  4.675768  Not Chopped  ས།༄༅། །སྲོང་བཙན་སྒམ་པོའི་ཐོག་མའི་མཚན་ལ་ཁྲི་སྲོ...  \n",
       "4  8.174061  Not Chopped  ། སྐུ་ན་གཞོན་དུས་ནས་ཆོས་སྲིད་ཀྱི་ཡོན་ཏན་ཀུན་ལ་...  "
      ]
     },
     "execution_count": 276,
     "metadata": {},
     "output_type": "execute_result"
    }
   ],
   "source": [
    "df.head()"
   ]
  },
  {
   "cell_type": "code",
   "execution_count": 277,
   "metadata": {},
   "outputs": [],
   "source": [
    "df['url'] = url_prefix + df['path']"
   ]
  },
  {
   "cell_type": "code",
   "execution_count": 278,
   "metadata": {},
   "outputs": [],
   "source": [
    "df['inference_transcript'] = df['sentence']"
   ]
  },
  {
   "cell_type": "code",
   "execution_count": 279,
   "metadata": {},
   "outputs": [],
   "source": [
    "df['audio_duration'] = df['length']"
   ]
  },
  {
   "cell_type": "code",
   "execution_count": 280,
   "metadata": {},
   "outputs": [],
   "source": [
    "df['group_id'] = group_ab_gb_id"
   ]
  },
  {
   "cell_type": "code",
   "execution_count": 281,
   "metadata": {},
   "outputs": [],
   "source": [
    "df['file_name'] = df['path'].apply(lambda x: x.split('/')[-1])"
   ]
  },
  {
   "cell_type": "code",
   "execution_count": 282,
   "metadata": {},
   "outputs": [],
   "source": [
    "df['state'] = 'imported'"
   ]
  },
  {
   "cell_type": "code",
   "execution_count": 283,
   "metadata": {},
   "outputs": [],
   "source": [
    "df.fillna('', inplace=True)"
   ]
  },
  {
   "cell_type": "code",
   "execution_count": 284,
   "metadata": {},
   "outputs": [],
   "source": [
    "def filter_length(st):\n",
    "    return len(st) < 500"
   ]
  },
  {
   "cell_type": "code",
   "execution_count": 285,
   "metadata": {},
   "outputs": [],
   "source": [
    "df = df[df['inference_transcript'].apply(lambda x: len(x) < 500)]"
   ]
  },
  {
   "cell_type": "code",
   "execution_count": 286,
   "metadata": {},
   "outputs": [],
   "source": [
    "last_db_id = 304220\n",
    "\n",
    "id_arr = list(range(last_db_id + 1, df.shape[0] + last_db_id + 1))\n",
    "\n",
    "df['id'] = id_arr"
   ]
  },
  {
   "cell_type": "code",
   "execution_count": 287,
   "metadata": {},
   "outputs": [],
   "source": [
    "df = df[['id', 'group_id', 'file_name', 'url', 'inference_transcript', 'audio_duration', 'state']]"
   ]
  },
  {
   "cell_type": "code",
   "execution_count": 288,
   "metadata": {},
   "outputs": [
    {
     "data": {
      "text/plain": [
       "(10735, 7)"
      ]
     },
     "execution_count": 288,
     "metadata": {},
     "output_type": "execute_result"
    }
   ],
   "source": [
    "df.shape"
   ]
  },
  {
   "cell_type": "code",
   "execution_count": 290,
   "metadata": {},
   "outputs": [],
   "source": [
    "df.to_csv('stt_gc.csv', index=False)"
   ]
  },
  {
   "cell_type": "code",
   "execution_count": null,
   "metadata": {},
   "outputs": [],
   "source": []
  }
 ],
 "metadata": {
  "kernelspec": {
   "display_name": ".env",
   "language": "python",
   "name": "python3"
  },
  "language_info": {
   "codemirror_mode": {
    "name": "ipython",
    "version": 3
   },
   "file_extension": ".py",
   "mimetype": "text/x-python",
   "name": "python",
   "nbconvert_exporter": "python",
   "pygments_lexer": "ipython3",
   "version": "3.10.12"
  }
 },
 "nbformat": 4,
 "nbformat_minor": 2
}
