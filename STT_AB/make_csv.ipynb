{
 "cells": [
  {
   "cell_type": "code",
   "execution_count": 68,
   "metadata": {},
   "outputs": [],
   "source": [
    "tsv_location = \"/home/monlamai/Downloads/STT_AB00314.tsv\""
   ]
  },
  {
   "cell_type": "code",
   "execution_count": 69,
   "metadata": {},
   "outputs": [],
   "source": [
    "url_prefix = \"https://huggingface.co/datasets/openpecha/STT_AB/resolve/main/\"\n",
    "\n",
    "group_ab_ga_id = 1\n",
    "group_ab_gb_id = 2\n",
    "group_ab_gc_id = 7"
   ]
  },
  {
   "cell_type": "code",
   "execution_count": 70,
   "metadata": {},
   "outputs": [],
   "source": [
    "import pandas as pd"
   ]
  },
  {
   "cell_type": "code",
   "execution_count": 71,
   "metadata": {},
   "outputs": [],
   "source": [
    "df = pd.read_csv(tsv_location, sep='\\t')"
   ]
  },
  {
   "cell_type": "code",
   "execution_count": 72,
   "metadata": {},
   "outputs": [],
   "source": [
    "df['url'] = url_prefix + df['path']"
   ]
  },
  {
   "cell_type": "code",
   "execution_count": 73,
   "metadata": {},
   "outputs": [],
   "source": [
    "df['inference_transcript'] = df['sentence']"
   ]
  },
  {
   "cell_type": "code",
   "execution_count": 74,
   "metadata": {},
   "outputs": [],
   "source": [
    "df['audio_duration'] = df['length']"
   ]
  },
  {
   "cell_type": "code",
   "execution_count": 75,
   "metadata": {},
   "outputs": [],
   "source": [
    "df['group_id'] = group_ab_gc_id"
   ]
  },
  {
   "cell_type": "code",
   "execution_count": 76,
   "metadata": {},
   "outputs": [],
   "source": [
    "df['file_name'] = df['path'].apply(lambda x: x.split('/')[-1])"
   ]
  },
  {
   "cell_type": "code",
   "execution_count": 77,
   "metadata": {},
   "outputs": [],
   "source": [
    "last_db_id = 264472"
   ]
  },
  {
   "cell_type": "code",
   "execution_count": 78,
   "metadata": {},
   "outputs": [],
   "source": [
    "df['state'] = 'imported'\n",
    "df['id'] = df.index + last_db_id + 1"
   ]
  },
  {
   "cell_type": "code",
   "execution_count": 79,
   "metadata": {},
   "outputs": [
    {
     "data": {
      "text/html": [
       "<div>\n",
       "<style scoped>\n",
       "    .dataframe tbody tr th:only-of-type {\n",
       "        vertical-align: middle;\n",
       "    }\n",
       "\n",
       "    .dataframe tbody tr th {\n",
       "        vertical-align: top;\n",
       "    }\n",
       "\n",
       "    .dataframe thead th {\n",
       "        text-align: right;\n",
       "    }\n",
       "</style>\n",
       "<table border=\"1\" class=\"dataframe\">\n",
       "  <thead>\n",
       "    <tr style=\"text-align: right;\">\n",
       "      <th></th>\n",
       "      <th>path</th>\n",
       "      <th>start</th>\n",
       "      <th>end</th>\n",
       "      <th>length</th>\n",
       "      <th>status</th>\n",
       "      <th>sentence</th>\n",
       "      <th>url</th>\n",
       "      <th>inference_transcript</th>\n",
       "      <th>audio_duration</th>\n",
       "      <th>group_id</th>\n",
       "      <th>file_name</th>\n",
       "      <th>state</th>\n",
       "      <th>id</th>\n",
       "    </tr>\n",
       "  </thead>\n",
       "  <tbody>\n",
       "    <tr>\n",
       "      <th>0</th>\n",
       "      <td>STT_AB00314/STT_AB00314_0001_9052_to_19013.mp3</td>\n",
       "      <td>9.052901</td>\n",
       "      <td>19.013083</td>\n",
       "      <td>9.960182</td>\n",
       "      <td>Chopped</td>\n",
       "      <td>ལེའུ་བ</td>\n",
       "      <td>https://huggingface.co/datasets/openpecha/STT_...</td>\n",
       "      <td>ལེའུ་བ</td>\n",
       "      <td>9.960182</td>\n",
       "      <td>7</td>\n",
       "      <td>STT_AB00314_0001_9052_to_19013.mp3</td>\n",
       "      <td>imported</td>\n",
       "      <td>264473</td>\n",
       "    </tr>\n",
       "    <tr>\n",
       "      <th>1</th>\n",
       "      <td>STT_AB00314/STT_AB00314_0002_19013_to_28973.mp3</td>\n",
       "      <td>19.013083</td>\n",
       "      <td>28.973265</td>\n",
       "      <td>9.960182</td>\n",
       "      <td>Chopped</td>\n",
       "      <td>ཅུ</td>\n",
       "      <td>https://huggingface.co/datasets/openpecha/STT_...</td>\n",
       "      <td>ཅུ</td>\n",
       "      <td>9.960182</td>\n",
       "      <td>7</td>\n",
       "      <td>STT_AB00314_0002_19013_to_28973.mp3</td>\n",
       "      <td>imported</td>\n",
       "      <td>264474</td>\n",
       "    </tr>\n",
       "    <tr>\n",
       "      <th>2</th>\n",
       "      <td>STT_AB00314/STT_AB00314_0003_28973_to_38933.mp3</td>\n",
       "      <td>28.973265</td>\n",
       "      <td>38.933447</td>\n",
       "      <td>9.960182</td>\n",
       "      <td>Chopped</td>\n",
       "      <td>་གཅིག་པ། བར་ཆད་དང་ཉེན་ཁ</td>\n",
       "      <td>https://huggingface.co/datasets/openpecha/STT_...</td>\n",
       "      <td>་གཅིག་པ། བར་ཆད་དང་ཉེན་ཁ</td>\n",
       "      <td>9.960182</td>\n",
       "      <td>7</td>\n",
       "      <td>STT_AB00314_0003_28973_to_38933.mp3</td>\n",
       "      <td>imported</td>\n",
       "      <td>264475</td>\n",
       "    </tr>\n",
       "    <tr>\n",
       "      <th>3</th>\n",
       "      <td>STT_AB00314/STT_AB00314_0004_39598_to_49530.mp3</td>\n",
       "      <td>39.598976</td>\n",
       "      <td>49.530717</td>\n",
       "      <td>9.931741</td>\n",
       "      <td>Not Chopped</td>\n",
       "      <td>། ལྷ་ལྡན་</td>\n",
       "      <td>https://huggingface.co/datasets/openpecha/STT_...</td>\n",
       "      <td>། ལྷ་ལྡན་</td>\n",
       "      <td>9.931741</td>\n",
       "      <td>7</td>\n",
       "      <td>STT_AB00314_0004_39598_to_49530.mp3</td>\n",
       "      <td>imported</td>\n",
       "      <td>264476</td>\n",
       "    </tr>\n",
       "    <tr>\n",
       "      <th>4</th>\n",
       "      <td>STT_AB00314/STT_AB00314_0005_59206_to_68029.mp3</td>\n",
       "      <td>59.206485</td>\n",
       "      <td>68.029010</td>\n",
       "      <td>8.822526</td>\n",
       "      <td>Not Chopped</td>\n",
       "      <td>ཆོས་ཀྱི་ཞིང་ཁམས་སུ། །མཛའ་གཅུགས་ཟུང་དེ་ཁ་ཕྱོགས་...</td>\n",
       "      <td>https://huggingface.co/datasets/openpecha/STT_...</td>\n",
       "      <td>ཆོས་ཀྱི་ཞིང་ཁམས་སུ། །མཛའ་གཅུགས་ཟུང་དེ་ཁ་ཕྱོགས་...</td>\n",
       "      <td>8.822526</td>\n",
       "      <td>7</td>\n",
       "      <td>STT_AB00314_0005_59206_to_68029.mp3</td>\n",
       "      <td>imported</td>\n",
       "      <td>264477</td>\n",
       "    </tr>\n",
       "  </tbody>\n",
       "</table>\n",
       "</div>"
      ],
      "text/plain": [
       "                                              path      start        end  \\\n",
       "0   STT_AB00314/STT_AB00314_0001_9052_to_19013.mp3   9.052901  19.013083   \n",
       "1  STT_AB00314/STT_AB00314_0002_19013_to_28973.mp3  19.013083  28.973265   \n",
       "2  STT_AB00314/STT_AB00314_0003_28973_to_38933.mp3  28.973265  38.933447   \n",
       "3  STT_AB00314/STT_AB00314_0004_39598_to_49530.mp3  39.598976  49.530717   \n",
       "4  STT_AB00314/STT_AB00314_0005_59206_to_68029.mp3  59.206485  68.029010   \n",
       "\n",
       "     length       status                                           sentence  \\\n",
       "0  9.960182      Chopped                                             ལེའུ་བ   \n",
       "1  9.960182      Chopped                                                 ཅུ   \n",
       "2  9.960182      Chopped                            ་གཅིག་པ། བར་ཆད་དང་ཉེན་ཁ   \n",
       "3  9.931741  Not Chopped                                          ། ལྷ་ལྡན་   \n",
       "4  8.822526  Not Chopped  ཆོས་ཀྱི་ཞིང་ཁམས་སུ། །མཛའ་གཅུགས་ཟུང་དེ་ཁ་ཕྱོགས་...   \n",
       "\n",
       "                                                 url  \\\n",
       "0  https://huggingface.co/datasets/openpecha/STT_...   \n",
       "1  https://huggingface.co/datasets/openpecha/STT_...   \n",
       "2  https://huggingface.co/datasets/openpecha/STT_...   \n",
       "3  https://huggingface.co/datasets/openpecha/STT_...   \n",
       "4  https://huggingface.co/datasets/openpecha/STT_...   \n",
       "\n",
       "                                inference_transcript  audio_duration  \\\n",
       "0                                             ལེའུ་བ        9.960182   \n",
       "1                                                 ཅུ        9.960182   \n",
       "2                            ་གཅིག་པ། བར་ཆད་དང་ཉེན་ཁ        9.960182   \n",
       "3                                          ། ལྷ་ལྡན་        9.931741   \n",
       "4  ཆོས་ཀྱི་ཞིང་ཁམས་སུ། །མཛའ་གཅུགས་ཟུང་དེ་ཁ་ཕྱོགས་...        8.822526   \n",
       "\n",
       "   group_id                            file_name     state      id  \n",
       "0         7   STT_AB00314_0001_9052_to_19013.mp3  imported  264473  \n",
       "1         7  STT_AB00314_0002_19013_to_28973.mp3  imported  264474  \n",
       "2         7  STT_AB00314_0003_28973_to_38933.mp3  imported  264475  \n",
       "3         7  STT_AB00314_0004_39598_to_49530.mp3  imported  264476  \n",
       "4         7  STT_AB00314_0005_59206_to_68029.mp3  imported  264477  "
      ]
     },
     "execution_count": 79,
     "metadata": {},
     "output_type": "execute_result"
    }
   ],
   "source": [
    "df.head()"
   ]
  },
  {
   "cell_type": "code",
   "execution_count": 80,
   "metadata": {},
   "outputs": [],
   "source": [
    "df = df[['id', 'group_id', 'file_name', 'url', 'inference_transcript', 'audio_duration', 'state']]"
   ]
  },
  {
   "cell_type": "code",
   "execution_count": 81,
   "metadata": {},
   "outputs": [
    {
     "data": {
      "text/html": [
       "<div>\n",
       "<style scoped>\n",
       "    .dataframe tbody tr th:only-of-type {\n",
       "        vertical-align: middle;\n",
       "    }\n",
       "\n",
       "    .dataframe tbody tr th {\n",
       "        vertical-align: top;\n",
       "    }\n",
       "\n",
       "    .dataframe thead th {\n",
       "        text-align: right;\n",
       "    }\n",
       "</style>\n",
       "<table border=\"1\" class=\"dataframe\">\n",
       "  <thead>\n",
       "    <tr style=\"text-align: right;\">\n",
       "      <th></th>\n",
       "      <th>id</th>\n",
       "      <th>group_id</th>\n",
       "      <th>file_name</th>\n",
       "      <th>url</th>\n",
       "      <th>inference_transcript</th>\n",
       "      <th>audio_duration</th>\n",
       "      <th>state</th>\n",
       "    </tr>\n",
       "  </thead>\n",
       "  <tbody>\n",
       "    <tr>\n",
       "      <th>0</th>\n",
       "      <td>264473</td>\n",
       "      <td>7</td>\n",
       "      <td>STT_AB00314_0001_9052_to_19013.mp3</td>\n",
       "      <td>https://huggingface.co/datasets/openpecha/STT_...</td>\n",
       "      <td>ལེའུ་བ</td>\n",
       "      <td>9.960182</td>\n",
       "      <td>imported</td>\n",
       "    </tr>\n",
       "    <tr>\n",
       "      <th>1</th>\n",
       "      <td>264474</td>\n",
       "      <td>7</td>\n",
       "      <td>STT_AB00314_0002_19013_to_28973.mp3</td>\n",
       "      <td>https://huggingface.co/datasets/openpecha/STT_...</td>\n",
       "      <td>ཅུ</td>\n",
       "      <td>9.960182</td>\n",
       "      <td>imported</td>\n",
       "    </tr>\n",
       "    <tr>\n",
       "      <th>2</th>\n",
       "      <td>264475</td>\n",
       "      <td>7</td>\n",
       "      <td>STT_AB00314_0003_28973_to_38933.mp3</td>\n",
       "      <td>https://huggingface.co/datasets/openpecha/STT_...</td>\n",
       "      <td>་གཅིག་པ། བར་ཆད་དང་ཉེན་ཁ</td>\n",
       "      <td>9.960182</td>\n",
       "      <td>imported</td>\n",
       "    </tr>\n",
       "    <tr>\n",
       "      <th>3</th>\n",
       "      <td>264476</td>\n",
       "      <td>7</td>\n",
       "      <td>STT_AB00314_0004_39598_to_49530.mp3</td>\n",
       "      <td>https://huggingface.co/datasets/openpecha/STT_...</td>\n",
       "      <td>། ལྷ་ལྡན་</td>\n",
       "      <td>9.931741</td>\n",
       "      <td>imported</td>\n",
       "    </tr>\n",
       "    <tr>\n",
       "      <th>4</th>\n",
       "      <td>264477</td>\n",
       "      <td>7</td>\n",
       "      <td>STT_AB00314_0005_59206_to_68029.mp3</td>\n",
       "      <td>https://huggingface.co/datasets/openpecha/STT_...</td>\n",
       "      <td>ཆོས་ཀྱི་ཞིང་ཁམས་སུ། །མཛའ་གཅུགས་ཟུང་དེ་ཁ་ཕྱོགས་...</td>\n",
       "      <td>8.822526</td>\n",
       "      <td>imported</td>\n",
       "    </tr>\n",
       "  </tbody>\n",
       "</table>\n",
       "</div>"
      ],
      "text/plain": [
       "       id  group_id                            file_name  \\\n",
       "0  264473         7   STT_AB00314_0001_9052_to_19013.mp3   \n",
       "1  264474         7  STT_AB00314_0002_19013_to_28973.mp3   \n",
       "2  264475         7  STT_AB00314_0003_28973_to_38933.mp3   \n",
       "3  264476         7  STT_AB00314_0004_39598_to_49530.mp3   \n",
       "4  264477         7  STT_AB00314_0005_59206_to_68029.mp3   \n",
       "\n",
       "                                                 url  \\\n",
       "0  https://huggingface.co/datasets/openpecha/STT_...   \n",
       "1  https://huggingface.co/datasets/openpecha/STT_...   \n",
       "2  https://huggingface.co/datasets/openpecha/STT_...   \n",
       "3  https://huggingface.co/datasets/openpecha/STT_...   \n",
       "4  https://huggingface.co/datasets/openpecha/STT_...   \n",
       "\n",
       "                                inference_transcript  audio_duration     state  \n",
       "0                                             ལེའུ་བ        9.960182  imported  \n",
       "1                                                 ཅུ        9.960182  imported  \n",
       "2                            ་གཅིག་པ། བར་ཆད་དང་ཉེན་ཁ        9.960182  imported  \n",
       "3                                          ། ལྷ་ལྡན་        9.931741  imported  \n",
       "4  ཆོས་ཀྱི་ཞིང་ཁམས་སུ། །མཛའ་གཅུགས་ཟུང་དེ་ཁ་ཕྱོགས་...        8.822526  imported  "
      ]
     },
     "execution_count": 81,
     "metadata": {},
     "output_type": "execute_result"
    }
   ],
   "source": [
    "df.head()"
   ]
  },
  {
   "cell_type": "code",
   "execution_count": 67,
   "metadata": {},
   "outputs": [],
   "source": [
    "df.to_csv('STT_AB00314.csv', index=False)"
   ]
  },
  {
   "cell_type": "code",
   "execution_count": null,
   "metadata": {},
   "outputs": [],
   "source": []
  }
 ],
 "metadata": {
  "kernelspec": {
   "display_name": ".env",
   "language": "python",
   "name": "python3"
  },
  "language_info": {
   "codemirror_mode": {
    "name": "ipython",
    "version": 3
   },
   "file_extension": ".py",
   "mimetype": "text/x-python",
   "name": "python",
   "nbconvert_exporter": "python",
   "pygments_lexer": "ipython3",
   "version": "3.10.12"
  }
 },
 "nbformat": 4,
 "nbformat_minor": 2
}
