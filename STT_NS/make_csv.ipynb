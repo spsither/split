{
 "cells": [
  {
   "cell_type": "code",
   "execution_count": null,
   "metadata": {},
   "outputs": [],
   "source": [
    "group = \"gb\"\n",
    "target_directory = f\"segments_ns_{group}\""
   ]
  },
  {
   "cell_type": "code",
   "execution_count": null,
   "metadata": {},
   "outputs": [],
   "source": [
    "import os\n",
    "def getTimeSpan(filename):\n",
    "    filename = os.path.splitext(os.path.basename(filename))[0]\n",
    "    try:\n",
    "        if \"_to_\" in filename:\n",
    "            start, end = filename.split(\"_to_\")\n",
    "            start = start.split(\"_\")[-1]\n",
    "            end = end.split(\"_\")[0]\n",
    "            end = float(end)\n",
    "            start = float(start)\n",
    "            return (end - start)/1000\n",
    "        else:\n",
    "            start, end = filename.split(\"-\")\n",
    "            start = start.split(\"_\")[-1]\n",
    "            end = end.split(\"_\")[0]\n",
    "            end = float(end)\n",
    "            start = float(start)\n",
    "            return (end - start)\n",
    "    except Exception as err:\n",
    "        print(f\"filename is:'{filename}'. Could not parse to get time span.\")\n",
    "        return 0\n",
    "    \n",
    "getTimeSpan(\"STT_AB00094_0057_290646_to_295860.mp3\")\n",
    "getTimeSpan(\"STT_AB00094_0057_290646_to_295860\")"
   ]
  },
  {
   "cell_type": "code",
   "execution_count": null,
   "metadata": {},
   "outputs": [],
   "source": [
    "import pandas as pd\n",
    "# Set Header Names\n",
    "all_tasks = \"/home/monlamai/all.csv\"\n",
    "columns = [\n",
    "    'id',\n",
    "    'group_id',\n",
    "    'state',\n",
    "    'inference_transcript',\n",
    "    'transcript',\n",
    "    'reviewed_transcript',\n",
    "    'final_transcript',\n",
    "    'file_name',\n",
    "    'url',\n",
    "    'transcriber_id',\n",
    "    'transcriber',\n",
    "    'reviewer_id',\n",
    "    'reviewer',\n",
    "    'final_reviewer_id',\n",
    "    'final_reviewer',\n",
    "    'created_at',\n",
    "    'submitted_at',\n",
    "    'reviewed_at',\n",
    "    'finalised_reviewed_at',\n",
    "    'duration',\n",
    "    'audio_duration'\n",
    "    ]\n",
    "\n",
    "df = pd.read_csv(all_tasks, header=None, names=columns)\n",
    "exist_files = set(df.file_name)"
   ]
  },
  {
   "cell_type": "code",
   "execution_count": null,
   "metadata": {},
   "outputs": [],
   "source": [
    "import os\n",
    "rows = []\n",
    "from transformers import pipeline\n",
    "generator = pipeline(model=\"openpecha/wav2vec2_run8\")\n",
    "\n",
    "for root, _, files in os.walk(target_directory):\n",
    "        for file in files:\n",
    "            if file in exist_files:\n",
    "                continue\n",
    "            source_file_path = os.path.join(root, file)\n",
    "            opt = generator(f\"/media/monlamai/SSD/GitHub/split/STT_NS/segments_ns_{group}/{file}\")\n",
    "            inf = opt['text']\n",
    "            print(inf)\n",
    "            rows.append([file, f\"https://d38pmlk0v88drf.cloudfront.net/stt_pecha_tools/{file}\", inf , getTimeSpan(file)])"
   ]
  },
  {
   "cell_type": "code",
   "execution_count": null,
   "metadata": {},
   "outputs": [],
   "source": [
    "rows[0]"
   ]
  },
  {
   "cell_type": "code",
   "execution_count": null,
   "metadata": {},
   "outputs": [],
   "source": [
    "import pandas as pd\n",
    "df = pd.DataFrame(rows, columns =['file_name', 'url', 'inference_transcript', 'audio_duration'])"
   ]
  },
  {
   "cell_type": "code",
   "execution_count": null,
   "metadata": {},
   "outputs": [],
   "source": [
    "df.head()"
   ]
  },
  {
   "cell_type": "code",
   "execution_count": null,
   "metadata": {},
   "outputs": [],
   "source": [
    "df.to_csv(f\"segments_ns_{group}_inf.csv\", index=False)"
   ]
  },
  {
   "cell_type": "code",
   "execution_count": null,
   "metadata": {},
   "outputs": [],
   "source": [
    "df[['inference_transcript','url']].iloc[0:10].to_dict()"
   ]
  },
  {
   "cell_type": "code",
   "execution_count": null,
   "metadata": {},
   "outputs": [],
   "source": [
    "total = len(df)\n",
    "print(total)\n",
    "\n",
    "half = int(total/2)\n",
    "print(half)\n",
    "\n",
    "quarter = int(total/4)\n",
    "print(quarter)"
   ]
  },
  {
   "cell_type": "code",
   "execution_count": null,
   "metadata": {},
   "outputs": [],
   "source": [
    "# df[:1000].to_csv(f\"segments_p1_ns_{group}_inf.csv\", index=False)\n",
    "# df[1000:2000].to_csv(f\"segments_p2_ns_{group}_inf.csv\", index=False)\n",
    "# df[2000:3000].to_csv(f\"segments_p3_ns_{group}_inf.csv\", index=False)\n",
    "# df[3000:4000].to_csv(f\"segments_p4_ns_{group}_inf.csv\", index=False)\n",
    "# df[4000:5000].to_csv(f\"segments_p5_ns_{group}_inf.csv\", index=False)\n",
    "# df[5000:6000].to_csv(f\"segments_p6_ns_{group}_inf.csv\", index=False)\n",
    "# df[6000:7000].to_csv(f\"segments_p7_ns_{group}_inf.csv\", index=False)\n",
    "# df[7000:8000].to_csv(f\"segments_p8_ns_{group}_inf.csv\", index=False)\n",
    "# df[8000:].to_csv(f\"segments_p9_ns_{group}_inf.csv\", index=False)\n",
    "\n",
    "df[:1000].to_csv(f\"segments_p1_ns_{group}_inf.csv\", index=False)\n",
    "df[1000:].to_csv(f\"segments_p2_ns_{group}_inf.csv\", index=False)"
   ]
  }
 ],
 "metadata": {
  "kernelspec": {
   "display_name": ".env",
   "language": "python",
   "name": "python3"
  },
  "language_info": {
   "codemirror_mode": {
    "name": "ipython",
    "version": 3
   },
   "file_extension": ".py",
   "mimetype": "text/x-python",
   "name": "python",
   "nbconvert_exporter": "python",
   "pygments_lexer": "ipython3",
   "version": "3.10.12"
  },
  "orig_nbformat": 4
 },
 "nbformat": 4,
 "nbformat_minor": 2
}
